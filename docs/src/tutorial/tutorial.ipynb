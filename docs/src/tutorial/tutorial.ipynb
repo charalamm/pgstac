{
 "cells": [
  {
   "cell_type": "markdown",
   "id": "c6109166-5398-4b4a-9ac6-99b2e53c783f",
   "metadata": {},
   "source": [
    "# PgSTAC Tutorial\n",
    "This tutorial is designed to run in the docker compose environment defined in the docker-compose.yml file at the root of the pgstac git repository. For instructions on installing Docker and Docker Compose, you can go to https://docs.docker.com/get-docker/. The instructions provided here use the newer Compose V2 `docker compose` rather than `docker-compose` now that Docker Compose is included as part of latest version of Docker.\n",
    "\n",
    "To get started with this tutorial you should already have checked out the pgstac repository from github using `git clone https://github.com/stac-utils/pgstac`\n",
    "\n",
    "To start the database, a STAC FastAPI instance, and the Jupyter Notebook for this tutorial: \n",
    "```\n",
    "cd docs/src/tutorial\n",
    "docker compose up -d tutorial\n",
    "```\n",
    "\n",
    "- You can then start up the workshop by going to http://localhost:8891/notebooks/tutorial.ipynb?token=token\n",
    "- You can get to a STAC FastAPI PgSTAC instance at http://localhost:8890 (although this will not work until we have installed PgSTAC onto our Database later)\n"
   ]
  },
  {
   "cell_type": "code",
   "execution_count": 9,
   "id": "af2479df",
   "metadata": {},
   "outputs": [
    {
     "name": "stdout",
     "output_type": "stream",
     "text": [
      "docker: Error response from daemon: Conflict. The container name \"/pgstac-tutorial\" is already in use by container \"5bf96cc3a75e1ec90e65c42a4e0da356a728d46a8e746731c0af457713533ea2\". You have to remove (or rename) that container to be able to reuse that name.\n",
      "See 'docker run --help'.\n"
     ]
    }
   ],
   "source": [
    "!docker run --name pgstac-tutorial -e POSTGRES_PASSWORD=password -e PGPASSWORD=password -d postgis/postgis\n"
   ]
  },
  {
   "cell_type": "code",
   "execution_count": 6,
   "id": "cb967235",
   "metadata": {},
   "outputs": [
    {
     "name": "stdout",
     "output_type": "stream",
     "text": [
      "                                                    List of databases\n",
      "       Name       |  Owner   | Encoding |  Collate   |   Ctype    | ICU Locale | Locale Provider |   Access privileges   \n",
      "------------------+----------+----------+------------+------------+------------+-----------------+-----------------------\n",
      " postgres         | postgres | UTF8     | en_US.utf8 | en_US.utf8 |            | libc            | \n",
      " template0        | postgres | UTF8     | en_US.utf8 | en_US.utf8 |            | libc            | =c/postgres          +\n",
      "                  |          |          |            |            |            |                 | postgres=CTc/postgres\n",
      " template1        | postgres | UTF8     | en_US.utf8 | en_US.utf8 |            | libc            | =c/postgres          +\n",
      "                  |          |          |            |            |            |                 | postgres=CTc/postgres\n",
      " template_postgis | postgres | UTF8     | en_US.utf8 | en_US.utf8 |            | libc            | \n",
      "(4 rows)\n",
      "\n"
     ]
    }
   ],
   "source": [
    "!docker exec pgstac-tutorial psql -l -U postgres\n"
   ]
  },
  {
   "cell_type": "markdown",
   "id": "471aeb2b-806f-4ffb-ae68-3f6edb4a4a8a",
   "metadata": {
    "jp-MarkdownHeadingCollapsed": true
   },
   "source": [
    "## IPython Magic\n",
    "\n",
    "This installs a \"magic\" command for the Jupyter Notebook that will allow us to run psql commands to help us explore the database.\n",
    "The `%psql` line magic is the same as running a command using psql in the terminal.\n",
    "The `%%psql` cell magic runs the rest of the cell as the stdin to psql. This tutorial uses a system call to the psql utility. This is already installed on the Docker image that comes with this Tutorial. On Debian/Ubuntu clients, this can be installed using `sudo apt install Postgres-client`."
   ]
  },
  {
   "cell_type": "code",
   "execution_count": 2,
   "id": "ba677f8f-90b1-4151-95ac-9b006c27be6a",
   "metadata": {},
   "outputs": [],
   "source": [
    "from IPython.core.magic import register_line_cell_magic\n",
    "from IPython.display import display, HTML, JSON\n",
    "import orjson\n",
    "import shlex\n",
    "from subprocess import Popen, PIPE\n",
    "\n",
    "@register_line_cell_magic\n",
    "def psql(line=None, cell=None):\n",
    "    args = [\"-X\"] + (shlex.split(line) or [\"-H\"])\n",
    "    if '-1' in args:\n",
    "        args += ['-v', 'ON_ERROR_STOP=1']\n",
    "    if cell:\n",
    "        args += ['-f', '/dev/stdin']\n",
    "    else:\n",
    "        cell = ''\n",
    "    r=Popen(['psql', *args], stdin=PIPE, stdout=PIPE, stderr=PIPE, text=True)\n",
    "    out, err = r.communicate(input=cell)\n",
    "\n",
    "    if \"-H\" in args:\n",
    "        print(err)\n",
    "        display(HTML(out))\n",
    "    elif \"-At\":\n",
    "        print(err)\n",
    "        for line in out.strip().split('\\n'):\n",
    "            try:\n",
    "                display(orjson.loads(line))\n",
    "            except:\n",
    "                display(line)\n",
    "    else:\n",
    "        print(err)\n",
    "        print(out)\n"
   ]
  },
  {
   "cell_type": "markdown",
   "id": "4f96c2b8-567a-447d-b7e2-916babbea329",
   "metadata": {},
   "source": [
    "## Check the standard Postgres environment variables \n",
    "Most tools that work with Postgres use the standard environment variables that are used by all of the tools that come standard as part of Postgres. The pypgstac python utility that comes with pgstac and is installable from pip."
   ]
  },
  {
   "cell_type": "code",
   "execution_count": 3,
   "id": "4ba6284d-b570-4b01-a3ef-4b9535038441",
   "metadata": {},
   "outputs": [
    {
     "name": "stdout",
     "output_type": "stream",
     "text": [
      "env: PGDATABASE=pgstac\n",
      "env: PGUSER=adminrole\n",
      "env: PGPASSWORD=password\n",
      "env: PGHOST=localhost\n",
      "env: PGPORT=5438\n"
     ]
    }
   ],
   "source": [
    "%env PGDATABASE=pgstac\n",
    "%env PGUSER=adminrole\n",
    "%env PGPASSWORD=password\n",
    "%env PGHOST=localhost\n",
    "%env PGPORT=5438\n"
   ]
  },
  {
   "cell_type": "markdown",
   "id": "612d0c8b-b5b3-4676-ac59-7fa198414a59",
   "metadata": {},
   "source": [
    "Check that we can login to the database. We will use a call out to the command line psql utility using the `-l` option to list all databases."
   ]
  },
  {
   "cell_type": "code",
   "execution_count": 4,
   "id": "b512a696-03d2-4f1d-a5b2-dd694fb853d8",
   "metadata": {},
   "outputs": [
    {
     "name": "stdout",
     "output_type": "stream",
     "text": [
      "psql: error: connection to server at \"localhost\" (127.0.0.1), port 5438 failed: Connection refused\n",
      "\tIs the server running on that host and accepting TCP/IP connections?\n",
      "\n"
     ]
    },
    {
     "data": {
      "text/html": [],
      "text/plain": [
       "<IPython.core.display.HTML object>"
      ]
     },
     "metadata": {},
     "output_type": "display_data"
    }
   ],
   "source": [
    "%psql -H -l\n"
   ]
  },
  {
   "cell_type": "markdown",
   "id": "c4e76380-9548-47c5-90fa-324b352b6a43",
   "metadata": {},
   "source": [
    "## Install PgSTAC to the Database\n",
    "This docker-compose.yml with this tutorial uses the postgis/postgis:15-3.4 docker image as the base Postgres. PgSTAC requires Postgres>=14 and PostGIS>=3.1. We will now install PgSTAC on the database using the command line `pypgstac migrate` tool. Pypgstac is already installed in the docker image running this notebook. To install otherwise `pip install --upgrade pypgstac[psycopg]`."
   ]
  },
  {
   "cell_type": "code",
   "execution_count": 4,
   "id": "60447c3a-aa07-4624-8152-46772e8afd8d",
   "metadata": {},
   "outputs": [
    {
     "name": "stdout",
     "output_type": "stream",
     "text": [
      "DEBUG:pypgstac.db:PG VERSION: 15.4 (Debian 15.4-2.pgdg110+1).\n",
      "INFO:pypgstac.migrate:Migrating PGStac on PostgreSQL Version 15.4 (Debian 15.4-2.pgdg110+1)\n",
      "DEBUG:pypgstac.db:VERSION: 0.8.1\n",
      "INFO:pypgstac.migrate:Target database already at version: 0.8.1\n",
      "0.8.1\n"
     ]
    }
   ],
   "source": [
    "!pypgstac migrate 0.8.1 --debug\n"
   ]
  },
  {
   "cell_type": "markdown",
   "id": "1b3567b0-15b7-43ad-9531-9ee316059737",
   "metadata": {},
   "source": [
    "## Check PgSTAC Install\n",
    "We can use the psql command line utility to login to our database now and to look around. Let's show what schemas are in the database. SQL Commands beginning with `\\` are meta commands in psql. In this case `\\dn` is asking to show all schemas (also called namespaces which explains the \"n\"). We can see that we have a \"public\" schema which is there by default in all Postgres instances as well as a \"pgstac\" schema that is owned by the \"pgstac_admin\" role - this schema as well as the pgstac_admin role were created by the `pypgstac migrate` tool."
   ]
  },
  {
   "cell_type": "code",
   "execution_count": 5,
   "id": "9ab81b25-da35-47b6-bccb-e2b9db64bac4",
   "metadata": {},
   "outputs": [
    {
     "name": "stdout",
     "output_type": "stream",
     "text": [
      "\n"
     ]
    },
    {
     "data": {
      "text/html": [
       "<table border=\"1\">\n",
       "  <caption>List of schemas</caption>\n",
       "  <tr>\n",
       "    <th align=\"center\">Name</th>\n",
       "    <th align=\"center\">Owner</th>\n",
       "  </tr>\n",
       "  <tr valign=\"top\">\n",
       "    <td align=\"left\">pgstac</td>\n",
       "    <td align=\"left\">pgstac_admin</td>\n",
       "  </tr>\n",
       "  <tr valign=\"top\">\n",
       "    <td align=\"left\">public</td>\n",
       "    <td align=\"left\">pg_database_owner</td>\n",
       "  </tr>\n",
       "  <tr valign=\"top\">\n",
       "    <td align=\"left\">tiger</td>\n",
       "    <td align=\"left\">adminrole</td>\n",
       "  </tr>\n",
       "  <tr valign=\"top\">\n",
       "    <td align=\"left\">tiger_data</td>\n",
       "    <td align=\"left\">adminrole</td>\n",
       "  </tr>\n",
       "  <tr valign=\"top\">\n",
       "    <td align=\"left\">topology</td>\n",
       "    <td align=\"left\">adminrole</td>\n",
       "  </tr>\n",
       "</table>\n",
       "<p>(5 rows)<br />\n",
       "</p>\n"
      ],
      "text/plain": [
       "<IPython.core.display.HTML object>"
      ]
     },
     "metadata": {},
     "output_type": "display_data"
    }
   ],
   "source": [
    "%%psql\n",
    "\\dn\n"
   ]
  },
  {
   "cell_type": "markdown",
   "id": "38217158-9051-4e4e-9777-72d4b6d7de9a",
   "metadata": {},
   "source": [
    "Postgres, much like your shell or python, has a configurable path that it uses to find anything in the database. It is controlled by the \"SEARCH_PATH\" [setting](https://www.Postgres.org/docs/current/config-setting.html) in Postgres. Postgres will search each schema in the order defined by the \"SEARCH_PATH\" to find database objects (tables, functions, views, etc). By default, the \"SEARCH_PATH\" is set to search a schema with the same name as the currently logged in role (which is \"pgstac\" with the docker environment we are using) followed by the \"public\" schema."
   ]
  },
  {
   "cell_type": "code",
   "execution_count": 7,
   "id": "2ee0612d-9680-4ab0-8e73-93f85fe3f667",
   "metadata": {},
   "outputs": [
    {
     "name": "stdout",
     "output_type": "stream",
     "text": [
      "\n"
     ]
    },
    {
     "data": {
      "text/html": [
       "<table border=\"1\">\n",
       "  <tr>\n",
       "    <th align=\"center\">search_path</th>\n",
       "  </tr>\n",
       "  <tr valign=\"top\">\n",
       "    <td align=\"left\">pgstac, public</td>\n",
       "  </tr>\n",
       "</table>\n",
       "<p>(1 row)<br />\n",
       "</p>\n"
      ],
      "text/plain": [
       "<IPython.core.display.HTML object>"
      ]
     },
     "metadata": {},
     "output_type": "display_data"
    }
   ],
   "source": [
    "%%psql\n",
    "SHOW SEARCH_PATH;\n"
   ]
  },
  {
   "cell_type": "markdown",
   "id": "faf8ec4b-d984-4b1b-8cf9-2ad58244bf5d",
   "metadata": {},
   "source": [
    "Since we have installed PgSTAC into the \"pgstac\" schema, we need to make sure that \"pgstac\" is available in our envrionment. We can do this temporarily using the \"SET\" command in Postgres `SET SEARCH_PATH TO pgstac, public;`. Or, we can modify the setting at the DATBASE or ROLE level. For this tutorial, we will set the default setting for \"SEARCH_PATH\" at the DATABASE level."
   ]
  },
  {
   "cell_type": "code",
   "execution_count": 8,
   "id": "956da7f8-291b-47fa-94b5-a55ffae81811",
   "metadata": {},
   "outputs": [
    {
     "name": "stdout",
     "output_type": "stream",
     "text": [
      "\n"
     ]
    },
    {
     "data": {
      "text/html": [
       "<p>ALTER DATABASE</p>\n",
       "<table border=\"1\">\n",
       "  <tr>\n",
       "    <th align=\"center\">search_path</th>\n",
       "  </tr>\n",
       "  <tr valign=\"top\">\n",
       "    <td align=\"left\">pgstac, public</td>\n",
       "  </tr>\n",
       "</table>\n",
       "<p>(1 row)<br />\n",
       "</p>\n"
      ],
      "text/plain": [
       "<IPython.core.display.HTML object>"
      ]
     },
     "metadata": {},
     "output_type": "display_data"
    }
   ],
   "source": [
    "%%psql\n",
    "ALTER DATABASE pgstac SET SEARCH_PATH TO pgstac,public;\n",
    "SHOW SEARCH_PATH;\n"
   ]
  },
  {
   "cell_type": "markdown",
   "id": "41ef7dd6-8f23-45c9-80e8-646773aa0861",
   "metadata": {},
   "source": [
    "## Configuring Postgres Specific Settings\n",
    "There are many other settings that can be set at the SYSTEM, DATABASE, ROLE, or SESSION level. If something is set at multiple levels, the most specific level would win, so even though we have set the SEARCH_PATH at the DATABASE level, we could override it in a SESSION by using `SET SEARCH_PATH TO ...`.\n",
    "\n",
    "Out of the box as well as on most hosted services, the default Postgres configuration is extremely conservative and should be adjusted. There is *NO* one-size-fits-all set of settings even for a given database host instance size. PgSTAC comes with a function that can help to determine what a good starting point may be for some of the most important settings. Fine tuning a database can be an entire career though, so it is important to undestand some of the factors where you may want to adjust these settings. The function takes a single argument which is the memory size of the instance."
   ]
  },
  {
   "cell_type": "code",
   "execution_count": 9,
   "id": "96afe3ea-ed7a-4906-af8d-de757d4f6fe9",
   "metadata": {},
   "outputs": [
    {
     "name": "stdout",
     "output_type": "stream",
     "text": [
      "psql:/dev/stdin:1: NOTICE:  effective_cache_size of 12 GB is set appropriately for a system with 16 GB\n",
      "psql:/dev/stdin:1: NOTICE:  shared_buffers of 4096 MB is set appropriately for a system with 16 GB\n",
      "psql:/dev/stdin:1: WARNING:  maintenance_work_mem of 512 MB is set low for shared_buffers of 4915 MB. Recomended value between 983 MB and 1475 MB\n",
      "psql:/dev/stdin:1: WARNING:  work_mem setting of 128 MB is set low for 20 max_connections you may consider raising work_mem to 246 MB or increasing max_connections to 38\n",
      "psql:/dev/stdin:1: NOTICE:  random_page_cost and seq_page_cost set appropriately for SSD\n",
      "psql:/dev/stdin:1: NOTICE:  VALUES FOR PGSTAC VARIABLES\n",
      "psql:/dev/stdin:1: NOTICE:  These can be set either as GUC system variables or by setting in the pgstac_settings table.\n",
      "psql:/dev/stdin:1: NOTICE:  context is set to off from the pgstac_settings table\n",
      "psql:/dev/stdin:1: NOTICE:  context_estimated_count is set to 100000 from the pgstac_settings table\n",
      "psql:/dev/stdin:1: NOTICE:  context_estimated_cost is set to 100000 from the pgstac_settings table\n",
      "psql:/dev/stdin:1: NOTICE:  context_stats_ttl is set to 1 day from the pgstac_settings table\n",
      "psql:/dev/stdin:1: NOTICE:  default_filter_lang is set to cql2-json from the pgstac_settings table\n",
      "psql:/dev/stdin:1: NOTICE:  additional_properties is set to true from the pgstac_settings table\n",
      "psql:/dev/stdin:1: NOTICE:  use_queue is set to false from the pgstac_settings table\n",
      "psql:/dev/stdin:1: NOTICE:  queue_timeout is set to 10 minutes from the pgstac_settings table\n",
      "psql:/dev/stdin:1: NOTICE:  update_collection_extent is set to false from the pgstac_settings table\n",
      "psql:/dev/stdin:1: NOTICE:  format_cache is set to false from the pgstac_settings table\n",
      "psql:/dev/stdin:1: NOTICE:  Consider intalling pg_cron which can be used to automate tasks\n",
      "psql:/dev/stdin:1: NOTICE:  Consider installing the pgstattuple extension which can be used to help maintain tables and indexes.\n",
      "psql:/dev/stdin:1: NOTICE:  Consider installing the pg_stat_statements extension which is very helpful for tracking the types of queries on the system\n",
      "\n"
     ]
    },
    {
     "data": {
      "text/html": [
       "<table border=\"1\">\n",
       "  <tr>\n",
       "    <th align=\"center\">check_pgstac_settings</th>\n",
       "  </tr>\n",
       "  <tr valign=\"top\">\n",
       "    <td align=\"left\">&nbsp; </td>\n",
       "  </tr>\n",
       "</table>\n",
       "<p>(1 row)<br />\n",
       "</p>\n"
      ],
      "text/plain": [
       "<IPython.core.display.HTML object>"
      ]
     },
     "metadata": {},
     "output_type": "display_data"
    }
   ],
   "source": [
    "%%psql\n",
    "SELECT check_pgstac_settings('16GB');\n"
   ]
  },
  {
   "cell_type": "markdown",
   "id": "cc4aabdd-51c2-4200-86ff-4b2eaf32a1b0",
   "metadata": {},
   "source": [
    "### Important Settings That You Should Always Review\n",
    "\n",
    "#### [effective_cache_size](http://www.Postgres.org/docs/current/static/runtime-config-resource.html#GUC-SHARED-BUFFERS)\n",
    "This is the amount of memory that is estimated to be left on the system for the OS and all other processes. This is generally 1/2 to 3/4 of the total system memory.\n",
    "\n",
    "#### [shared_buffers](http://www.Postgres.org/docs/current/static/runtime-config-resource.html#GUC-SHARED-BUFFERS)\n",
    "This setting is used to tell the database how much memory is available to dedicate to Postgres for caching data. General rule-of-thumb is to set this to 1/4 of the total system memory.\n",
    "\n",
    "#### [work_mem](http://www.Postgres.org/docs/current/static/runtime-config-resource.html#GUC-WORK-MEM) and [max_connections](http://www.Postgres.org/docs/current/static/runtime-config-connection.html#GUC-MAX-CONNECTIONS)\n",
    "This is the memory that is allowed to be used per sort operation per connection for things like sorting and complex queries. This setting will really vary with the use of the database and the number of max connections that are needed in the database. In general `max_connections * work_mem` should be less than the setting for `shared_buffers`. If you have individual queries that you know will be doing larger sorts, the `work_mem` setting can be set at run time: `SET work_mem TO '40MB';`\n",
    "\n",
    "#### [maintenance_work_mem](http://www.Postgres.org/docs/current/static/runtime-config-resource.html#GUC-MAINTENANCE-WORK-MEM)\n",
    "This is the amount of memory that is made available for operations such as Vacuuming the database and Creating Indexes. This memory will only be used once at a given time, so it is OK to set this significantly higher than work_mem. 1/4 of the `shared_buffers` is a reasonable place to set this.\n",
    "\n",
    "#### [seq_page_cost](http://www.Postgres.org/docs/current/static/runtime-config-query.html#GUC-SEQUENTIAL-PAGE-COST) and [random_page_cost](https://www.Postgres.org/docs/current/runtime-config-query.html#GUC-RANDOM-PAGE-COST)\n",
    "These two variables are interpreted together and it is the ratio of `random_page_cost / seq_page_cost` that really matters. Generally, `seq_page_cost` should be left at the default of 1 and random_page_cost should be changed to reflect the nature of the underlying storage. The default for `random_page_cost` is set to 4 which is appropriate for Spinning Hard Disk Drives. For use with Solid State Drives (which is almost always what a modern hosted platform such as RDS uses), this should be set to 1.1. Having `random_page_cost` set too high can lead to wayyyy slower queries as the Postgres query planner will tend to prefer sequential scans over index scans for many queries.\n",
    "\n",
    "#### [temp_buffers](https://www.Postgres.org/docs/current/runtime-config-resource.html#GUC_TEMP_BUFFERS)\n",
    "If using Temporary Tables, increasing this setting can help to avoid spilling to disk. "
   ]
  },
  {
   "cell_type": "code",
   "execution_count": 10,
   "id": "39a0e696-1d62-4568-823c-82eb6dae8745",
   "metadata": {},
   "outputs": [
    {
     "name": "stdout",
     "output_type": "stream",
     "text": [
      "\n"
     ]
    },
    {
     "data": {
      "text/html": [
       "<p>ALTER SYSTEM</p>\n",
       "<p>ALTER SYSTEM</p>\n",
       "<p>ALTER SYSTEM</p>\n",
       "<p>ALTER SYSTEM</p>\n",
       "<p>ALTER SYSTEM</p>\n",
       "<p>ALTER SYSTEM</p>\n",
       "<p>ALTER SYSTEM</p>\n",
       "<table border=\"1\">\n",
       "  <tr>\n",
       "    <th align=\"center\">pg_reload_conf</th>\n",
       "  </tr>\n",
       "  <tr valign=\"top\">\n",
       "    <td align=\"left\">t</td>\n",
       "  </tr>\n",
       "</table>\n",
       "<p>(1 row)<br />\n",
       "</p>\n"
      ],
      "text/plain": [
       "<IPython.core.display.HTML object>"
      ]
     },
     "metadata": {},
     "output_type": "display_data"
    }
   ],
   "source": [
    "%%psql\n",
    "ALTER SYSTEM SET EFFECTIVE_CACHE_SIZE TO '12GB';\n",
    "ALTER SYSTEM SET SHARED_BUFFERS TO '4GB';\n",
    "ALTER SYSTEM SET WORK_MEM TO '128MB';\n",
    "ALTER SYSTEM SET MAINTENANCE_WORK_MEM TO '512MB';\n",
    "ALTER SYSTEM SET MAX_CONNECTIONS TO 20;\n",
    "ALTER SYSTEM SET RANDOM_PAGE_COST TO 1.1;\n",
    "ALTER SYSTEM SET TEMP_BUFFERS TO '512MB';\n",
    "SELECT pg_reload_conf();\n"
   ]
  },
  {
   "cell_type": "markdown",
   "id": "173af9a5-4ab2-4d8c-9b46-10ca9dcc155e",
   "metadata": {},
   "source": [
    "Note that these settings could also be set in the postgres.conf settings file on the database server or using the configuration editing tools provided by most Database as a Service providers. "
   ]
  },
  {
   "cell_type": "markdown",
   "id": "c29b2f22-e232-480f-8a98-523fc7dd7810",
   "metadata": {},
   "source": [
    "## PgSTAC Roles\n",
    "PgSTAC installs three roles with different limitations.\n",
    "- \"pgstac_admin\" is the owner of the pgstac schema and all items in the schema. This role has the ability to use or modify anything in pgstac and should be used sparingly.\n",
    "- \"pgstac_ingest\" has read/write permissions to create items and collections in PgSTAC, but not to modify any of the PgSTAC utilities. This role should be used when you need access to ingest or modify data in the PgSTAC Catalog.\n",
    "- \"pgstac_read\" is the primary role that should be used when accessing PgSTAC when not writing any data. It is not, however, a strictly read-only role as there are still cache and statistics tables which the role will write to behind the scenes.\n",
    "\n",
    "### Assuming a role\n",
    "The role that we are using so far is an administrative or root user of the database. While you need to use a role with sufficient priviliges to create a schema, you should never use this role when accessing Postgres for working with PgSTAC. The PgSTAC roles are not set up by default to be able to login to the database, but we can use Role Inheritance to be able to assign another role with all the privileges of one of hte PgSTAC roles.\n",
    "\n",
    "Best practice would be to create a role that is used for ingest or transactional tasks and one that is used when just reading STAC Items and Collections."
   ]
  },
  {
   "cell_type": "code",
   "execution_count": 11,
   "id": "c3693b99-b612-4a1b-987b-f471964d49ec",
   "metadata": {},
   "outputs": [
    {
     "name": "stdout",
     "output_type": "stream",
     "text": [
      "psql:/dev/stdin:1: ERROR:  role \"stacrw\" already exists\n",
      "psql:/dev/stdin:2: ERROR:  role \"stacr\" already exists\n",
      "\n",
      "\n"
     ]
    }
   ],
   "source": [
    "%%psql -U adminrole\n",
    "CREATE ROLE stacrw WITH LOGIN PASSWORD 'password' IN ROLE pgstac_ingest;\n",
    "CREATE ROLE stacr WITH LOGIN PASSWORD 'password' IN ROLE pgstac_read;\n"
   ]
  },
  {
   "cell_type": "markdown",
   "id": "4e05bdac-e282-4c38-b8b0-67070366196c",
   "metadata": {},
   "source": [
    "For the rest of the tutorial, we will not be needing to perform any administrative tasks, so we can change our environment variables so that we login as the \"stacrw\" role."
   ]
  },
  {
   "cell_type": "code",
   "execution_count": 12,
   "id": "b415cf59-c014-4cd5-84aa-6c498665d58c",
   "metadata": {},
   "outputs": [
    {
     "name": "stdout",
     "output_type": "stream",
     "text": [
      "env: PGUSER=stacrw\n",
      "env: PGPASSWORD=password\n"
     ]
    }
   ],
   "source": [
    "%env PGUSER=stacrw\n",
    "%env PGPASSWORD=password\n"
   ]
  },
  {
   "cell_type": "markdown",
   "id": "fcf4e9b8",
   "metadata": {},
   "source": [
    "Let's double check our SEARCH_PATH."
   ]
  },
  {
   "cell_type": "code",
   "execution_count": 13,
   "id": "b9692e46-be9b-4aaf-b843-fc305b3c1779",
   "metadata": {},
   "outputs": [
    {
     "name": "stdout",
     "output_type": "stream",
     "text": [
      "\n"
     ]
    },
    {
     "data": {
      "text/html": [
       "<table border=\"1\">\n",
       "  <tr>\n",
       "    <th align=\"center\">current_user</th>\n",
       "  </tr>\n",
       "  <tr valign=\"top\">\n",
       "    <td align=\"left\">stacrw</td>\n",
       "  </tr>\n",
       "</table>\n",
       "<p>(1 row)<br />\n",
       "</p>\n",
       "<table border=\"1\">\n",
       "  <tr>\n",
       "    <th align=\"center\">search_path</th>\n",
       "  </tr>\n",
       "  <tr valign=\"top\">\n",
       "    <td align=\"left\">pgstac, public</td>\n",
       "  </tr>\n",
       "</table>\n",
       "<p>(1 row)<br />\n",
       "</p>\n"
      ],
      "text/plain": [
       "<IPython.core.display.HTML object>"
      ]
     },
     "metadata": {},
     "output_type": "display_data"
    }
   ],
   "source": [
    "%%psql\n",
    "SELECT current_user;\n",
    "SHOW SEARCH_PATH;\n"
   ]
  },
  {
   "cell_type": "markdown",
   "id": "b572bed8-6e2a-4cab-98df-d81ab4f34038",
   "metadata": {},
   "source": [
    "## PgSTAC Data Layout\n",
    "PgSTAC does not directly store STAC Items and Collections as JSON. Rather it pulls some of the information out into properly typed separate columns that can more effectively be used for searching through STAC Items. This data layout is intended to be a back-end implementation and particularly for the \"items\" table these tables should not be used directly for SELECT/INSERT/DELETE."
   ]
  },
  {
   "cell_type": "markdown",
   "id": "ee81d500-3fcb-44e4-8830-355d82168d8f",
   "metadata": {},
   "source": [
    "### Items Table\n",
    "If we look a little closer at the \"items\" table, we can see that it is actually a parent partition. No data is actually stored directly in the items table, but rather in children partitions that are created through the use of triggers on the \"collections\" table. Right now, you can see that we have a foreign key constraint on the \"collections\" table (so, you must have a collection added to PgSTAC before adding any \"items\"). As of now, there are no partitions as we have not added any data yet.\n",
    "\n",
    "#### Items Table Layout\n",
    "- id: This is the id from the original JSON Item\n",
    "- geometry: The geojson from the original JSON item has been extracted and saved as a PostGIS Geometry column.\n",
    "- collection: The Collection id which is set as a Foreign Key Constraint\n",
    "- datetime: If the Item JSON has properties.datetime set, this comes from that, otherwise it comes from properties.start_datetime\n",
    "- end_datetime: If the Item JSON has properties.datetime set, this comes from that, otherwise it comes from properties.end_datetime\n",
    "- content: This is the remainder of the original JSON Item after removing the geometry, id, and collection as well as well as using a form of compression based on the common item_assets stored with a collection. This is discussed further under \"Hydration\".\n",
    "- private: This field is currently not used directly by PgSTAC, but it is to provide a place where additional private metadata about an item that is not part of the public STAC record (ie access constraints, etc) could be stored.\n",
    "\n",
    "Note that we always have a date range that we can use between datetime and end_datetime (where in the case of a \"datetime\" in the original JSON represents an instant in time."
   ]
  },
  {
   "cell_type": "code",
   "execution_count": 14,
   "id": "02afa5b9-2c85-49dd-8ae5-4133dbc57fcf",
   "metadata": {},
   "outputs": [
    {
     "name": "stdout",
     "output_type": "stream",
     "text": [
      "\n"
     ]
    },
    {
     "data": {
      "text/html": [
       "<table border=\"1\">\n",
       "  <caption>Partitioned table &quot;pgstac.items&quot;</caption>\n",
       "  <tr>\n",
       "    <th align=\"center\">Column</th>\n",
       "    <th align=\"center\">Type</th>\n",
       "    <th align=\"center\">Collation</th>\n",
       "    <th align=\"center\">Nullable</th>\n",
       "    <th align=\"center\">Default</th>\n",
       "    <th align=\"center\">Storage</th>\n",
       "    <th align=\"center\">Compression</th>\n",
       "    <th align=\"center\">Stats target</th>\n",
       "    <th align=\"center\">Description</th>\n",
       "  </tr>\n",
       "  <tr valign=\"top\">\n",
       "    <td align=\"left\">id</td>\n",
       "    <td align=\"left\">text</td>\n",
       "    <td align=\"left\">&nbsp; </td>\n",
       "    <td align=\"left\">not null</td>\n",
       "    <td align=\"left\">&nbsp; </td>\n",
       "    <td align=\"left\">extended</td>\n",
       "    <td align=\"left\">&nbsp; </td>\n",
       "    <td align=\"left\">&nbsp; </td>\n",
       "    <td align=\"left\">&nbsp; </td>\n",
       "  </tr>\n",
       "  <tr valign=\"top\">\n",
       "    <td align=\"left\">geometry</td>\n",
       "    <td align=\"left\">geometry</td>\n",
       "    <td align=\"left\">&nbsp; </td>\n",
       "    <td align=\"left\">not null</td>\n",
       "    <td align=\"left\">&nbsp; </td>\n",
       "    <td align=\"left\">main</td>\n",
       "    <td align=\"left\">&nbsp; </td>\n",
       "    <td align=\"left\">&nbsp; </td>\n",
       "    <td align=\"left\">&nbsp; </td>\n",
       "  </tr>\n",
       "  <tr valign=\"top\">\n",
       "    <td align=\"left\">collection</td>\n",
       "    <td align=\"left\">text</td>\n",
       "    <td align=\"left\">&nbsp; </td>\n",
       "    <td align=\"left\">not null</td>\n",
       "    <td align=\"left\">&nbsp; </td>\n",
       "    <td align=\"left\">extended</td>\n",
       "    <td align=\"left\">&nbsp; </td>\n",
       "    <td align=\"left\">&nbsp; </td>\n",
       "    <td align=\"left\">&nbsp; </td>\n",
       "  </tr>\n",
       "  <tr valign=\"top\">\n",
       "    <td align=\"left\">datetime</td>\n",
       "    <td align=\"left\">timestamp with time zone</td>\n",
       "    <td align=\"left\">&nbsp; </td>\n",
       "    <td align=\"left\">not null</td>\n",
       "    <td align=\"left\">&nbsp; </td>\n",
       "    <td align=\"left\">plain</td>\n",
       "    <td align=\"left\">&nbsp; </td>\n",
       "    <td align=\"left\">&nbsp; </td>\n",
       "    <td align=\"left\">&nbsp; </td>\n",
       "  </tr>\n",
       "  <tr valign=\"top\">\n",
       "    <td align=\"left\">end_datetime</td>\n",
       "    <td align=\"left\">timestamp with time zone</td>\n",
       "    <td align=\"left\">&nbsp; </td>\n",
       "    <td align=\"left\">not null</td>\n",
       "    <td align=\"left\">&nbsp; </td>\n",
       "    <td align=\"left\">plain</td>\n",
       "    <td align=\"left\">&nbsp; </td>\n",
       "    <td align=\"left\">&nbsp; </td>\n",
       "    <td align=\"left\">&nbsp; </td>\n",
       "  </tr>\n",
       "  <tr valign=\"top\">\n",
       "    <td align=\"left\">content</td>\n",
       "    <td align=\"left\">jsonb</td>\n",
       "    <td align=\"left\">&nbsp; </td>\n",
       "    <td align=\"left\">not null</td>\n",
       "    <td align=\"left\">&nbsp; </td>\n",
       "    <td align=\"left\">extended</td>\n",
       "    <td align=\"left\">&nbsp; </td>\n",
       "    <td align=\"left\">&nbsp; </td>\n",
       "    <td align=\"left\">&nbsp; </td>\n",
       "  </tr>\n",
       "  <tr valign=\"top\">\n",
       "    <td align=\"left\">private</td>\n",
       "    <td align=\"left\">jsonb</td>\n",
       "    <td align=\"left\">&nbsp; </td>\n",
       "    <td align=\"left\">&nbsp; </td>\n",
       "    <td align=\"left\">&nbsp; </td>\n",
       "    <td align=\"left\">extended</td>\n",
       "    <td align=\"left\">&nbsp; </td>\n",
       "    <td align=\"left\">&nbsp; </td>\n",
       "    <td align=\"left\">&nbsp; </td>\n",
       "  </tr>\n",
       "</table>\n",
       "<p>Partition key: LIST (collection)<br />\n",
       "Indexes:<br />\n",
       "&nbsp;&nbsp;&nbsp;&nbsp;&quot;datetime_idx&quot; btree (datetime DESC, end_datetime)<br />\n",
       "&nbsp;&nbsp;&nbsp;&nbsp;&quot;geometry_idx&quot; gist (geometry)<br />\n",
       "Foreign-key constraints:<br />\n",
       "&nbsp;&nbsp;&nbsp;&nbsp;&quot;items_collections_fk&quot; FOREIGN KEY (collection) REFERENCES collections(id) ON DELETE CASCADE DEFERRABLE<br />\n",
       "Statistics objects:<br />\n",
       "&nbsp;&nbsp;&nbsp;&nbsp;&quot;pgstac.datetime_stats&quot; (dependencies) ON datetime, end_datetime FROM items<br />\n",
       "Triggers:<br />\n",
       "&nbsp;&nbsp;&nbsp;&nbsp;items_after_delete_trigger AFTER UPDATE ON items REFERENCING NEW TABLE AS newdata FOR EACH STATEMENT EXECUTE FUNCTION partition_after_triggerfunc()<br />\n",
       "&nbsp;&nbsp;&nbsp;&nbsp;items_after_insert_trigger AFTER INSERT ON items REFERENCING NEW TABLE AS newdata FOR EACH STATEMENT EXECUTE FUNCTION partition_after_triggerfunc()<br />\n",
       "&nbsp;&nbsp;&nbsp;&nbsp;items_after_update_trigger AFTER DELETE ON items REFERENCING OLD TABLE AS newdata FOR EACH STATEMENT EXECUTE FUNCTION partition_after_triggerfunc()<br />\n",
       "Partitions: _items_1 FOR VALUES IN ('modis-13Q1-061'), PARTITIONED<br />\n",
       "</p>\n"
      ],
      "text/plain": [
       "<IPython.core.display.HTML object>"
      ]
     },
     "metadata": {},
     "output_type": "display_data"
    }
   ],
   "source": [
    "%%psql\n",
    "\\d+ items\n"
   ]
  },
  {
   "cell_type": "markdown",
   "id": "a6b1ae10-de08-4e6f-8235-ad85c3422b5e",
   "metadata": {},
   "source": [
    "## Collections Table\n",
    "You'll notice that the \"collections\" table is layed out fairly similary to the Items table. These common columns help enable using the same tooling for search for both Items and Collections. As the \"collections\" table is generally much much smaller than the \"items\" table, there are fewer concerns for scalability and this table is not partitioned as is the \"items\" table.\n",
    "\n",
    "### Collections Table Layout\n",
    "- key: This is an integer primary key that is generated upon creation\n",
    "- id: This is the id from the original JSON Collection\n",
    "- geometry: The total bounds from the Collection extent.spatial_extent has been extracted and saved as a PostGIS Geometry column.\n",
    "- datetime: The start of the Collection extent.temporal_extent\n",
    "- end_datetime: The end of the Collection extent.temporal_extent\n",
    "- content: The full original Collection JSON\n",
    "- base_item: This is used internally for \"Hydration\" process used to help compress Item records\n",
    "- private: This field is currently not used directly by PgSTAC, but it is to provide a place where additional private metadata about an item that is not part of the public STAC record (ie access constraints, etc) could be stored.\n",
    "- partition_trunc: This is used to control how finely partitioned the Items for a Collection are in the \"items\" table."
   ]
  },
  {
   "cell_type": "code",
   "execution_count": 15,
   "id": "3e5aa1f6-8fee-41ee-abe9-d32cf04eacaf",
   "metadata": {},
   "outputs": [
    {
     "name": "stdout",
     "output_type": "stream",
     "text": [
      "\n"
     ]
    },
    {
     "data": {
      "text/html": [
       "<table border=\"1\">\n",
       "  <caption>Table &quot;pgstac.collections&quot;</caption>\n",
       "  <tr>\n",
       "    <th align=\"center\">Column</th>\n",
       "    <th align=\"center\">Type</th>\n",
       "    <th align=\"center\">Collation</th>\n",
       "    <th align=\"center\">Nullable</th>\n",
       "    <th align=\"center\">Default</th>\n",
       "  </tr>\n",
       "  <tr valign=\"top\">\n",
       "    <td align=\"left\">key</td>\n",
       "    <td align=\"left\">bigint</td>\n",
       "    <td align=\"left\">&nbsp; </td>\n",
       "    <td align=\"left\">not null</td>\n",
       "    <td align=\"left\">generated always as identity</td>\n",
       "  </tr>\n",
       "  <tr valign=\"top\">\n",
       "    <td align=\"left\">id</td>\n",
       "    <td align=\"left\">text</td>\n",
       "    <td align=\"left\">&nbsp; </td>\n",
       "    <td align=\"left\">&nbsp; </td>\n",
       "    <td align=\"left\">generated always as (content -&gt;&gt; 'id'::text) stored</td>\n",
       "  </tr>\n",
       "  <tr valign=\"top\">\n",
       "    <td align=\"left\">content</td>\n",
       "    <td align=\"left\">jsonb</td>\n",
       "    <td align=\"left\">&nbsp; </td>\n",
       "    <td align=\"left\">not null</td>\n",
       "    <td align=\"left\">&nbsp; </td>\n",
       "  </tr>\n",
       "  <tr valign=\"top\">\n",
       "    <td align=\"left\">base_item</td>\n",
       "    <td align=\"left\">jsonb</td>\n",
       "    <td align=\"left\">&nbsp; </td>\n",
       "    <td align=\"left\">&nbsp; </td>\n",
       "    <td align=\"left\">generated always as (collection_base_item(content)) stored</td>\n",
       "  </tr>\n",
       "  <tr valign=\"top\">\n",
       "    <td align=\"left\">geometry</td>\n",
       "    <td align=\"left\">geometry</td>\n",
       "    <td align=\"left\">&nbsp; </td>\n",
       "    <td align=\"left\">&nbsp; </td>\n",
       "    <td align=\"left\">generated always as (collection_geom(content)) stored</td>\n",
       "  </tr>\n",
       "  <tr valign=\"top\">\n",
       "    <td align=\"left\">datetime</td>\n",
       "    <td align=\"left\">timestamp with time zone</td>\n",
       "    <td align=\"left\">&nbsp; </td>\n",
       "    <td align=\"left\">&nbsp; </td>\n",
       "    <td align=\"left\">generated always as (collection_datetime(content)) stored</td>\n",
       "  </tr>\n",
       "  <tr valign=\"top\">\n",
       "    <td align=\"left\">end_datetime</td>\n",
       "    <td align=\"left\">timestamp with time zone</td>\n",
       "    <td align=\"left\">&nbsp; </td>\n",
       "    <td align=\"left\">&nbsp; </td>\n",
       "    <td align=\"left\">generated always as (collection_enddatetime(content)) stored</td>\n",
       "  </tr>\n",
       "  <tr valign=\"top\">\n",
       "    <td align=\"left\">private</td>\n",
       "    <td align=\"left\">jsonb</td>\n",
       "    <td align=\"left\">&nbsp; </td>\n",
       "    <td align=\"left\">&nbsp; </td>\n",
       "    <td align=\"left\">&nbsp; </td>\n",
       "  </tr>\n",
       "  <tr valign=\"top\">\n",
       "    <td align=\"left\">partition_trunc</td>\n",
       "    <td align=\"left\">text</td>\n",
       "    <td align=\"left\">&nbsp; </td>\n",
       "    <td align=\"left\">&nbsp; </td>\n",
       "    <td align=\"left\">&nbsp; </td>\n",
       "  </tr>\n",
       "</table>\n",
       "<p>Indexes:<br />\n",
       "&nbsp;&nbsp;&nbsp;&nbsp;&quot;collections_pkey&quot; PRIMARY KEY, btree (key)<br />\n",
       "&nbsp;&nbsp;&nbsp;&nbsp;&quot;collections_id_key&quot; UNIQUE CONSTRAINT, btree (id)<br />\n",
       "Check constraints:<br />\n",
       "&nbsp;&nbsp;&nbsp;&nbsp;&quot;collections_partition_trunc_check&quot; CHECK (partition_trunc = ANY (ARRAY['year'::text, 'month'::text]))<br />\n",
       "Referenced by:<br />\n",
       "&nbsp;&nbsp;&nbsp;&nbsp;TABLE &quot;items&quot; CONSTRAINT &quot;items_collections_fk&quot; FOREIGN KEY (collection) REFERENCES collections(id) ON DELETE CASCADE DEFERRABLE<br />\n",
       "Triggers:<br />\n",
       "&nbsp;&nbsp;&nbsp;&nbsp;collection_delete_trigger BEFORE DELETE ON collections FOR EACH ROW EXECUTE FUNCTION collection_delete_trigger_func()<br />\n",
       "&nbsp;&nbsp;&nbsp;&nbsp;collections_trigger AFTER INSERT OR UPDATE ON collections FOR EACH ROW EXECUTE FUNCTION collections_trigger_func()<br />\n",
       "</p>\n"
      ],
      "text/plain": [
       "<IPython.core.display.HTML object>"
      ]
     },
     "metadata": {},
     "output_type": "display_data"
    }
   ],
   "source": [
    "%%psql\n",
    "\\d collections\n"
   ]
  },
  {
   "cell_type": "markdown",
   "id": "bc4fd282",
   "metadata": {},
   "source": [
    "## Loading Data\n",
    "A number of things must happen when we load data into PgSTAC\n",
    "- All data must be transformed into the table layout for Items and Collections\n",
    "- An Items Collection must be loaded prior to any Items for that Collection\n",
    " - When adding a collection, it should be configured for the appropriate partitioning strategy.\n",
    "- For Items, PgSTAC must create any partitions that are needed prior to actually loading the data in place.\n",
    "- With partitioned data, Postgres allows for the creation of constraints that allow the Postgres query planner to skip partitions based on query predicates. When loading data, if new data must be checked and the constraints must be modified if necessary.\n",
    "\n",
    "The management of partitions and constraints can take out fairly aggressive locks on the database when done within the same transaction as loading large amounts of data. This adds a lot more overhead to any transaction loading data into the database than normal Postgres or database loads. When planning how to load data into PgSTAC, it can be very beneficial to try to group inserts into larger chunks of data (but not too large, ~10,000 seems to be a happy medium). PgSTAC should be able to reasonably handle concurrent data loads, but as the locks taken out when modifying partitions/constraints are generally at the partition level, it is good to try to avoid concurrent writes of data into the same partitions.\n",
    "\n",
    "### Pypgstac Loader\n",
    "To help mitigate some of the issues with data loading, pypgstac comes with a tool to help bulk load data into PgSTAC. When creating pipelines or doing bulk loading of data into PgSTAC, this should be the preferred method. Data can be loaded via the STAC API when exposed by STAC FastAPI, but when loading via an exposed API, the entire load is done as a single transaction and it also requires a double network hop for all the data (Client -> FastAPI -> PgSTAC)."
   ]
  },
  {
   "cell_type": "markdown",
   "id": "a2c3d2f5",
   "metadata": {},
   "source": [
    "#### Load Collection"
   ]
  },
  {
   "cell_type": "code",
   "execution_count": 16,
   "id": "3f1cf939",
   "metadata": {},
   "outputs": [
    {
     "name": "stdout",
     "output_type": "stream",
     "text": [
      "DEBUG:pypgstac.db:VERSION: 0.8.1\n",
      "INFO:pypgstac.db:NOTICE - table \"tmp_collections\" does not exist, skipping\n",
      "DEBUG:smart_open.smart_open_lib:{'uri': 'collections.ndjson.gz', 'mode': 'r', 'buffering': -1, 'encoding': None, 'errors': None, 'newline': None, 'closefd': True, 'opener': None, 'compression': 'infer_from_extension', 'transport_params': None}\n",
      "DEBUG:smart_open.smart_open_lib:encoding_wrapper: {'fileobj': <gzip _io.BufferedReader name='collections.ndjson.gz' 0x7f155e57add0>, 'mode': 'r', 'encoding': 'UTF-8', 'errors': None, 'newline': None}\n",
      "DEBUG:pypgstac.load:INSERT 0 0\n",
      "DEBUG:pypgstac.load:Rows affected: 0\n"
     ]
    }
   ],
   "source": [
    "!pypgstac load collections collections.ndjson.gz --debug --method ignore\n"
   ]
  },
  {
   "cell_type": "markdown",
   "id": "1995551f",
   "metadata": {},
   "source": [
    "##### DELETE THIS"
   ]
  },
  {
   "cell_type": "code",
   "execution_count": 1,
   "id": "6a5b93d0",
   "metadata": {},
   "outputs": [
    {
     "name": "stderr",
     "output_type": "stream",
     "text": [
      "UsageError: Cell magic `%%psql` not found.\n"
     ]
    }
   ],
   "source": [
    "%%psql -U adminrole\n",
    "/*\n",
    "SET ROLE pgstac_admin;\n",
    "SET SEARCH_PATH TO pgstac, public;\n",
    "\\i /home/bitner/data/pgstac/src/pgstac/sql/003b_partitions.sql\n",
    "\n",
    "GRANT ALL ON ALL TABLES IN SCHEMA pgstac to pgstac_ingest;\n",
    "GRANT USAGE ON ALL SEQUENCES IN SCHEMA pgstac to pgstac_ingest;\n",
    "\\df+ update_partition_stats_q\n",
    "*/\n"
   ]
  },
  {
   "cell_type": "markdown",
   "id": "6099c6cf",
   "metadata": {},
   "source": [
    "#### Load Items"
   ]
  },
  {
   "cell_type": "code",
   "execution_count": 18,
   "id": "e3bae73e",
   "metadata": {},
   "outputs": [
    {
     "name": "stdout",
     "output_type": "stream",
     "text": [
      "\n"
     ]
    },
    {
     "data": {
      "text/html": [
       "<table border=\"1\">\n",
       "  <tr>\n",
       "    <th align=\"center\">current_user</th>\n",
       "  </tr>\n",
       "  <tr valign=\"top\">\n",
       "    <td align=\"left\">stacrw</td>\n",
       "  </tr>\n",
       "</table>\n",
       "<p>(1 row)<br />\n",
       "</p>\n"
      ],
      "text/plain": [
       "<IPython.core.display.HTML object>"
      ]
     },
     "metadata": {},
     "output_type": "display_data"
    }
   ],
   "source": [
    "%%psql\n",
    "SELECT current_user;\n"
   ]
  },
  {
   "cell_type": "code",
   "execution_count": 19,
   "id": "e91e139f",
   "metadata": {},
   "outputs": [
    {
     "name": "stdout",
     "output_type": "stream",
     "text": [
      "\n",
      "GRANT\n",
      "\n"
     ]
    }
   ],
   "source": [
    "%%psql -U adminrole\n",
    "GRANT ALL ON ALL TABLES IN SCHEMA pgstac to pgstac_ingest;\n"
   ]
  },
  {
   "cell_type": "code",
   "execution_count": 20,
   "id": "e2184e85",
   "metadata": {},
   "outputs": [
    {
     "name": "stdout",
     "output_type": "stream",
     "text": [
      "env: PGUSER=stacrw\n"
     ]
    },
    {
     "name": "stdout",
     "output_type": "stream",
     "text": [
      "DEBUG:pypgstac.db:VERSION: 0.8.1\n",
      "DEBUG:smart_open.smart_open_lib:{'uri': 'items.ndjson.gz', 'mode': 'r', 'buffering': -1, 'encoding': None, 'errors': None, 'newline': None, 'closefd': True, 'opener': None, 'compression': 'infer_from_extension', 'transport_params': None}\n",
      "DEBUG:smart_open.smart_open_lib:encoding_wrapper: {'fileobj': <gzip _io.BufferedReader name='items.ndjson.gz' 0x7f19b7773940>, 'mode': 'r', 'encoding': 'UTF-8', 'errors': None, 'newline': None}\n",
      "DEBUG:pypgstac.load:Found modis-13Q1-061 with base_item {'type': 'Feature', 'assets': {'hdf': {'type': 'application/x-hdf', 'roles': ['data'], 'title': 'Source data containing all bands'}, 'metadata': {'type': 'application/xml', 'roles': ['metadata'], 'title': 'Federal Geographic Data Committee (FGDC) Metadata'}, '250m_16_days_EVI': {'type': 'image/tiff; application=geotiff; profile=cloud-optimized', 'roles': ['data'], 'title': '16 day EVI', 'raster:bands': [{'unit': 'EVI', 'scale': 0.0001, 'data_type': 'int16', 'spatial_resolution': 250}]}, '250m_16_days_NDVI': {'type': 'image/tiff; application=geotiff; profile=cloud-optimized', 'roles': ['data'], 'title': '16 day NDVI', 'raster:bands': [{'unit': 'NDVI', 'scale': 0.0001, 'data_type': 'int16', 'spatial_resolution': 250}]}, '250m_16_days_VI_Quality': {'type': 'image/tiff; application=geotiff; profile=cloud-optimized', 'roles': ['data'], 'title': 'VI quality indicators', 'raster:bands': [{'data_type': 'uint16', 'spatial_resolution': 250}]}, '250m_16_days_MIR_reflectance': {'type': 'image/tiff; application=geotiff; profile=cloud-optimized', 'roles': ['data'], 'title': 'Surface Reflectance Band 7', 'raster:bands': [{'scale': 0.0001, 'data_type': 'int16', 'spatial_resolution': 250}]}, '250m_16_days_NIR_reflectance': {'type': 'image/tiff; application=geotiff; profile=cloud-optimized', 'roles': ['data'], 'title': 'Surface Reflectance Band 2', 'raster:bands': [{'scale': 0.0001, 'data_type': 'int16', 'spatial_resolution': 250}]}, '250m_16_days_red_reflectance': {'type': 'image/tiff; application=geotiff; profile=cloud-optimized', 'roles': ['data'], 'title': 'Surface Reflectance Band 1', 'raster:bands': [{'scale': 0.0001, 'data_type': 'int16', 'spatial_resolution': 250}]}, '250m_16_days_blue_reflectance': {'type': 'image/tiff; application=geotiff; profile=cloud-optimized', 'roles': ['data'], 'title': 'Surface Reflectance Band 3', 'raster:bands': [{'scale': 0.0001, 'data_type': 'int16', 'spatial_resolution': 250}]}, '250m_16_days_sun_zenith_angle': {'type': 'image/tiff; application=geotiff; profile=cloud-optimized', 'roles': ['data'], 'title': 'Sun zenith angle of VI pixel', 'raster:bands': [{'unit': 'Degree', 'scale': 0.01, 'data_type': 'int16', 'spatial_resolution': 250}]}, '250m_16_days_pixel_reliability': {'type': 'image/tiff; application=geotiff; profile=cloud-optimized', 'roles': ['data'], 'title': 'Quality reliability of VI pixel', 'raster:bands': [{'unit': 'Rank', 'data_type': 'int8', 'spatial_resolution': 250}], 'classification:classes': [{'value': 0, 'description': 'Good data, use with confidence'}, {'value': 1, 'description': 'Marginal data, useful, but look at other QA information'}, {'value': 2, 'description': 'Snow/Ice Target covered with snow/ice'}, {'value': 3, 'description': 'Cloudy data'}]}, '250m_16_days_view_zenith_angle': {'type': 'image/tiff; application=geotiff; profile=cloud-optimized', 'roles': ['data'], 'title': 'View zenith angle of VI Pixel', 'raster:bands': [{'unit': 'Degree', 'scale': 0.01, 'data_type': 'int16', 'spatial_resolution': 250}]}, '250m_16_days_relative_azimuth_angle': {'type': 'image/tiff; application=geotiff; profile=cloud-optimized', 'roles': ['data'], 'title': 'Relative azimuth angle of VI pixel', 'raster:bands': [{'unit': 'Degree', 'scale': 0.01, 'data_type': 'int16', 'spatial_resolution': 250}]}, '250m_16_days_composite_day_of_the_year': {'type': 'image/tiff; application=geotiff; profile=cloud-optimized', 'roles': ['data'], 'title': 'Day of year VI pixel', 'raster:bands': [{'unit': 'Julian Day', 'data_type': 'int16', 'spatial_resolution': 250}]}}, 'collection': 'modis-13Q1-061', 'stac_version': '1.0.0'}\n",
      "DEBUG:pypgstac.load:Loading data for partition: Partition(name='_items_1_2023', collection='modis-13Q1-061', datetime_range_min='2023-01-01T00:00:00+00:00', datetime_range_max='2024-01-01T00:00:00+00:00', end_datetime_range_min='0001-01-01T00:00:00', end_datetime_range_max='9999-12-31T23:59:59.999999', requires_update=False).\n",
      "DEBUG:pypgstac.load:Partition _items_1_2023 does not require an update.\n",
      "INFO:pypgstac.db:NOTICE - table \"items_ingest_temp\" does not exist, skipping\n",
      "DEBUG:pypgstac.load:COPY 1400\n",
      "DEBUG:pypgstac.load:Copied rows: 1400\n",
      "DEBUG:pypgstac.load:INSERT 0 0\n",
      "DEBUG:pypgstac.load:Rows affected: 0\n",
      "INFO:pypgstac.db:NOTICE - Updating stats for _items_1_2023.\n",
      "INFO:pypgstac.db:NOTICE - Checking if we need to modify constraints. cdtrange: [\"2023-01-01 00:00:00+00\",\"2024-01-01 00:00:00+00\") dtrange: [\"2023-08-29 00:00:00+00\",\"2023-09-30 00:00:00+00\"] cedtrange: [-infinity,infinity] edtrange: [\"2023-09-13 23:59:59+00\",\"2023-10-15 23:59:59+00\"]\n",
      "INFO:pypgstac.db:NOTICE - Modifying Constraints\n",
      "INFO:pypgstac.db:NOTICE - Existing [\"2023-01-01 00:00:00+00\",\"2024-01-01 00:00:00+00\") [-infinity,infinity]\n",
      "INFO:pypgstac.db:NOTICE - New      [\"2023-08-29 00:00:00+00\",\"2023-09-30 00:00:00+00\"] [\"2023-09-13 23:59:59+00\",\"2023-10-15 23:59:59+00\"]\n",
      "INFO:pypgstac.db:NOTICE - Creating Table Constraints for _items_1_2023 [\"2023-08-29 00:00:00+00\",\"2023-09-30 00:00:00+00\"] [\"2023-09-13 23:59:59+00\",\"2023-10-15 23:59:59+00\"]\n",
      "INFO:pypgstac.db:NOTICE - constraint \"_items_1_2023_dt\" of relation \"_items_1_2023\" does not exist, skipping\n",
      "INFO:pypgstac.db:NOTICE - Checking if we need to update collection extents.\n",
      "INFO:pypgstac.db:NOTICE - Not updating collection extent for modis-13Q1-061\n",
      "DEBUG:pypgstac.load:Copying data for Partition(name='_items_1_2023', collection='modis-13Q1-061', datetime_range_min='2023-01-01T00:00:00+00:00', datetime_range_max='2024-01-01T00:00:00+00:00', end_datetime_range_min='0001-01-01T00:00:00', end_datetime_range_max='9999-12-31T23:59:59.999999', requires_update=False) took 0.34263676299997314 seconds\n",
      "DEBUG:pypgstac.load:Adding data to database took 0.593316065000181 seconds.\n"
     ]
    }
   ],
   "source": [
    "%env PGUSER=stacrw\n",
    "!pypgstac load items items.ndjson.gz --debug --method upsert\n"
   ]
  },
  {
   "cell_type": "markdown",
   "id": "3247858c",
   "metadata": {},
   "source": [
    "#### Partition Strategy\n",
    "By default, all Items are partitioned by Collection. "
   ]
  },
  {
   "cell_type": "code",
   "execution_count": 127,
   "id": "91291352",
   "metadata": {},
   "outputs": [
    {
     "name": "stdout",
     "output_type": "stream",
     "text": [
      "\n"
     ]
    },
    {
     "data": {
      "text/html": [
       "<table border=\"1\">\n",
       "  <caption>Partitioned table &quot;pgstac.items&quot;</caption>\n",
       "  <tr>\n",
       "    <th align=\"center\">Column</th>\n",
       "    <th align=\"center\">Type</th>\n",
       "    <th align=\"center\">Collation</th>\n",
       "    <th align=\"center\">Nullable</th>\n",
       "    <th align=\"center\">Default</th>\n",
       "    <th align=\"center\">Storage</th>\n",
       "    <th align=\"center\">Compression</th>\n",
       "    <th align=\"center\">Stats target</th>\n",
       "    <th align=\"center\">Description</th>\n",
       "  </tr>\n",
       "  <tr valign=\"top\">\n",
       "    <td align=\"left\">id</td>\n",
       "    <td align=\"left\">text</td>\n",
       "    <td align=\"left\">&nbsp; </td>\n",
       "    <td align=\"left\">not null</td>\n",
       "    <td align=\"left\">&nbsp; </td>\n",
       "    <td align=\"left\">extended</td>\n",
       "    <td align=\"left\">&nbsp; </td>\n",
       "    <td align=\"left\">&nbsp; </td>\n",
       "    <td align=\"left\">&nbsp; </td>\n",
       "  </tr>\n",
       "  <tr valign=\"top\">\n",
       "    <td align=\"left\">geometry</td>\n",
       "    <td align=\"left\">geometry</td>\n",
       "    <td align=\"left\">&nbsp; </td>\n",
       "    <td align=\"left\">not null</td>\n",
       "    <td align=\"left\">&nbsp; </td>\n",
       "    <td align=\"left\">main</td>\n",
       "    <td align=\"left\">&nbsp; </td>\n",
       "    <td align=\"left\">&nbsp; </td>\n",
       "    <td align=\"left\">&nbsp; </td>\n",
       "  </tr>\n",
       "  <tr valign=\"top\">\n",
       "    <td align=\"left\">collection</td>\n",
       "    <td align=\"left\">text</td>\n",
       "    <td align=\"left\">&nbsp; </td>\n",
       "    <td align=\"left\">not null</td>\n",
       "    <td align=\"left\">&nbsp; </td>\n",
       "    <td align=\"left\">extended</td>\n",
       "    <td align=\"left\">&nbsp; </td>\n",
       "    <td align=\"left\">&nbsp; </td>\n",
       "    <td align=\"left\">&nbsp; </td>\n",
       "  </tr>\n",
       "  <tr valign=\"top\">\n",
       "    <td align=\"left\">datetime</td>\n",
       "    <td align=\"left\">timestamp with time zone</td>\n",
       "    <td align=\"left\">&nbsp; </td>\n",
       "    <td align=\"left\">not null</td>\n",
       "    <td align=\"left\">&nbsp; </td>\n",
       "    <td align=\"left\">plain</td>\n",
       "    <td align=\"left\">&nbsp; </td>\n",
       "    <td align=\"left\">&nbsp; </td>\n",
       "    <td align=\"left\">&nbsp; </td>\n",
       "  </tr>\n",
       "  <tr valign=\"top\">\n",
       "    <td align=\"left\">end_datetime</td>\n",
       "    <td align=\"left\">timestamp with time zone</td>\n",
       "    <td align=\"left\">&nbsp; </td>\n",
       "    <td align=\"left\">not null</td>\n",
       "    <td align=\"left\">&nbsp; </td>\n",
       "    <td align=\"left\">plain</td>\n",
       "    <td align=\"left\">&nbsp; </td>\n",
       "    <td align=\"left\">&nbsp; </td>\n",
       "    <td align=\"left\">&nbsp; </td>\n",
       "  </tr>\n",
       "  <tr valign=\"top\">\n",
       "    <td align=\"left\">content</td>\n",
       "    <td align=\"left\">jsonb</td>\n",
       "    <td align=\"left\">&nbsp; </td>\n",
       "    <td align=\"left\">not null</td>\n",
       "    <td align=\"left\">&nbsp; </td>\n",
       "    <td align=\"left\">extended</td>\n",
       "    <td align=\"left\">&nbsp; </td>\n",
       "    <td align=\"left\">&nbsp; </td>\n",
       "    <td align=\"left\">&nbsp; </td>\n",
       "  </tr>\n",
       "  <tr valign=\"top\">\n",
       "    <td align=\"left\">private</td>\n",
       "    <td align=\"left\">jsonb</td>\n",
       "    <td align=\"left\">&nbsp; </td>\n",
       "    <td align=\"left\">&nbsp; </td>\n",
       "    <td align=\"left\">&nbsp; </td>\n",
       "    <td align=\"left\">extended</td>\n",
       "    <td align=\"left\">&nbsp; </td>\n",
       "    <td align=\"left\">&nbsp; </td>\n",
       "    <td align=\"left\">&nbsp; </td>\n",
       "  </tr>\n",
       "</table>\n",
       "<p>Partition key: LIST (collection)<br />\n",
       "Indexes:<br />\n",
       "&nbsp;&nbsp;&nbsp;&nbsp;&quot;datetime_idx&quot; btree (datetime DESC, end_datetime)<br />\n",
       "&nbsp;&nbsp;&nbsp;&nbsp;&quot;geometry_idx&quot; gist (geometry)<br />\n",
       "Foreign-key constraints:<br />\n",
       "&nbsp;&nbsp;&nbsp;&nbsp;&quot;items_collections_fk&quot; FOREIGN KEY (collection) REFERENCES collections(id) ON DELETE CASCADE DEFERRABLE<br />\n",
       "Statistics objects:<br />\n",
       "&nbsp;&nbsp;&nbsp;&nbsp;&quot;pgstac.datetime_stats&quot; (dependencies) ON datetime, end_datetime FROM items<br />\n",
       "Triggers:<br />\n",
       "&nbsp;&nbsp;&nbsp;&nbsp;items_after_delete_trigger AFTER UPDATE ON items REFERENCING NEW TABLE AS newdata FOR EACH STATEMENT EXECUTE FUNCTION partition_after_triggerfunc()<br />\n",
       "&nbsp;&nbsp;&nbsp;&nbsp;items_after_insert_trigger AFTER INSERT ON items REFERENCING NEW TABLE AS newdata FOR EACH STATEMENT EXECUTE FUNCTION partition_after_triggerfunc()<br />\n",
       "&nbsp;&nbsp;&nbsp;&nbsp;items_after_update_trigger AFTER DELETE ON items REFERENCING OLD TABLE AS newdata FOR EACH STATEMENT EXECUTE FUNCTION partition_after_triggerfunc()<br />\n",
       "Partitions: _items_1 FOR VALUES IN ('modis-13Q1-061')<br />\n",
       "</p>\n",
       "<table border=\"1\">\n",
       "  <tr>\n",
       "    <th align=\"center\">partition</th>\n",
       "    <th align=\"center\">collection</th>\n",
       "    <th align=\"center\">level</th>\n",
       "    <th align=\"center\">reltuples</th>\n",
       "    <th align=\"center\">relhastriggers</th>\n",
       "    <th align=\"center\">partition_dtrange</th>\n",
       "    <th align=\"center\">constraint_dtrange</th>\n",
       "    <th align=\"center\">constraint_edtrange</th>\n",
       "    <th align=\"center\">dtrange</th>\n",
       "    <th align=\"center\">edtrange</th>\n",
       "    <th align=\"center\">spatial</th>\n",
       "    <th align=\"center\">last_updated</th>\n",
       "  </tr>\n",
       "  <tr valign=\"top\">\n",
       "    <td align=\"left\">_items_1</td>\n",
       "    <td align=\"left\">modis-13Q1-061</td>\n",
       "    <td align=\"right\">1</td>\n",
       "    <td align=\"right\">1400</td>\n",
       "    <td align=\"left\">t</td>\n",
       "    <td align=\"left\">[-infinity,infinity]</td>\n",
       "    <td align=\"left\">[&quot;2023-08-29 00:00:00+00&quot;,&quot;2023-09-30 00:00:00+00&quot;]</td>\n",
       "    <td align=\"left\">[&quot;2023-09-13 23:59:59+00&quot;,&quot;2023-10-15 23:59:59+00&quot;]</td>\n",
       "    <td align=\"left\">[&quot;2023-08-29 00:00:00+00&quot;,&quot;2023-09-30 00:00:00+00&quot;]</td>\n",
       "    <td align=\"left\">[&quot;2023-09-13 23:59:59+00&quot;,&quot;2023-10-15 23:59:59+00&quot;]</td>\n",
       "    <td align=\"left\">0103000000010000000500000000000020984F76C0000000C019974FC000000020984F76C000000040EA4D554000000080ACDC724000000040EA4D554000000080ACDC7240000000C019974FC000000020984F76C0000000C019974FC0</td>\n",
       "    <td align=\"left\">2023-10-20 15:13:34.067709+00</td>\n",
       "  </tr>\n",
       "</table>\n",
       "<p>(1 row)<br />\n",
       "</p>\n"
      ],
      "text/plain": [
       "<IPython.core.display.HTML object>"
      ]
     },
     "metadata": {},
     "output_type": "display_data"
    }
   ],
   "source": [
    "%%psql\n",
    "\\d+ items\n",
    "SELECT * FROM partitions WHERE collection='modis-13Q1-061';\n"
   ]
  },
  {
   "cell_type": "markdown",
   "id": "59de94cb",
   "metadata": {},
   "source": [
    "This now shows that there is a partition \"_items_1\" in the \"items\" table that contains all data for the 'modis-13Q1-061' data. PgSTAC can also be configured per Collection to further sub-partition data using the datetime by year or month. This is controlled by the \"partition_trunc\" column on the Collections table. There is a trigger on the Collections table that will make sure that all data is repartitioned on any change of that column. It should be noted, that it is FAR BETTER to modify the partition_trunc value before loading any data. Any time we change that value it requires a full lock on that Collection and a full rewrite of all that data.\n",
    "\n",
    "Let's change the strategy for the collection we just loaded..."
   ]
  },
  {
   "cell_type": "code",
   "execution_count": 21,
   "id": "f19a16de",
   "metadata": {},
   "outputs": [
    {
     "name": "stdout",
     "output_type": "stream",
     "text": [
      "\n"
     ]
    },
    {
     "data": {
      "text/html": [
       "<table border=\"1\">\n",
       "  <tr>\n",
       "    <th align=\"center\">collection</th>\n",
       "    <th align=\"center\">d</th>\n",
       "    <th align=\"center\">dtrange</th>\n",
       "    <th align=\"center\">edtrange</th>\n",
       "  </tr>\n",
       "  <tr valign=\"top\">\n",
       "    <td align=\"left\">modis-13Q1-061</td>\n",
       "    <td align=\"left\">2023-09-01 00:00:00+00</td>\n",
       "    <td align=\"left\">[&quot;2023-09-06 00:00:00+00&quot;,&quot;2023-09-30 00:00:00+00&quot;]</td>\n",
       "    <td align=\"left\">[&quot;2023-09-21 23:59:59+00&quot;,&quot;2023-10-15 23:59:59+00&quot;]</td>\n",
       "  </tr>\n",
       "  <tr valign=\"top\">\n",
       "    <td align=\"left\">modis-13Q1-061</td>\n",
       "    <td align=\"left\">2023-08-01 00:00:00+00</td>\n",
       "    <td align=\"left\">[&quot;2023-08-29 00:00:00+00&quot;,&quot;2023-08-29 00:00:00+00&quot;]</td>\n",
       "    <td align=\"left\">[&quot;2023-09-13 23:59:59+00&quot;,&quot;2023-09-13 23:59:59+00&quot;]</td>\n",
       "  </tr>\n",
       "</table>\n",
       "<p>(2 rows)<br />\n",
       "</p>\n"
      ],
      "text/plain": [
       "<IPython.core.display.HTML object>"
      ]
     },
     "metadata": {},
     "output_type": "display_data"
    }
   ],
   "source": [
    "%%psql\n",
    "SELECT\n",
    "    collection,\n",
    "    CASE\n",
    "        WHEN 'month' IS NULL THEN '-infinity'::timestamptz\n",
    "        ELSE date_trunc('month', datetime)\n",
    "    END as d,\n",
    "    tstzrange(min(datetime),max(datetime),'[]') as dtrange,\n",
    "    tstzrange(min(end_datetime),max(end_datetime),'[]') as edtrange\n",
    "FROM _items_1\n",
    "GROUP BY 1,2;\n"
   ]
  },
  {
   "cell_type": "code",
   "execution_count": 22,
   "id": "f91b0dcf",
   "metadata": {},
   "outputs": [
    {
     "name": "stdout",
     "output_type": "stream",
     "text": [
      "psql:/dev/stdin:1: NOTICE:  Collection Trigger. modis-13Q1-061 1\n",
      "\n"
     ]
    },
    {
     "data": {
      "text/html": [
       "<p>UPDATE 1</p>\n",
       "<table border=\"1\">\n",
       "  <caption>Partitioned table &quot;pgstac._items_1&quot;</caption>\n",
       "  <tr>\n",
       "    <th align=\"center\">Column</th>\n",
       "    <th align=\"center\">Type</th>\n",
       "    <th align=\"center\">Collation</th>\n",
       "    <th align=\"center\">Nullable</th>\n",
       "    <th align=\"center\">Default</th>\n",
       "    <th align=\"center\">Storage</th>\n",
       "    <th align=\"center\">Compression</th>\n",
       "    <th align=\"center\">Stats target</th>\n",
       "    <th align=\"center\">Description</th>\n",
       "  </tr>\n",
       "  <tr valign=\"top\">\n",
       "    <td align=\"left\">id</td>\n",
       "    <td align=\"left\">text</td>\n",
       "    <td align=\"left\">&nbsp; </td>\n",
       "    <td align=\"left\">not null</td>\n",
       "    <td align=\"left\">&nbsp; </td>\n",
       "    <td align=\"left\">extended</td>\n",
       "    <td align=\"left\">&nbsp; </td>\n",
       "    <td align=\"left\">&nbsp; </td>\n",
       "    <td align=\"left\">&nbsp; </td>\n",
       "  </tr>\n",
       "  <tr valign=\"top\">\n",
       "    <td align=\"left\">geometry</td>\n",
       "    <td align=\"left\">geometry</td>\n",
       "    <td align=\"left\">&nbsp; </td>\n",
       "    <td align=\"left\">not null</td>\n",
       "    <td align=\"left\">&nbsp; </td>\n",
       "    <td align=\"left\">main</td>\n",
       "    <td align=\"left\">&nbsp; </td>\n",
       "    <td align=\"left\">&nbsp; </td>\n",
       "    <td align=\"left\">&nbsp; </td>\n",
       "  </tr>\n",
       "  <tr valign=\"top\">\n",
       "    <td align=\"left\">collection</td>\n",
       "    <td align=\"left\">text</td>\n",
       "    <td align=\"left\">&nbsp; </td>\n",
       "    <td align=\"left\">not null</td>\n",
       "    <td align=\"left\">&nbsp; </td>\n",
       "    <td align=\"left\">extended</td>\n",
       "    <td align=\"left\">&nbsp; </td>\n",
       "    <td align=\"left\">&nbsp; </td>\n",
       "    <td align=\"left\">&nbsp; </td>\n",
       "  </tr>\n",
       "  <tr valign=\"top\">\n",
       "    <td align=\"left\">datetime</td>\n",
       "    <td align=\"left\">timestamp with time zone</td>\n",
       "    <td align=\"left\">&nbsp; </td>\n",
       "    <td align=\"left\">not null</td>\n",
       "    <td align=\"left\">&nbsp; </td>\n",
       "    <td align=\"left\">plain</td>\n",
       "    <td align=\"left\">&nbsp; </td>\n",
       "    <td align=\"left\">&nbsp; </td>\n",
       "    <td align=\"left\">&nbsp; </td>\n",
       "  </tr>\n",
       "  <tr valign=\"top\">\n",
       "    <td align=\"left\">end_datetime</td>\n",
       "    <td align=\"left\">timestamp with time zone</td>\n",
       "    <td align=\"left\">&nbsp; </td>\n",
       "    <td align=\"left\">not null</td>\n",
       "    <td align=\"left\">&nbsp; </td>\n",
       "    <td align=\"left\">plain</td>\n",
       "    <td align=\"left\">&nbsp; </td>\n",
       "    <td align=\"left\">&nbsp; </td>\n",
       "    <td align=\"left\">&nbsp; </td>\n",
       "  </tr>\n",
       "  <tr valign=\"top\">\n",
       "    <td align=\"left\">content</td>\n",
       "    <td align=\"left\">jsonb</td>\n",
       "    <td align=\"left\">&nbsp; </td>\n",
       "    <td align=\"left\">not null</td>\n",
       "    <td align=\"left\">&nbsp; </td>\n",
       "    <td align=\"left\">extended</td>\n",
       "    <td align=\"left\">&nbsp; </td>\n",
       "    <td align=\"left\">&nbsp; </td>\n",
       "    <td align=\"left\">&nbsp; </td>\n",
       "  </tr>\n",
       "  <tr valign=\"top\">\n",
       "    <td align=\"left\">private</td>\n",
       "    <td align=\"left\">jsonb</td>\n",
       "    <td align=\"left\">&nbsp; </td>\n",
       "    <td align=\"left\">&nbsp; </td>\n",
       "    <td align=\"left\">&nbsp; </td>\n",
       "    <td align=\"left\">extended</td>\n",
       "    <td align=\"left\">&nbsp; </td>\n",
       "    <td align=\"left\">&nbsp; </td>\n",
       "    <td align=\"left\">&nbsp; </td>\n",
       "  </tr>\n",
       "</table>\n",
       "<p>Partition of: items FOR VALUES IN ('modis-13Q1-061')<br />\n",
       "Partition constraint: ((collection IS NOT NULL) AND (collection = 'modis-13Q1-061'::text))<br />\n",
       "Partition key: RANGE (datetime)<br />\n",
       "Indexes:<br />\n",
       "&nbsp;&nbsp;&nbsp;&nbsp;&quot;_items_1_datetime_end_datetime_idx&quot; btree (datetime DESC, end_datetime)<br />\n",
       "&nbsp;&nbsp;&nbsp;&nbsp;&quot;_items_1_geometry_idx&quot; gist (geometry)<br />\n",
       "Foreign-key constraints:<br />\n",
       "&nbsp;&nbsp;&nbsp;&nbsp;TABLE &quot;items&quot; CONSTRAINT &quot;items_collections_fk&quot; FOREIGN KEY (collection) REFERENCES collections(id) ON DELETE CASCADE DEFERRABLE<br />\n",
       "Partitions: _items_1_2023 FOR VALUES FROM ('2023-01-01 00:00:00+00') TO ('2024-01-01 00:00:00+00')<br />\n",
       "</p>\n",
       "<table border=\"1\">\n",
       "  <tr>\n",
       "    <th align=\"center\">partition</th>\n",
       "    <th align=\"center\">collection</th>\n",
       "    <th align=\"center\">level</th>\n",
       "    <th align=\"center\">reltuples</th>\n",
       "    <th align=\"center\">relhastriggers</th>\n",
       "    <th align=\"center\">partition_dtrange</th>\n",
       "    <th align=\"center\">constraint_dtrange</th>\n",
       "    <th align=\"center\">constraint_edtrange</th>\n",
       "    <th align=\"center\">dtrange</th>\n",
       "    <th align=\"center\">edtrange</th>\n",
       "    <th align=\"center\">spatial</th>\n",
       "    <th align=\"center\">last_updated</th>\n",
       "  </tr>\n",
       "  <tr valign=\"top\">\n",
       "    <td align=\"left\">_items_1_2023</td>\n",
       "    <td align=\"left\">modis-13Q1-061</td>\n",
       "    <td align=\"right\">2</td>\n",
       "    <td align=\"right\">1400</td>\n",
       "    <td align=\"left\">t</td>\n",
       "    <td align=\"left\">[&quot;2023-01-01 00:00:00+00&quot;,&quot;2024-01-01 00:00:00+00&quot;)</td>\n",
       "    <td align=\"left\">[&quot;2023-01-01 00:00:00+00&quot;,&quot;2024-01-01 00:00:00+00&quot;)</td>\n",
       "    <td align=\"left\">[-infinity,infinity]</td>\n",
       "    <td align=\"left\">[&quot;2023-08-29 00:00:00+00&quot;,&quot;2023-09-30 00:00:00+00&quot;]</td>\n",
       "    <td align=\"left\">[&quot;2023-09-13 23:59:59+00&quot;,&quot;2023-10-15 23:59:59+00&quot;]</td>\n",
       "    <td align=\"left\">0103000000010000000500000000000020984F76C0000000C019974FC000000020984F76C000000040EA4D554000000080ACDC724000000040EA4D554000000080ACDC7240000000C019974FC000000020984F76C0000000C019974FC0</td>\n",
       "    <td align=\"left\">2023-10-22 16:25:24.008197+00</td>\n",
       "  </tr>\n",
       "</table>\n",
       "<p>(1 row)<br />\n",
       "</p>\n"
      ],
      "text/plain": [
       "<IPython.core.display.HTML object>"
      ]
     },
     "metadata": {},
     "output_type": "display_data"
    }
   ],
   "source": [
    "%%psql\n",
    "UPDATE collections SET partition_trunc='year';\n",
    "\\d+ _items_1\n",
    "SELECT * FROM partitions WHERE collection='modis-13Q1-061';\n"
   ]
  },
  {
   "cell_type": "markdown",
   "id": "06c670f0-275e-45a1-adc5-ab3c781492af",
   "metadata": {},
   "source": [
    "\n",
    "- PgSTAC settings\n",
    "  - How to set\n",
    "    - GUC\n",
    "    - pgstac_settings\n",
    "    - search conf object\n",
    "  - context\n",
    "    - context_estimated_count\n",
    "    - context_estimated_cost\n",
    "    - context_stats_ttl\n",
    "  - additional_properties\n",
    "  - use_queue\n",
    "  - queue_timeout\n",
    "  - update_collection_extent\n",
    "- PgSTAC Roles\n",
    "  - pgstac_admin\n",
    "  - pgstac_ingest\n",
    "  - pgstac_read\n",
    "- Database Structure\n",
    "  - Partitions\n",
    "  - Triggers\n",
    "- Data Ingest\n",
    "  - pypgstac loader\n",
    "  - magic tables\n",
    "  - functions\n",
    "- Loading Data\n",
    "  - Collection Required\n",
    "  - Primary Key is id by partition\n",
    "  - Considerations of transactions, concurrency\n",
    "    - concurrency issues mostly when loading to same partition\n",
    "  - Partition Trunc Strategy\n",
    "    - Changing Partitions\n",
    "  - Query Queue\n",
    "  - Update Collection Extent\n",
    "  - Hydration\n",
    "- Partition Metadata\n",
    "- Search\n",
    "  - Chunked Search for Order by Datetime\n",
    "  - Context\n",
    "  - Queryables\n",
    "    - additional_properties\n",
    "    - wrappers\n",
    "    - indexing\n",
    "      - warning about too many indexes\n",
    "  - Filter / CQL2-JSON\n",
    "- STAC FastAPI\n",
    "- pgstac.rs etc "
   ]
  },
  {
   "cell_type": "code",
   "execution_count": 23,
   "id": "2b1a32b0-36ff-4948-bd60-020fb4b8c6b8",
   "metadata": {},
   "outputs": [
    {
     "name": "stderr",
     "output_type": "stream",
     "text": [
      "INFO:pypgstac.db:NOTICE - FILTER: <NULL>\n",
      "INFO:pypgstac.db:NOTICE - SEARCH:TOKEN: <NULL>\n",
      "INFO:pypgstac.db:NOTICE - ***TOKEN: <NULL>\n",
      "INFO:pypgstac.db:NOTICE - FULL WHERE CLAUSE:  TRUE \n",
      "INFO:pypgstac.db:NOTICE - Time to get counts and build query 22.296\n",
      "INFO:pypgstac.db:NOTICE - Getting hydrated data.\n",
      "INFO:pypgstac.db:NOTICE - CACHE SET TO f\n",
      "INFO:pypgstac.db:NOTICE - Time to set hydration/formatting 0.51\n",
      "INFO:pypgstac.db:NOTICE - Getting chunks for  TRUE  datetime DESC, id DESC\n",
      "INFO:pypgstac.db:NOTICE - Running Query for 2023-01-01 00:00:00+00 to 2024-02-01 00:00:00+00. 2.844\n",
      "INFO:pypgstac.db:NOTICE - Returned 11/11 Rows From 2023-01-01 00:00:00+00 to 2024-02-01 00:00:00+00. 0 to go. Time: 0.996ms\n",
      "INFO:pypgstac.db:NOTICE - SEARCH_ROWS TOOK 4.182ms\n",
      "INFO:pypgstac.db:NOTICE - Time to fetch rows 70.472\n",
      "INFO:pypgstac.db:NOTICE - Query returned 11 records.\n",
      "INFO:pypgstac.db:NOTICE - HAS NEXT | modis-13Q1-061:MOD13Q1.A2023273.h33v09.061.2023290142939\n",
      "INFO:pypgstac.db:NOTICE - Time to get prev/next 0.921\n",
      "INFO:pypgstac.db:NOTICE - Time to build final json 0.696\n",
      "INFO:pypgstac.db:NOTICE - Total Time: 106.682\n",
      "INFO:pypgstac.db:NOTICE - RETURNING 10 records. NEXT: modis-13Q1-061:MOD13Q1.A2023273.h33v09.061.2023290142939. PREV: <NULL>\n"
     ]
    },
    {
     "name": "stdout",
     "output_type": "stream",
     "text": [
      "{\"next\":\"modis-13Q1-061:MOD13Q1.A2023273.h33v09.061.2023290142939\",\"prev\":null,\"type\":\"FeatureCollection\",\"context\":{\"limit\":10,\"returned\":10},\"features\":[{\"id\":\"MOD13Q1.A2023273.h35v10.061.2023290142559\",\"bbox\":[172.479315908761,-19.180676222654,180.143592885496,-9.97534112170732],\"type\":\"Feature\",\"links\":[{\"rel\":\"collection\",\"href\":\"https://planetarycomputer.microsoft.com/api/stac/v1/collections/modis-13Q1-061\",\"type\":\"application/json\"},{\"rel\":\"parent\",\"href\":\"https://planetarycomputer.microsoft.com/api/stac/v1/collections/modis-13Q1-061\",\"type\":\"application/json\"},{\"rel\":\"root\",\"href\":\"https://planetarycomputer.microsoft.com/api/stac/v1\",\"type\":\"application/json\",\"title\":\"Microsoft Planetary Computer STAC API\"},{\"rel\":\"self\",\"href\":\"https://planetarycomputer.microsoft.com/api/stac/v1/collections/modis-13Q1-061/items/MOD13Q1.A2023273.h35v10.061.2023290142559\",\"type\":\"application/geo+json\"},{\"rel\":\"preview\",\"href\":\"https://planetarycomputer.microsoft.com/api/data/v1/item/map?collection=modis-13Q1-061&item=MOD13Q1.A2023273.h35v10.061.2023290142559\",\"type\":\"text/html\",\"title\":\"Map of item\"}],\"assets\":{\"hdf\":{\"href\":\"https://modiseuwest.blob.core.windows.net/modis-061/MOD13Q1/35/10/2023273/MOD13Q1.A2023273.h35v10.061.2023290142559.hdf\",\"type\":\"application/x-hdf\",\"roles\":[\"data\"],\"title\":\"Source data containing all bands\"},\"metadata\":{\"href\":\"https://modiseuwest.blob.core.windows.net/modis-061/MOD13Q1/35/10/2023273/MOD13Q1.A2023273.h35v10.061.2023290142559.hdf.xml\",\"type\":\"application/xml\",\"roles\":[\"metadata\"],\"title\":\"Federal Geographic Data Committee (FGDC) Metadata\"},\"tilejson\":{\"href\":\"https://planetarycomputer.microsoft.com/api/data/v1/item/tilejson.json?collection=modis-13Q1-061&item=MOD13Q1.A2023273.h35v10.061.2023290142559&assets=250m_16_days_NDVI&tile_format=png&colormap_name=modis-13A1%7CQ1&rescale=0%2C10000&format=png\",\"type\":\"application/json\",\"roles\":[\"tiles\"],\"title\":\"TileJSON with default rendering\"},\"250m_16_days_EVI\":{\"href\":\"https://modiseuwest.blob.core.windows.net/modis-061-cogs/MOD13Q1/35/10/2023273/MOD13Q1.A2023273.h35v10.061.2023290142559_250m_16_days_EVI.tif\",\"type\":\"image/tiff; application=geotiff; profile=cloud-optimized\",\"roles\":[\"data\"],\"title\":\"16 day EVI\",\"raster:bands\":[{\"unit\":\"EVI\",\"scale\":0.0001,\"data_type\":\"int16\",\"spatial_resolution\":250}]},\"rendered_preview\":{\"rel\":\"preview\",\"href\":\"https://planetarycomputer.microsoft.com/api/data/v1/item/preview.png?collection=modis-13Q1-061&item=MOD13Q1.A2023273.h35v10.061.2023290142559&assets=250m_16_days_NDVI&tile_format=png&colormap_name=modis-13A1%7CQ1&rescale=0%2C10000&format=png\",\"type\":\"image/png\",\"roles\":[\"overview\"],\"title\":\"Rendered preview\"},\"250m_16_days_NDVI\":{\"href\":\"https://modiseuwest.blob.core.windows.net/modis-061-cogs/MOD13Q1/35/10/2023273/MOD13Q1.A2023273.h35v10.061.2023290142559_250m_16_days_NDVI.tif\",\"type\":\"image/tiff; application=geotiff; profile=cloud-optimized\",\"roles\":[\"data\"],\"title\":\"16 day NDVI\",\"raster:bands\":[{\"unit\":\"NDVI\",\"scale\":0.0001,\"data_type\":\"int16\",\"spatial_resolution\":250}]},\"250m_16_days_VI_Quality\":{\"href\":\"https://modiseuwest.blob.core.windows.net/modis-061-cogs/MOD13Q1/35/10/2023273/MOD13Q1.A2023273.h35v10.061.2023290142559_250m_16_days_VI_Quality.tif\",\"type\":\"image/tiff; application=geotiff; profile=cloud-optimized\",\"roles\":[\"data\"],\"title\":\"VI quality indicators\",\"raster:bands\":[{\"data_type\":\"uint16\",\"spatial_resolution\":250}]},\"250m_16_days_MIR_reflectance\":{\"href\":\"https://modiseuwest.blob.core.windows.net/modis-061-cogs/MOD13Q1/35/10/2023273/MOD13Q1.A2023273.h35v10.061.2023290142559_250m_16_days_MIR_reflectance.tif\",\"type\":\"image/tiff; application=geotiff; profile=cloud-optimized\",\"roles\":[\"data\"],\"title\":\"Surface Reflectance Band 7\",\"raster:bands\":[{\"scale\":0.0001,\"data_type\":\"int16\",\"spatial_resolution\":250}]},\"250m_16_days_NIR_reflectance\":{\"href\":\"https://modiseuwest.blob.core.windows.net/modis-061-cogs/MOD13Q1/35/10/2023273/MOD13Q1.A2023273.h35v10.061.2023290142559_250m_16_days_NIR_reflectance.tif\",\"type\":\"image/tiff; application=geotiff; profile=cloud-optimized\",\"roles\":[\"data\"],\"title\":\"Surface Reflectance Band 2\",\"raster:bands\":[{\"scale\":0.0001,\"data_type\":\"int16\",\"spatial_resolution\":250}]},\"250m_16_days_red_reflectance\":{\"href\":\"https://modiseuwest.blob.core.windows.net/modis-061-cogs/MOD13Q1/35/10/2023273/MOD13Q1.A2023273.h35v10.061.2023290142559_250m_16_days_red_reflectance.tif\",\"type\":\"image/tiff; application=geotiff; profile=cloud-optimized\",\"roles\":[\"data\"],\"title\":\"Surface Reflectance Band 1\",\"raster:bands\":[{\"scale\":0.0001,\"data_type\":\"int16\",\"spatial_resolution\":250}]},\"250m_16_days_blue_reflectance\":{\"href\":\"https://modiseuwest.blob.core.windows.net/modis-061-cogs/MOD13Q1/35/10/2023273/MOD13Q1.A2023273.h35v10.061.2023290142559_250m_16_days_blue_reflectance.tif\",\"type\":\"image/tiff; application=geotiff; profile=cloud-optimized\",\"roles\":[\"data\"],\"title\":\"Surface Reflectance Band 3\",\"raster:bands\":[{\"scale\":0.0001,\"data_type\":\"int16\",\"spatial_resolution\":250}]},\"250m_16_days_sun_zenith_angle\":{\"href\":\"https://modiseuwest.blob.core.windows.net/modis-061-cogs/MOD13Q1/35/10/2023273/MOD13Q1.A2023273.h35v10.061.2023290142559_250m_16_days_sun_zenith_angle.tif\",\"type\":\"image/tiff; application=geotiff; profile=cloud-optimized\",\"roles\":[\"data\"],\"title\":\"Sun zenith angle of VI pixel\",\"raster:bands\":[{\"unit\":\"Degree\",\"scale\":0.01,\"data_type\":\"int16\",\"spatial_resolution\":250}]},\"250m_16_days_pixel_reliability\":{\"href\":\"https://modiseuwest.blob.core.windows.net/modis-061-cogs/MOD13Q1/35/10/2023273/MOD13Q1.A2023273.h35v10.061.2023290142559_250m_16_days_pixel_reliability.tif\",\"type\":\"image/tiff; application=geotiff; profile=cloud-optimized\",\"roles\":[\"data\"],\"title\":\"Quality reliability of VI pixel\",\"raster:bands\":[{\"unit\":\"Rank\",\"data_type\":\"int8\",\"spatial_resolution\":250}],\"classification:classes\":[{\"value\":0,\"description\":\"Good data, use with confidence\"},{\"value\":1,\"description\":\"Marginal data, useful, but look at other QA information\"},{\"value\":2,\"description\":\"Snow/Ice Target covered with snow/ice\"},{\"value\":3,\"description\":\"Cloudy data\"}]},\"250m_16_days_view_zenith_angle\":{\"href\":\"https://modiseuwest.blob.core.windows.net/modis-061-cogs/MOD13Q1/35/10/2023273/MOD13Q1.A2023273.h35v10.061.2023290142559_250m_16_days_view_zenith_angle.tif\",\"type\":\"image/tiff; application=geotiff; profile=cloud-optimized\",\"roles\":[\"data\"],\"title\":\"View zenith angle of VI Pixel\",\"raster:bands\":[{\"unit\":\"Degree\",\"scale\":0.01,\"data_type\":\"int16\",\"spatial_resolution\":250}]},\"250m_16_days_relative_azimuth_angle\":{\"href\":\"https://modiseuwest.blob.core.windows.net/modis-061-cogs/MOD13Q1/35/10/2023273/MOD13Q1.A2023273.h35v10.061.2023290142559_250m_16_days_relative_azimuth_angle.tif\",\"type\":\"image/tiff; application=geotiff; profile=cloud-optimized\",\"roles\":[\"data\"],\"title\":\"Relative azimuth angle of VI pixel\",\"raster:bands\":[{\"unit\":\"Degree\",\"scale\":0.01,\"data_type\":\"int16\",\"spatial_resolution\":250}]},\"250m_16_days_composite_day_of_the_year\":{\"href\":\"https://modiseuwest.blob.core.windows.net/modis-061-cogs/MOD13Q1/35/10/2023273/MOD13Q1.A2023273.h35v10.061.2023290142559_250m_16_days_composite_day_of_the_year.tif\",\"type\":\"image/tiff; application=geotiff; profile=cloud-optimized\",\"roles\":[\"data\"],\"title\":\"Day of year VI pixel\",\"raster:bands\":[{\"unit\":\"Julian Day\",\"data_type\":\"int16\",\"spatial_resolution\":250}]}},\"geometry\":{\"type\":\"Polygon\",\"coordinates\":[[[172.479315908761,-19.1662177463598],[180.143592885496,-19.180676222654],[179.999502554976,-9.97534112170732],[172.622770159185,-9.98364248250805],[172.479315908761,-19.1662177463598]]]},\"collection\":\"modis-13Q1-061\",\"properties\":{\"created\":\"2023-10-17T18:25:59Z\",\"updated\":\"2023-10-17T13:32:22.857000Z\",\"platform\":\"terra\",\"proj:wkt2\":\"PROJCS[\\\"unnamed\\\",GEOGCS[\\\"Unknown datum based upon the custom spheroid\\\",DATUM[\\\"Not specified (based on custom spheroid)\\\",SPHEROID[\\\"Custom spheroid\\\",6371007.181,0]],PRIMEM[\\\"Greenwich\\\",0],UNIT[\\\"degree\\\",0.0174532925199433,AUTHORITY[\\\"EPSG\\\",\\\"9122\\\"]]],PROJECTION[\\\"Sinusoidal\\\"],PARAMETER[\\\"longitude_of_center\\\",0],PARAMETER[\\\"false_easting\\\",0],PARAMETER[\\\"false_northing\\\",0],UNIT[\\\"Meter\\\",1],AXIS[\\\"Easting\\\",EAST],AXIS[\\\"Northing\\\",NORTH]]\",\"proj:shape\":[4800,4800],\"instruments\":[\"modis\"],\"end_datetime\":\"2023-10-15T23:59:59Z\",\"modis:tile-id\":\"51035010\",\"proj:geometry\":{\"type\":\"Polygon\",\"coordinates\":[[[20015109.354,-2223901.039333],[20015109.354,-1111950.519667],[18903158.834333,-1111950.519667],[18903158.834333,-2223901.039333],[20015109.354,-2223901.039333]]]},\"proj:transform\":[231.65635826395825,0.0,18903158.834333,0.0,-231.65635826374995,-1111950.519667],\"start_datetime\":\"2023-09-30T00:00:00Z\",\"modis:vertical-tile\":10,\"modis:horizontal-tile\":35},\"stac_version\":\"1.0.0\",\"stac_extensions\":[\"https://stac-extensions.github.io/projection/v1.1.0/schema.json\",\"https://stac-extensions.github.io/raster/v1.1.0/schema.json\",\"https://stac-extensions.github.io/classification/v1.0.0/schema.json\"]},{\"id\":\"MOD13Q1.A2023273.h35v09.061.2023290142608\",\"bbox\":[169.928592841145,-9.99897790814368,180.071523386457,0.00688901997272997],\"type\":\"Feature\",\"links\":[{\"rel\":\"collection\",\"href\":\"https://planetarycomputer.microsoft.com/api/stac/v1/collections/modis-13Q1-061\",\"type\":\"application/json\"},{\"rel\":\"parent\",\"href\":\"https://planetarycomputer.microsoft.com/api/stac/v1/collections/modis-13Q1-061\",\"type\":\"application/json\"},{\"rel\":\"root\",\"href\":\"https://planetarycomputer.microsoft.com/api/stac/v1\",\"type\":\"application/json\",\"title\":\"Microsoft Planetary Computer STAC API\"},{\"rel\":\"self\",\"href\":\"https://planetarycomputer.microsoft.com/api/stac/v1/collections/modis-13Q1-061/items/MOD13Q1.A2023273.h35v09.061.2023290142608\",\"type\":\"application/geo+json\"},{\"rel\":\"preview\",\"href\":\"https://planetarycomputer.microsoft.com/api/data/v1/item/map?collection=modis-13Q1-061&item=MOD13Q1.A2023273.h35v09.061.2023290142608\",\"type\":\"text/html\",\"title\":\"Map of item\"}],\"assets\":{\"hdf\":{\"href\":\"https://modiseuwest.blob.core.windows.net/modis-061/MOD13Q1/35/09/2023273/MOD13Q1.A2023273.h35v09.061.2023290142608.hdf\",\"type\":\"application/x-hdf\",\"roles\":[\"data\"],\"title\":\"Source data containing all bands\"},\"metadata\":{\"href\":\"https://modiseuwest.blob.core.windows.net/modis-061/MOD13Q1/35/09/2023273/MOD13Q1.A2023273.h35v09.061.2023290142608.hdf.xml\",\"type\":\"application/xml\",\"roles\":[\"metadata\"],\"title\":\"Federal Geographic Data Committee (FGDC) Metadata\"},\"tilejson\":{\"href\":\"https://planetarycomputer.microsoft.com/api/data/v1/item/tilejson.json?collection=modis-13Q1-061&item=MOD13Q1.A2023273.h35v09.061.2023290142608&assets=250m_16_days_NDVI&tile_format=png&colormap_name=modis-13A1%7CQ1&rescale=0%2C10000&format=png\",\"type\":\"application/json\",\"roles\":[\"tiles\"],\"title\":\"TileJSON with default rendering\"},\"250m_16_days_EVI\":{\"href\":\"https://modiseuwest.blob.core.windows.net/modis-061-cogs/MOD13Q1/35/09/2023273/MOD13Q1.A2023273.h35v09.061.2023290142608_250m_16_days_EVI.tif\",\"type\":\"image/tiff; application=geotiff; profile=cloud-optimized\",\"roles\":[\"data\"],\"title\":\"16 day EVI\",\"raster:bands\":[{\"unit\":\"EVI\",\"scale\":0.0001,\"data_type\":\"int16\",\"spatial_resolution\":250}]},\"rendered_preview\":{\"rel\":\"preview\",\"href\":\"https://planetarycomputer.microsoft.com/api/data/v1/item/preview.png?collection=modis-13Q1-061&item=MOD13Q1.A2023273.h35v09.061.2023290142608&assets=250m_16_days_NDVI&tile_format=png&colormap_name=modis-13A1%7CQ1&rescale=0%2C10000&format=png\",\"type\":\"image/png\",\"roles\":[\"overview\"],\"title\":\"Rendered preview\"},\"250m_16_days_NDVI\":{\"href\":\"https://modiseuwest.blob.core.windows.net/modis-061-cogs/MOD13Q1/35/09/2023273/MOD13Q1.A2023273.h35v09.061.2023290142608_250m_16_days_NDVI.tif\",\"type\":\"image/tiff; application=geotiff; profile=cloud-optimized\",\"roles\":[\"data\"],\"title\":\"16 day NDVI\",\"raster:bands\":[{\"unit\":\"NDVI\",\"scale\":0.0001,\"data_type\":\"int16\",\"spatial_resolution\":250}]},\"250m_16_days_VI_Quality\":{\"href\":\"https://modiseuwest.blob.core.windows.net/modis-061-cogs/MOD13Q1/35/09/2023273/MOD13Q1.A2023273.h35v09.061.2023290142608_250m_16_days_VI_Quality.tif\",\"type\":\"image/tiff; application=geotiff; profile=cloud-optimized\",\"roles\":[\"data\"],\"title\":\"VI quality indicators\",\"raster:bands\":[{\"data_type\":\"uint16\",\"spatial_resolution\":250}]},\"250m_16_days_MIR_reflectance\":{\"href\":\"https://modiseuwest.blob.core.windows.net/modis-061-cogs/MOD13Q1/35/09/2023273/MOD13Q1.A2023273.h35v09.061.2023290142608_250m_16_days_MIR_reflectance.tif\",\"type\":\"image/tiff; application=geotiff; profile=cloud-optimized\",\"roles\":[\"data\"],\"title\":\"Surface Reflectance Band 7\",\"raster:bands\":[{\"scale\":0.0001,\"data_type\":\"int16\",\"spatial_resolution\":250}]},\"250m_16_days_NIR_reflectance\":{\"href\":\"https://modiseuwest.blob.core.windows.net/modis-061-cogs/MOD13Q1/35/09/2023273/MOD13Q1.A2023273.h35v09.061.2023290142608_250m_16_days_NIR_reflectance.tif\",\"type\":\"image/tiff; application=geotiff; profile=cloud-optimized\",\"roles\":[\"data\"],\"title\":\"Surface Reflectance Band 2\",\"raster:bands\":[{\"scale\":0.0001,\"data_type\":\"int16\",\"spatial_resolution\":250}]},\"250m_16_days_red_reflectance\":{\"href\":\"https://modiseuwest.blob.core.windows.net/modis-061-cogs/MOD13Q1/35/09/2023273/MOD13Q1.A2023273.h35v09.061.2023290142608_250m_16_days_red_reflectance.tif\",\"type\":\"image/tiff; application=geotiff; profile=cloud-optimized\",\"roles\":[\"data\"],\"title\":\"Surface Reflectance Band 1\",\"raster:bands\":[{\"scale\":0.0001,\"data_type\":\"int16\",\"spatial_resolution\":250}]},\"250m_16_days_blue_reflectance\":{\"href\":\"https://modiseuwest.blob.core.windows.net/modis-061-cogs/MOD13Q1/35/09/2023273/MOD13Q1.A2023273.h35v09.061.2023290142608_250m_16_days_blue_reflectance.tif\",\"type\":\"image/tiff; application=geotiff; profile=cloud-optimized\",\"roles\":[\"data\"],\"title\":\"Surface Reflectance Band 3\",\"raster:bands\":[{\"scale\":0.0001,\"data_type\":\"int16\",\"spatial_resolution\":250}]},\"250m_16_days_sun_zenith_angle\":{\"href\":\"https://modiseuwest.blob.core.windows.net/modis-061-cogs/MOD13Q1/35/09/2023273/MOD13Q1.A2023273.h35v09.061.2023290142608_250m_16_days_sun_zenith_angle.tif\",\"type\":\"image/tiff; application=geotiff; profile=cloud-optimized\",\"roles\":[\"data\"],\"title\":\"Sun zenith angle of VI pixel\",\"raster:bands\":[{\"unit\":\"Degree\",\"scale\":0.01,\"data_type\":\"int16\",\"spatial_resolution\":250}]},\"250m_16_days_pixel_reliability\":{\"href\":\"https://modiseuwest.blob.core.windows.net/modis-061-cogs/MOD13Q1/35/09/2023273/MOD13Q1.A2023273.h35v09.061.2023290142608_250m_16_days_pixel_reliability.tif\",\"type\":\"image/tiff; application=geotiff; profile=cloud-optimized\",\"roles\":[\"data\"],\"title\":\"Quality reliability of VI pixel\",\"raster:bands\":[{\"unit\":\"Rank\",\"data_type\":\"int8\",\"spatial_resolution\":250}],\"classification:classes\":[{\"value\":0,\"description\":\"Good data, use with confidence\"},{\"value\":1,\"description\":\"Marginal data, useful, but look at other QA information\"},{\"value\":2,\"description\":\"Snow/Ice Target covered with snow/ice\"},{\"value\":3,\"description\":\"Cloudy data\"}]},\"250m_16_days_view_zenith_angle\":{\"href\":\"https://modiseuwest.blob.core.windows.net/modis-061-cogs/MOD13Q1/35/09/2023273/MOD13Q1.A2023273.h35v09.061.2023290142608_250m_16_days_view_zenith_angle.tif\",\"type\":\"image/tiff; application=geotiff; profile=cloud-optimized\",\"roles\":[\"data\"],\"title\":\"View zenith angle of VI Pixel\",\"raster:bands\":[{\"unit\":\"Degree\",\"scale\":0.01,\"data_type\":\"int16\",\"spatial_resolution\":250}]},\"250m_16_days_relative_azimuth_angle\":{\"href\":\"https://modiseuwest.blob.core.windows.net/modis-061-cogs/MOD13Q1/35/09/2023273/MOD13Q1.A2023273.h35v09.061.2023290142608_250m_16_days_relative_azimuth_angle.tif\",\"type\":\"image/tiff; application=geotiff; profile=cloud-optimized\",\"roles\":[\"data\"],\"title\":\"Relative azimuth angle of VI pixel\",\"raster:bands\":[{\"unit\":\"Degree\",\"scale\":0.01,\"data_type\":\"int16\",\"spatial_resolution\":250}]},\"250m_16_days_composite_day_of_the_year\":{\"href\":\"https://modiseuwest.blob.core.windows.net/modis-061-cogs/MOD13Q1/35/09/2023273/MOD13Q1.A2023273.h35v09.061.2023290142608_250m_16_days_composite_day_of_the_year.tif\",\"type\":\"image/tiff; application=geotiff; profile=cloud-optimized\",\"roles\":[\"data\"],\"title\":\"Day of year VI pixel\",\"raster:bands\":[{\"unit\":\"Julian Day\",\"data_type\":\"int16\",\"spatial_resolution\":250}]}},\"geometry\":{\"type\":\"Polygon\",\"coordinates\":[[[169.928592841145,-9.99112932513571],[180.071523386457,-9.99897790814368],[179.999892115949,0.00688901997272997],[169.999999984734,7.95138670365879e-16],[169.928592841145,-9.99112932513571]]]},\"collection\":\"modis-13Q1-061\",\"properties\":{\"created\":\"2023-10-17T18:26:08Z\",\"updated\":\"2023-10-17T13:32:31.409000Z\",\"platform\":\"terra\",\"proj:wkt2\":\"PROJCS[\\\"unnamed\\\",GEOGCS[\\\"Unknown datum based upon the custom spheroid\\\",DATUM[\\\"Not specified (based on custom spheroid)\\\",SPHEROID[\\\"Custom spheroid\\\",6371007.181,0]],PRIMEM[\\\"Greenwich\\\",0],UNIT[\\\"degree\\\",0.0174532925199433,AUTHORITY[\\\"EPSG\\\",\\\"9122\\\"]]],PROJECTION[\\\"Sinusoidal\\\"],PARAMETER[\\\"longitude_of_center\\\",0],PARAMETER[\\\"false_easting\\\",0],PARAMETER[\\\"false_northing\\\",0],UNIT[\\\"Meter\\\",1],AXIS[\\\"Easting\\\",EAST],AXIS[\\\"Northing\\\",NORTH]]\",\"proj:shape\":[4800,4800],\"instruments\":[\"modis\"],\"end_datetime\":\"2023-10-15T23:59:59Z\",\"modis:tile-id\":\"51035009\",\"proj:geometry\":{\"type\":\"Polygon\",\"coordinates\":[[[20015109.354,-1111950.519667],[20015109.354,0.0],[18903158.834333,0.0],[18903158.834333,-1111950.519667],[20015109.354,-1111950.519667]]]},\"proj:transform\":[231.65635826395825,0.0,18903158.834333,0.0,-231.65635826395834,0.0],\"start_datetime\":\"2023-09-30T00:00:00Z\",\"modis:vertical-tile\":9,\"modis:horizontal-tile\":35},\"stac_version\":\"1.0.0\",\"stac_extensions\":[\"https://stac-extensions.github.io/projection/v1.1.0/schema.json\",\"https://stac-extensions.github.io/raster/v1.1.0/schema.json\",\"https://stac-extensions.github.io/classification/v1.0.0/schema.json\"]},{\"id\":\"MOD13Q1.A2023273.h35v08.061.2023290141752\",\"bbox\":[169.928592841145,-0.00688901997272678,180.071523386456,9.99897790814368],\"type\":\"Feature\",\"links\":[{\"rel\":\"collection\",\"href\":\"https://planetarycomputer.microsoft.com/api/stac/v1/collections/modis-13Q1-061\",\"type\":\"application/json\"},{\"rel\":\"parent\",\"href\":\"https://planetarycomputer.microsoft.com/api/stac/v1/collections/modis-13Q1-061\",\"type\":\"application/json\"},{\"rel\":\"root\",\"href\":\"https://planetarycomputer.microsoft.com/api/stac/v1\",\"type\":\"application/json\",\"title\":\"Microsoft Planetary Computer STAC API\"},{\"rel\":\"self\",\"href\":\"https://planetarycomputer.microsoft.com/api/stac/v1/collections/modis-13Q1-061/items/MOD13Q1.A2023273.h35v08.061.2023290141752\",\"type\":\"application/geo+json\"},{\"rel\":\"preview\",\"href\":\"https://planetarycomputer.microsoft.com/api/data/v1/item/map?collection=modis-13Q1-061&item=MOD13Q1.A2023273.h35v08.061.2023290141752\",\"type\":\"text/html\",\"title\":\"Map of item\"}],\"assets\":{\"hdf\":{\"href\":\"https://modiseuwest.blob.core.windows.net/modis-061/MOD13Q1/35/08/2023273/MOD13Q1.A2023273.h35v08.061.2023290141752.hdf\",\"type\":\"application/x-hdf\",\"roles\":[\"data\"],\"title\":\"Source data containing all bands\"},\"metadata\":{\"href\":\"https://modiseuwest.blob.core.windows.net/modis-061/MOD13Q1/35/08/2023273/MOD13Q1.A2023273.h35v08.061.2023290141752.hdf.xml\",\"type\":\"application/xml\",\"roles\":[\"metadata\"],\"title\":\"Federal Geographic Data Committee (FGDC) Metadata\"},\"tilejson\":{\"href\":\"https://planetarycomputer.microsoft.com/api/data/v1/item/tilejson.json?collection=modis-13Q1-061&item=MOD13Q1.A2023273.h35v08.061.2023290141752&assets=250m_16_days_NDVI&tile_format=png&colormap_name=modis-13A1%7CQ1&rescale=0%2C10000&format=png\",\"type\":\"application/json\",\"roles\":[\"tiles\"],\"title\":\"TileJSON with default rendering\"},\"250m_16_days_EVI\":{\"href\":\"https://modiseuwest.blob.core.windows.net/modis-061-cogs/MOD13Q1/35/08/2023273/MOD13Q1.A2023273.h35v08.061.2023290141752_250m_16_days_EVI.tif\",\"type\":\"image/tiff; application=geotiff; profile=cloud-optimized\",\"roles\":[\"data\"],\"title\":\"16 day EVI\",\"raster:bands\":[{\"unit\":\"EVI\",\"scale\":0.0001,\"data_type\":\"int16\",\"spatial_resolution\":250}]},\"rendered_preview\":{\"rel\":\"preview\",\"href\":\"https://planetarycomputer.microsoft.com/api/data/v1/item/preview.png?collection=modis-13Q1-061&item=MOD13Q1.A2023273.h35v08.061.2023290141752&assets=250m_16_days_NDVI&tile_format=png&colormap_name=modis-13A1%7CQ1&rescale=0%2C10000&format=png\",\"type\":\"image/png\",\"roles\":[\"overview\"],\"title\":\"Rendered preview\"},\"250m_16_days_NDVI\":{\"href\":\"https://modiseuwest.blob.core.windows.net/modis-061-cogs/MOD13Q1/35/08/2023273/MOD13Q1.A2023273.h35v08.061.2023290141752_250m_16_days_NDVI.tif\",\"type\":\"image/tiff; application=geotiff; profile=cloud-optimized\",\"roles\":[\"data\"],\"title\":\"16 day NDVI\",\"raster:bands\":[{\"unit\":\"NDVI\",\"scale\":0.0001,\"data_type\":\"int16\",\"spatial_resolution\":250}]},\"250m_16_days_VI_Quality\":{\"href\":\"https://modiseuwest.blob.core.windows.net/modis-061-cogs/MOD13Q1/35/08/2023273/MOD13Q1.A2023273.h35v08.061.2023290141752_250m_16_days_VI_Quality.tif\",\"type\":\"image/tiff; application=geotiff; profile=cloud-optimized\",\"roles\":[\"data\"],\"title\":\"VI quality indicators\",\"raster:bands\":[{\"data_type\":\"uint16\",\"spatial_resolution\":250}]},\"250m_16_days_MIR_reflectance\":{\"href\":\"https://modiseuwest.blob.core.windows.net/modis-061-cogs/MOD13Q1/35/08/2023273/MOD13Q1.A2023273.h35v08.061.2023290141752_250m_16_days_MIR_reflectance.tif\",\"type\":\"image/tiff; application=geotiff; profile=cloud-optimized\",\"roles\":[\"data\"],\"title\":\"Surface Reflectance Band 7\",\"raster:bands\":[{\"scale\":0.0001,\"data_type\":\"int16\",\"spatial_resolution\":250}]},\"250m_16_days_NIR_reflectance\":{\"href\":\"https://modiseuwest.blob.core.windows.net/modis-061-cogs/MOD13Q1/35/08/2023273/MOD13Q1.A2023273.h35v08.061.2023290141752_250m_16_days_NIR_reflectance.tif\",\"type\":\"image/tiff; application=geotiff; profile=cloud-optimized\",\"roles\":[\"data\"],\"title\":\"Surface Reflectance Band 2\",\"raster:bands\":[{\"scale\":0.0001,\"data_type\":\"int16\",\"spatial_resolution\":250}]},\"250m_16_days_red_reflectance\":{\"href\":\"https://modiseuwest.blob.core.windows.net/modis-061-cogs/MOD13Q1/35/08/2023273/MOD13Q1.A2023273.h35v08.061.2023290141752_250m_16_days_red_reflectance.tif\",\"type\":\"image/tiff; application=geotiff; profile=cloud-optimized\",\"roles\":[\"data\"],\"title\":\"Surface Reflectance Band 1\",\"raster:bands\":[{\"scale\":0.0001,\"data_type\":\"int16\",\"spatial_resolution\":250}]},\"250m_16_days_blue_reflectance\":{\"href\":\"https://modiseuwest.blob.core.windows.net/modis-061-cogs/MOD13Q1/35/08/2023273/MOD13Q1.A2023273.h35v08.061.2023290141752_250m_16_days_blue_reflectance.tif\",\"type\":\"image/tiff; application=geotiff; profile=cloud-optimized\",\"roles\":[\"data\"],\"title\":\"Surface Reflectance Band 3\",\"raster:bands\":[{\"scale\":0.0001,\"data_type\":\"int16\",\"spatial_resolution\":250}]},\"250m_16_days_sun_zenith_angle\":{\"href\":\"https://modiseuwest.blob.core.windows.net/modis-061-cogs/MOD13Q1/35/08/2023273/MOD13Q1.A2023273.h35v08.061.2023290141752_250m_16_days_sun_zenith_angle.tif\",\"type\":\"image/tiff; application=geotiff; profile=cloud-optimized\",\"roles\":[\"data\"],\"title\":\"Sun zenith angle of VI pixel\",\"raster:bands\":[{\"unit\":\"Degree\",\"scale\":0.01,\"data_type\":\"int16\",\"spatial_resolution\":250}]},\"250m_16_days_pixel_reliability\":{\"href\":\"https://modiseuwest.blob.core.windows.net/modis-061-cogs/MOD13Q1/35/08/2023273/MOD13Q1.A2023273.h35v08.061.2023290141752_250m_16_days_pixel_reliability.tif\",\"type\":\"image/tiff; application=geotiff; profile=cloud-optimized\",\"roles\":[\"data\"],\"title\":\"Quality reliability of VI pixel\",\"raster:bands\":[{\"unit\":\"Rank\",\"data_type\":\"int8\",\"spatial_resolution\":250}],\"classification:classes\":[{\"value\":0,\"description\":\"Good data, use with confidence\"},{\"value\":1,\"description\":\"Marginal data, useful, but look at other QA information\"},{\"value\":2,\"description\":\"Snow/Ice Target covered with snow/ice\"},{\"value\":3,\"description\":\"Cloudy data\"}]},\"250m_16_days_view_zenith_angle\":{\"href\":\"https://modiseuwest.blob.core.windows.net/modis-061-cogs/MOD13Q1/35/08/2023273/MOD13Q1.A2023273.h35v08.061.2023290141752_250m_16_days_view_zenith_angle.tif\",\"type\":\"image/tiff; application=geotiff; profile=cloud-optimized\",\"roles\":[\"data\"],\"title\":\"View zenith angle of VI Pixel\",\"raster:bands\":[{\"unit\":\"Degree\",\"scale\":0.01,\"data_type\":\"int16\",\"spatial_resolution\":250}]},\"250m_16_days_relative_azimuth_angle\":{\"href\":\"https://modiseuwest.blob.core.windows.net/modis-061-cogs/MOD13Q1/35/08/2023273/MOD13Q1.A2023273.h35v08.061.2023290141752_250m_16_days_relative_azimuth_angle.tif\",\"type\":\"image/tiff; application=geotiff; profile=cloud-optimized\",\"roles\":[\"data\"],\"title\":\"Relative azimuth angle of VI pixel\",\"raster:bands\":[{\"unit\":\"Degree\",\"scale\":0.01,\"data_type\":\"int16\",\"spatial_resolution\":250}]},\"250m_16_days_composite_day_of_the_year\":{\"href\":\"https://modiseuwest.blob.core.windows.net/modis-061-cogs/MOD13Q1/35/08/2023273/MOD13Q1.A2023273.h35v08.061.2023290141752_250m_16_days_composite_day_of_the_year.tif\",\"type\":\"image/tiff; application=geotiff; profile=cloud-optimized\",\"roles\":[\"data\"],\"title\":\"Day of year VI pixel\",\"raster:bands\":[{\"unit\":\"Julian Day\",\"data_type\":\"int16\",\"spatial_resolution\":250}]}},\"geometry\":{\"type\":\"Polygon\",\"coordinates\":[[[169.999999984734,-7.95138670365879e-16],[179.999892115948,-0.00688901997272678],[180.071523386456,9.99897790814368],[169.928592841145,9.99112932513571],[169.999999984734,-7.95138670365879e-16]]]},\"collection\":\"modis-13Q1-061\",\"properties\":{\"created\":\"2023-10-17T18:17:52Z\",\"updated\":\"2023-10-17T13:20:41.324000Z\",\"platform\":\"terra\",\"proj:wkt2\":\"PROJCS[\\\"unnamed\\\",GEOGCS[\\\"Unknown datum based upon the custom spheroid\\\",DATUM[\\\"Not specified (based on custom spheroid)\\\",SPHEROID[\\\"Custom spheroid\\\",6371007.181,0]],PRIMEM[\\\"Greenwich\\\",0],UNIT[\\\"degree\\\",0.0174532925199433,AUTHORITY[\\\"EPSG\\\",\\\"9122\\\"]]],PROJECTION[\\\"Sinusoidal\\\"],PARAMETER[\\\"longitude_of_center\\\",0],PARAMETER[\\\"false_easting\\\",0],PARAMETER[\\\"false_northing\\\",0],UNIT[\\\"Meter\\\",1],AXIS[\\\"Easting\\\",EAST],AXIS[\\\"Northing\\\",NORTH]]\",\"proj:shape\":[4800,4800],\"instruments\":[\"modis\"],\"end_datetime\":\"2023-10-15T23:59:59Z\",\"modis:tile-id\":\"51035008\",\"proj:geometry\":{\"type\":\"Polygon\",\"coordinates\":[[[20015109.354,0.0],[20015109.354,1111950.519667],[18903158.834333,1111950.519667],[18903158.834333,0.0],[20015109.354,0.0]]]},\"proj:transform\":[231.65635826395825,0.0,18903158.834333,0.0,-231.65635826395834,1111950.519667],\"start_datetime\":\"2023-09-30T00:00:00Z\",\"modis:vertical-tile\":8,\"modis:horizontal-tile\":35},\"stac_version\":\"1.0.0\",\"stac_extensions\":[\"https://stac-extensions.github.io/projection/v1.1.0/schema.json\",\"https://stac-extensions.github.io/raster/v1.1.0/schema.json\",\"https://stac-extensions.github.io/classification/v1.0.0/schema.json\"]},{\"id\":\"MOD13Q1.A2023273.h34v10.061.2023290142351\",\"bbox\":[162.218267000741,-20.2678807324399,180.047981891695,-9.72442246620711],\"type\":\"Feature\",\"links\":[{\"rel\":\"collection\",\"href\":\"https://planetarycomputer.microsoft.com/api/stac/v1/collections/modis-13Q1-061\",\"type\":\"application/json\"},{\"rel\":\"parent\",\"href\":\"https://planetarycomputer.microsoft.com/api/stac/v1/collections/modis-13Q1-061\",\"type\":\"application/json\"},{\"rel\":\"root\",\"href\":\"https://planetarycomputer.microsoft.com/api/stac/v1\",\"type\":\"application/json\",\"title\":\"Microsoft Planetary Computer STAC API\"},{\"rel\":\"self\",\"href\":\"https://planetarycomputer.microsoft.com/api/stac/v1/collections/modis-13Q1-061/items/MOD13Q1.A2023273.h34v10.061.2023290142351\",\"type\":\"application/geo+json\"},{\"rel\":\"preview\",\"href\":\"https://planetarycomputer.microsoft.com/api/data/v1/item/map?collection=modis-13Q1-061&item=MOD13Q1.A2023273.h34v10.061.2023290142351\",\"type\":\"text/html\",\"title\":\"Map of item\"}],\"assets\":{\"hdf\":{\"href\":\"https://modiseuwest.blob.core.windows.net/modis-061/MOD13Q1/34/10/2023273/MOD13Q1.A2023273.h34v10.061.2023290142351.hdf\",\"type\":\"application/x-hdf\",\"roles\":[\"data\"],\"title\":\"Source data containing all bands\"},\"metadata\":{\"href\":\"https://modiseuwest.blob.core.windows.net/modis-061/MOD13Q1/34/10/2023273/MOD13Q1.A2023273.h34v10.061.2023290142351.hdf.xml\",\"type\":\"application/xml\",\"roles\":[\"metadata\"],\"title\":\"Federal Geographic Data Committee (FGDC) Metadata\"},\"tilejson\":{\"href\":\"https://planetarycomputer.microsoft.com/api/data/v1/item/tilejson.json?collection=modis-13Q1-061&item=MOD13Q1.A2023273.h34v10.061.2023290142351&assets=250m_16_days_NDVI&tile_format=png&colormap_name=modis-13A1%7CQ1&rescale=0%2C10000&format=png\",\"type\":\"application/json\",\"roles\":[\"tiles\"],\"title\":\"TileJSON with default rendering\"},\"250m_16_days_EVI\":{\"href\":\"https://modiseuwest.blob.core.windows.net/modis-061-cogs/MOD13Q1/34/10/2023273/MOD13Q1.A2023273.h34v10.061.2023290142351_250m_16_days_EVI.tif\",\"type\":\"image/tiff; application=geotiff; profile=cloud-optimized\",\"roles\":[\"data\"],\"title\":\"16 day EVI\",\"raster:bands\":[{\"unit\":\"EVI\",\"scale\":0.0001,\"data_type\":\"int16\",\"spatial_resolution\":250}]},\"rendered_preview\":{\"rel\":\"preview\",\"href\":\"https://planetarycomputer.microsoft.com/api/data/v1/item/preview.png?collection=modis-13Q1-061&item=MOD13Q1.A2023273.h34v10.061.2023290142351&assets=250m_16_days_NDVI&tile_format=png&colormap_name=modis-13A1%7CQ1&rescale=0%2C10000&format=png\",\"type\":\"image/png\",\"roles\":[\"overview\"],\"title\":\"Rendered preview\"},\"250m_16_days_NDVI\":{\"href\":\"https://modiseuwest.blob.core.windows.net/modis-061-cogs/MOD13Q1/34/10/2023273/MOD13Q1.A2023273.h34v10.061.2023290142351_250m_16_days_NDVI.tif\",\"type\":\"image/tiff; application=geotiff; profile=cloud-optimized\",\"roles\":[\"data\"],\"title\":\"16 day NDVI\",\"raster:bands\":[{\"unit\":\"NDVI\",\"scale\":0.0001,\"data_type\":\"int16\",\"spatial_resolution\":250}]},\"250m_16_days_VI_Quality\":{\"href\":\"https://modiseuwest.blob.core.windows.net/modis-061-cogs/MOD13Q1/34/10/2023273/MOD13Q1.A2023273.h34v10.061.2023290142351_250m_16_days_VI_Quality.tif\",\"type\":\"image/tiff; application=geotiff; profile=cloud-optimized\",\"roles\":[\"data\"],\"title\":\"VI quality indicators\",\"raster:bands\":[{\"data_type\":\"uint16\",\"spatial_resolution\":250}]},\"250m_16_days_MIR_reflectance\":{\"href\":\"https://modiseuwest.blob.core.windows.net/modis-061-cogs/MOD13Q1/34/10/2023273/MOD13Q1.A2023273.h34v10.061.2023290142351_250m_16_days_MIR_reflectance.tif\",\"type\":\"image/tiff; application=geotiff; profile=cloud-optimized\",\"roles\":[\"data\"],\"title\":\"Surface Reflectance Band 7\",\"raster:bands\":[{\"scale\":0.0001,\"data_type\":\"int16\",\"spatial_resolution\":250}]},\"250m_16_days_NIR_reflectance\":{\"href\":\"https://modiseuwest.blob.core.windows.net/modis-061-cogs/MOD13Q1/34/10/2023273/MOD13Q1.A2023273.h34v10.061.2023290142351_250m_16_days_NIR_reflectance.tif\",\"type\":\"image/tiff; application=geotiff; profile=cloud-optimized\",\"roles\":[\"data\"],\"title\":\"Surface Reflectance Band 2\",\"raster:bands\":[{\"scale\":0.0001,\"data_type\":\"int16\",\"spatial_resolution\":250}]},\"250m_16_days_red_reflectance\":{\"href\":\"https://modiseuwest.blob.core.windows.net/modis-061-cogs/MOD13Q1/34/10/2023273/MOD13Q1.A2023273.h34v10.061.2023290142351_250m_16_days_red_reflectance.tif\",\"type\":\"image/tiff; application=geotiff; profile=cloud-optimized\",\"roles\":[\"data\"],\"title\":\"Surface Reflectance Band 1\",\"raster:bands\":[{\"scale\":0.0001,\"data_type\":\"int16\",\"spatial_resolution\":250}]},\"250m_16_days_blue_reflectance\":{\"href\":\"https://modiseuwest.blob.core.windows.net/modis-061-cogs/MOD13Q1/34/10/2023273/MOD13Q1.A2023273.h34v10.061.2023290142351_250m_16_days_blue_reflectance.tif\",\"type\":\"image/tiff; application=geotiff; profile=cloud-optimized\",\"roles\":[\"data\"],\"title\":\"Surface Reflectance Band 3\",\"raster:bands\":[{\"scale\":0.0001,\"data_type\":\"int16\",\"spatial_resolution\":250}]},\"250m_16_days_sun_zenith_angle\":{\"href\":\"https://modiseuwest.blob.core.windows.net/modis-061-cogs/MOD13Q1/34/10/2023273/MOD13Q1.A2023273.h34v10.061.2023290142351_250m_16_days_sun_zenith_angle.tif\",\"type\":\"image/tiff; application=geotiff; profile=cloud-optimized\",\"roles\":[\"data\"],\"title\":\"Sun zenith angle of VI pixel\",\"raster:bands\":[{\"unit\":\"Degree\",\"scale\":0.01,\"data_type\":\"int16\",\"spatial_resolution\":250}]},\"250m_16_days_pixel_reliability\":{\"href\":\"https://modiseuwest.blob.core.windows.net/modis-061-cogs/MOD13Q1/34/10/2023273/MOD13Q1.A2023273.h34v10.061.2023290142351_250m_16_days_pixel_reliability.tif\",\"type\":\"image/tiff; application=geotiff; profile=cloud-optimized\",\"roles\":[\"data\"],\"title\":\"Quality reliability of VI pixel\",\"raster:bands\":[{\"unit\":\"Rank\",\"data_type\":\"int8\",\"spatial_resolution\":250}],\"classification:classes\":[{\"value\":0,\"description\":\"Good data, use with confidence\"},{\"value\":1,\"description\":\"Marginal data, useful, but look at other QA information\"},{\"value\":2,\"description\":\"Snow/Ice Target covered with snow/ice\"},{\"value\":3,\"description\":\"Cloudy data\"}]},\"250m_16_days_view_zenith_angle\":{\"href\":\"https://modiseuwest.blob.core.windows.net/modis-061-cogs/MOD13Q1/34/10/2023273/MOD13Q1.A2023273.h34v10.061.2023290142351_250m_16_days_view_zenith_angle.tif\",\"type\":\"image/tiff; application=geotiff; profile=cloud-optimized\",\"roles\":[\"data\"],\"title\":\"View zenith angle of VI Pixel\",\"raster:bands\":[{\"unit\":\"Degree\",\"scale\":0.01,\"data_type\":\"int16\",\"spatial_resolution\":250}]},\"250m_16_days_relative_azimuth_angle\":{\"href\":\"https://modiseuwest.blob.core.windows.net/modis-061-cogs/MOD13Q1/34/10/2023273/MOD13Q1.A2023273.h34v10.061.2023290142351_250m_16_days_relative_azimuth_angle.tif\",\"type\":\"image/tiff; application=geotiff; profile=cloud-optimized\",\"roles\":[\"data\"],\"title\":\"Relative azimuth angle of VI pixel\",\"raster:bands\":[{\"unit\":\"Degree\",\"scale\":0.01,\"data_type\":\"int16\",\"spatial_resolution\":250}]},\"250m_16_days_composite_day_of_the_year\":{\"href\":\"https://modiseuwest.blob.core.windows.net/modis-061-cogs/MOD13Q1/34/10/2023273/MOD13Q1.A2023273.h34v10.061.2023290142351_250m_16_days_composite_day_of_the_year.tif\",\"type\":\"image/tiff; application=geotiff; profile=cloud-optimized\",\"roles\":[\"data\"],\"title\":\"Day of year VI pixel\",\"raster:bands\":[{\"unit\":\"Julian Day\",\"data_type\":\"int16\",\"spatial_resolution\":250}]}},\"geometry\":{\"type\":\"Polygon\",\"coordinates\":[[[162.218267000741,-20.2678807324399],[180.047981891695,-19.9968452811343],[179.464584854786,-9.72442246620711],[162.468655437091,-9.98294861056589],[162.218267000741,-20.2678807324399]]]},\"collection\":\"modis-13Q1-061\",\"properties\":{\"created\":\"2023-10-17T18:23:51Z\",\"updated\":\"2023-10-17T13:28:32.376000Z\",\"platform\":\"terra\",\"proj:wkt2\":\"PROJCS[\\\"unnamed\\\",GEOGCS[\\\"Unknown datum based upon the custom spheroid\\\",DATUM[\\\"Not specified (based on custom spheroid)\\\",SPHEROID[\\\"Custom spheroid\\\",6371007.181,0]],PRIMEM[\\\"Greenwich\\\",0],UNIT[\\\"degree\\\",0.0174532925199433,AUTHORITY[\\\"EPSG\\\",\\\"9122\\\"]]],PROJECTION[\\\"Sinusoidal\\\"],PARAMETER[\\\"longitude_of_center\\\",0],PARAMETER[\\\"false_easting\\\",0],PARAMETER[\\\"false_northing\\\",0],UNIT[\\\"Meter\\\",1],AXIS[\\\"Easting\\\",EAST],AXIS[\\\"Northing\\\",NORTH]]\",\"proj:shape\":[4800,4800],\"instruments\":[\"modis\"],\"end_datetime\":\"2023-10-15T23:59:59Z\",\"modis:tile-id\":\"51034010\",\"proj:geometry\":{\"type\":\"Polygon\",\"coordinates\":[[[18903158.834333,-2223901.039333],[18903158.834333,-1111950.519667],[17791208.314667,-1111950.519667],[17791208.314667,-2223901.039333],[18903158.834333,-2223901.039333]]]},\"proj:transform\":[231.65635826374947,0.0,17791208.314667,0.0,-231.65635826374995,-1111950.519667],\"start_datetime\":\"2023-09-30T00:00:00Z\",\"modis:vertical-tile\":10,\"modis:horizontal-tile\":34},\"stac_version\":\"1.0.0\",\"stac_extensions\":[\"https://stac-extensions.github.io/projection/v1.1.0/schema.json\",\"https://stac-extensions.github.io/raster/v1.1.0/schema.json\",\"https://stac-extensions.github.io/classification/v1.0.0/schema.json\"]},{\"id\":\"MOD13Q1.A2023273.h34v09.061.2023290142428\",\"bbox\":[159.40190039747,-10.0140501371706,172.624340995627,0.0160513468129103],\"type\":\"Feature\",\"links\":[{\"rel\":\"collection\",\"href\":\"https://planetarycomputer.microsoft.com/api/stac/v1/collections/modis-13Q1-061\",\"type\":\"application/json\"},{\"rel\":\"parent\",\"href\":\"https://planetarycomputer.microsoft.com/api/stac/v1/collections/modis-13Q1-061\",\"type\":\"application/json\"},{\"rel\":\"root\",\"href\":\"https://planetarycomputer.microsoft.com/api/stac/v1\",\"type\":\"application/json\",\"title\":\"Microsoft Planetary Computer STAC API\"},{\"rel\":\"self\",\"href\":\"https://planetarycomputer.microsoft.com/api/stac/v1/collections/modis-13Q1-061/items/MOD13Q1.A2023273.h34v09.061.2023290142428\",\"type\":\"application/geo+json\"},{\"rel\":\"preview\",\"href\":\"https://planetarycomputer.microsoft.com/api/data/v1/item/map?collection=modis-13Q1-061&item=MOD13Q1.A2023273.h34v09.061.2023290142428\",\"type\":\"text/html\",\"title\":\"Map of item\"}],\"assets\":{\"hdf\":{\"href\":\"https://modiseuwest.blob.core.windows.net/modis-061/MOD13Q1/34/09/2023273/MOD13Q1.A2023273.h34v09.061.2023290142428.hdf\",\"type\":\"application/x-hdf\",\"roles\":[\"data\"],\"title\":\"Source data containing all bands\"},\"metadata\":{\"href\":\"https://modiseuwest.blob.core.windows.net/modis-061/MOD13Q1/34/09/2023273/MOD13Q1.A2023273.h34v09.061.2023290142428.hdf.xml\",\"type\":\"application/xml\",\"roles\":[\"metadata\"],\"title\":\"Federal Geographic Data Committee (FGDC) Metadata\"},\"tilejson\":{\"href\":\"https://planetarycomputer.microsoft.com/api/data/v1/item/tilejson.json?collection=modis-13Q1-061&item=MOD13Q1.A2023273.h34v09.061.2023290142428&assets=250m_16_days_NDVI&tile_format=png&colormap_name=modis-13A1%7CQ1&rescale=0%2C10000&format=png\",\"type\":\"application/json\",\"roles\":[\"tiles\"],\"title\":\"TileJSON with default rendering\"},\"250m_16_days_EVI\":{\"href\":\"https://modiseuwest.blob.core.windows.net/modis-061-cogs/MOD13Q1/34/09/2023273/MOD13Q1.A2023273.h34v09.061.2023290142428_250m_16_days_EVI.tif\",\"type\":\"image/tiff; application=geotiff; profile=cloud-optimized\",\"roles\":[\"data\"],\"title\":\"16 day EVI\",\"raster:bands\":[{\"unit\":\"EVI\",\"scale\":0.0001,\"data_type\":\"int16\",\"spatial_resolution\":250}]},\"rendered_preview\":{\"rel\":\"preview\",\"href\":\"https://planetarycomputer.microsoft.com/api/data/v1/item/preview.png?collection=modis-13Q1-061&item=MOD13Q1.A2023273.h34v09.061.2023290142428&assets=250m_16_days_NDVI&tile_format=png&colormap_name=modis-13A1%7CQ1&rescale=0%2C10000&format=png\",\"type\":\"image/png\",\"roles\":[\"overview\"],\"title\":\"Rendered preview\"},\"250m_16_days_NDVI\":{\"href\":\"https://modiseuwest.blob.core.windows.net/modis-061-cogs/MOD13Q1/34/09/2023273/MOD13Q1.A2023273.h34v09.061.2023290142428_250m_16_days_NDVI.tif\",\"type\":\"image/tiff; application=geotiff; profile=cloud-optimized\",\"roles\":[\"data\"],\"title\":\"16 day NDVI\",\"raster:bands\":[{\"unit\":\"NDVI\",\"scale\":0.0001,\"data_type\":\"int16\",\"spatial_resolution\":250}]},\"250m_16_days_VI_Quality\":{\"href\":\"https://modiseuwest.blob.core.windows.net/modis-061-cogs/MOD13Q1/34/09/2023273/MOD13Q1.A2023273.h34v09.061.2023290142428_250m_16_days_VI_Quality.tif\",\"type\":\"image/tiff; application=geotiff; profile=cloud-optimized\",\"roles\":[\"data\"],\"title\":\"VI quality indicators\",\"raster:bands\":[{\"data_type\":\"uint16\",\"spatial_resolution\":250}]},\"250m_16_days_MIR_reflectance\":{\"href\":\"https://modiseuwest.blob.core.windows.net/modis-061-cogs/MOD13Q1/34/09/2023273/MOD13Q1.A2023273.h34v09.061.2023290142428_250m_16_days_MIR_reflectance.tif\",\"type\":\"image/tiff; application=geotiff; profile=cloud-optimized\",\"roles\":[\"data\"],\"title\":\"Surface Reflectance Band 7\",\"raster:bands\":[{\"scale\":0.0001,\"data_type\":\"int16\",\"spatial_resolution\":250}]},\"250m_16_days_NIR_reflectance\":{\"href\":\"https://modiseuwest.blob.core.windows.net/modis-061-cogs/MOD13Q1/34/09/2023273/MOD13Q1.A2023273.h34v09.061.2023290142428_250m_16_days_NIR_reflectance.tif\",\"type\":\"image/tiff; application=geotiff; profile=cloud-optimized\",\"roles\":[\"data\"],\"title\":\"Surface Reflectance Band 2\",\"raster:bands\":[{\"scale\":0.0001,\"data_type\":\"int16\",\"spatial_resolution\":250}]},\"250m_16_days_red_reflectance\":{\"href\":\"https://modiseuwest.blob.core.windows.net/modis-061-cogs/MOD13Q1/34/09/2023273/MOD13Q1.A2023273.h34v09.061.2023290142428_250m_16_days_red_reflectance.tif\",\"type\":\"image/tiff; application=geotiff; profile=cloud-optimized\",\"roles\":[\"data\"],\"title\":\"Surface Reflectance Band 1\",\"raster:bands\":[{\"scale\":0.0001,\"data_type\":\"int16\",\"spatial_resolution\":250}]},\"250m_16_days_blue_reflectance\":{\"href\":\"https://modiseuwest.blob.core.windows.net/modis-061-cogs/MOD13Q1/34/09/2023273/MOD13Q1.A2023273.h34v09.061.2023290142428_250m_16_days_blue_reflectance.tif\",\"type\":\"image/tiff; application=geotiff; profile=cloud-optimized\",\"roles\":[\"data\"],\"title\":\"Surface Reflectance Band 3\",\"raster:bands\":[{\"scale\":0.0001,\"data_type\":\"int16\",\"spatial_resolution\":250}]},\"250m_16_days_sun_zenith_angle\":{\"href\":\"https://modiseuwest.blob.core.windows.net/modis-061-cogs/MOD13Q1/34/09/2023273/MOD13Q1.A2023273.h34v09.061.2023290142428_250m_16_days_sun_zenith_angle.tif\",\"type\":\"image/tiff; application=geotiff; profile=cloud-optimized\",\"roles\":[\"data\"],\"title\":\"Sun zenith angle of VI pixel\",\"raster:bands\":[{\"unit\":\"Degree\",\"scale\":0.01,\"data_type\":\"int16\",\"spatial_resolution\":250}]},\"250m_16_days_pixel_reliability\":{\"href\":\"https://modiseuwest.blob.core.windows.net/modis-061-cogs/MOD13Q1/34/09/2023273/MOD13Q1.A2023273.h34v09.061.2023290142428_250m_16_days_pixel_reliability.tif\",\"type\":\"image/tiff; application=geotiff; profile=cloud-optimized\",\"roles\":[\"data\"],\"title\":\"Quality reliability of VI pixel\",\"raster:bands\":[{\"unit\":\"Rank\",\"data_type\":\"int8\",\"spatial_resolution\":250}],\"classification:classes\":[{\"value\":0,\"description\":\"Good data, use with confidence\"},{\"value\":1,\"description\":\"Marginal data, useful, but look at other QA information\"},{\"value\":2,\"description\":\"Snow/Ice Target covered with snow/ice\"},{\"value\":3,\"description\":\"Cloudy data\"}]},\"250m_16_days_view_zenith_angle\":{\"href\":\"https://modiseuwest.blob.core.windows.net/modis-061-cogs/MOD13Q1/34/09/2023273/MOD13Q1.A2023273.h34v09.061.2023290142428_250m_16_days_view_zenith_angle.tif\",\"type\":\"image/tiff; application=geotiff; profile=cloud-optimized\",\"roles\":[\"data\"],\"title\":\"View zenith angle of VI Pixel\",\"raster:bands\":[{\"unit\":\"Degree\",\"scale\":0.01,\"data_type\":\"int16\",\"spatial_resolution\":250}]},\"250m_16_days_relative_azimuth_angle\":{\"href\":\"https://modiseuwest.blob.core.windows.net/modis-061-cogs/MOD13Q1/34/09/2023273/MOD13Q1.A2023273.h34v09.061.2023290142428_250m_16_days_relative_azimuth_angle.tif\",\"type\":\"image/tiff; application=geotiff; profile=cloud-optimized\",\"roles\":[\"data\"],\"title\":\"Relative azimuth angle of VI pixel\",\"raster:bands\":[{\"unit\":\"Degree\",\"scale\":0.01,\"data_type\":\"int16\",\"spatial_resolution\":250}]},\"250m_16_days_composite_day_of_the_year\":{\"href\":\"https://modiseuwest.blob.core.windows.net/modis-061-cogs/MOD13Q1/34/09/2023273/MOD13Q1.A2023273.h34v09.061.2023290142428_250m_16_days_composite_day_of_the_year.tif\",\"type\":\"image/tiff; application=geotiff; profile=cloud-optimized\",\"roles\":[\"data\"],\"title\":\"Day of year VI pixel\",\"raster:bands\":[{\"unit\":\"Julian Day\",\"data_type\":\"int16\",\"spatial_resolution\":250}]}},\"geometry\":{\"type\":\"Polygon\",\"coordinates\":[[[161.843301930763,-10.0140501371706],[159.40190039747,-0.000962695951550389],[170.023175852499,0.0160513468129103],[172.624340995627,-9.9999682964894],[161.843301930763,-10.0140501371706]]]},\"collection\":\"modis-13Q1-061\",\"properties\":{\"created\":\"2023-10-17T18:24:28Z\",\"updated\":\"2023-10-17T13:28:21.258000Z\",\"platform\":\"terra\",\"proj:wkt2\":\"PROJCS[\\\"unnamed\\\",GEOGCS[\\\"Unknown datum based upon the custom spheroid\\\",DATUM[\\\"Not specified (based on custom spheroid)\\\",SPHEROID[\\\"Custom spheroid\\\",6371007.181,0]],PRIMEM[\\\"Greenwich\\\",0],UNIT[\\\"degree\\\",0.0174532925199433,AUTHORITY[\\\"EPSG\\\",\\\"9122\\\"]]],PROJECTION[\\\"Sinusoidal\\\"],PARAMETER[\\\"longitude_of_center\\\",0],PARAMETER[\\\"false_easting\\\",0],PARAMETER[\\\"false_northing\\\",0],UNIT[\\\"Meter\\\",1],AXIS[\\\"Easting\\\",EAST],AXIS[\\\"Northing\\\",NORTH]]\",\"proj:shape\":[4800,4800],\"instruments\":[\"modis\"],\"end_datetime\":\"2023-10-15T23:59:59Z\",\"modis:tile-id\":\"51034009\",\"proj:geometry\":{\"type\":\"Polygon\",\"coordinates\":[[[18903158.834333,-1111950.519667],[18903158.834333,0.0],[17791208.314667,0.0],[17791208.314667,-1111950.519667],[18903158.834333,-1111950.519667]]]},\"proj:transform\":[231.65635826374947,0.0,17791208.314667,0.0,-231.65635826395834,0.0],\"start_datetime\":\"2023-09-30T00:00:00Z\",\"modis:vertical-tile\":9,\"modis:horizontal-tile\":34},\"stac_version\":\"1.0.0\",\"stac_extensions\":[\"https://stac-extensions.github.io/projection/v1.1.0/schema.json\",\"https://stac-extensions.github.io/raster/v1.1.0/schema.json\",\"https://stac-extensions.github.io/classification/v1.0.0/schema.json\"]},{\"id\":\"MOD13Q1.A2023273.h34v08.061.2023290143333\",\"bbox\":[159.401904891107,-0.0160681308193304,172.633154206439,10.0140323226274],\"type\":\"Feature\",\"links\":[{\"rel\":\"collection\",\"href\":\"https://planetarycomputer.microsoft.com/api/stac/v1/collections/modis-13Q1-061\",\"type\":\"application/json\"},{\"rel\":\"parent\",\"href\":\"https://planetarycomputer.microsoft.com/api/stac/v1/collections/modis-13Q1-061\",\"type\":\"application/json\"},{\"rel\":\"root\",\"href\":\"https://planetarycomputer.microsoft.com/api/stac/v1\",\"type\":\"application/json\",\"title\":\"Microsoft Planetary Computer STAC API\"},{\"rel\":\"self\",\"href\":\"https://planetarycomputer.microsoft.com/api/stac/v1/collections/modis-13Q1-061/items/MOD13Q1.A2023273.h34v08.061.2023290143333\",\"type\":\"application/geo+json\"},{\"rel\":\"preview\",\"href\":\"https://planetarycomputer.microsoft.com/api/data/v1/item/map?collection=modis-13Q1-061&item=MOD13Q1.A2023273.h34v08.061.2023290143333\",\"type\":\"text/html\",\"title\":\"Map of item\"}],\"assets\":{\"hdf\":{\"href\":\"https://modiseuwest.blob.core.windows.net/modis-061/MOD13Q1/34/08/2023273/MOD13Q1.A2023273.h34v08.061.2023290143333.hdf\",\"type\":\"application/x-hdf\",\"roles\":[\"data\"],\"title\":\"Source data containing all bands\"},\"metadata\":{\"href\":\"https://modiseuwest.blob.core.windows.net/modis-061/MOD13Q1/34/08/2023273/MOD13Q1.A2023273.h34v08.061.2023290143333.hdf.xml\",\"type\":\"application/xml\",\"roles\":[\"metadata\"],\"title\":\"Federal Geographic Data Committee (FGDC) Metadata\"},\"tilejson\":{\"href\":\"https://planetarycomputer.microsoft.com/api/data/v1/item/tilejson.json?collection=modis-13Q1-061&item=MOD13Q1.A2023273.h34v08.061.2023290143333&assets=250m_16_days_NDVI&tile_format=png&colormap_name=modis-13A1%7CQ1&rescale=0%2C10000&format=png\",\"type\":\"application/json\",\"roles\":[\"tiles\"],\"title\":\"TileJSON with default rendering\"},\"250m_16_days_EVI\":{\"href\":\"https://modiseuwest.blob.core.windows.net/modis-061-cogs/MOD13Q1/34/08/2023273/MOD13Q1.A2023273.h34v08.061.2023290143333_250m_16_days_EVI.tif\",\"type\":\"image/tiff; application=geotiff; profile=cloud-optimized\",\"roles\":[\"data\"],\"title\":\"16 day EVI\",\"raster:bands\":[{\"unit\":\"EVI\",\"scale\":0.0001,\"data_type\":\"int16\",\"spatial_resolution\":250}]},\"rendered_preview\":{\"rel\":\"preview\",\"href\":\"https://planetarycomputer.microsoft.com/api/data/v1/item/preview.png?collection=modis-13Q1-061&item=MOD13Q1.A2023273.h34v08.061.2023290143333&assets=250m_16_days_NDVI&tile_format=png&colormap_name=modis-13A1%7CQ1&rescale=0%2C10000&format=png\",\"type\":\"image/png\",\"roles\":[\"overview\"],\"title\":\"Rendered preview\"},\"250m_16_days_NDVI\":{\"href\":\"https://modiseuwest.blob.core.windows.net/modis-061-cogs/MOD13Q1/34/08/2023273/MOD13Q1.A2023273.h34v08.061.2023290143333_250m_16_days_NDVI.tif\",\"type\":\"image/tiff; application=geotiff; profile=cloud-optimized\",\"roles\":[\"data\"],\"title\":\"16 day NDVI\",\"raster:bands\":[{\"unit\":\"NDVI\",\"scale\":0.0001,\"data_type\":\"int16\",\"spatial_resolution\":250}]},\"250m_16_days_VI_Quality\":{\"href\":\"https://modiseuwest.blob.core.windows.net/modis-061-cogs/MOD13Q1/34/08/2023273/MOD13Q1.A2023273.h34v08.061.2023290143333_250m_16_days_VI_Quality.tif\",\"type\":\"image/tiff; application=geotiff; profile=cloud-optimized\",\"roles\":[\"data\"],\"title\":\"VI quality indicators\",\"raster:bands\":[{\"data_type\":\"uint16\",\"spatial_resolution\":250}]},\"250m_16_days_MIR_reflectance\":{\"href\":\"https://modiseuwest.blob.core.windows.net/modis-061-cogs/MOD13Q1/34/08/2023273/MOD13Q1.A2023273.h34v08.061.2023290143333_250m_16_days_MIR_reflectance.tif\",\"type\":\"image/tiff; application=geotiff; profile=cloud-optimized\",\"roles\":[\"data\"],\"title\":\"Surface Reflectance Band 7\",\"raster:bands\":[{\"scale\":0.0001,\"data_type\":\"int16\",\"spatial_resolution\":250}]},\"250m_16_days_NIR_reflectance\":{\"href\":\"https://modiseuwest.blob.core.windows.net/modis-061-cogs/MOD13Q1/34/08/2023273/MOD13Q1.A2023273.h34v08.061.2023290143333_250m_16_days_NIR_reflectance.tif\",\"type\":\"image/tiff; application=geotiff; profile=cloud-optimized\",\"roles\":[\"data\"],\"title\":\"Surface Reflectance Band 2\",\"raster:bands\":[{\"scale\":0.0001,\"data_type\":\"int16\",\"spatial_resolution\":250}]},\"250m_16_days_red_reflectance\":{\"href\":\"https://modiseuwest.blob.core.windows.net/modis-061-cogs/MOD13Q1/34/08/2023273/MOD13Q1.A2023273.h34v08.061.2023290143333_250m_16_days_red_reflectance.tif\",\"type\":\"image/tiff; application=geotiff; profile=cloud-optimized\",\"roles\":[\"data\"],\"title\":\"Surface Reflectance Band 1\",\"raster:bands\":[{\"scale\":0.0001,\"data_type\":\"int16\",\"spatial_resolution\":250}]},\"250m_16_days_blue_reflectance\":{\"href\":\"https://modiseuwest.blob.core.windows.net/modis-061-cogs/MOD13Q1/34/08/2023273/MOD13Q1.A2023273.h34v08.061.2023290143333_250m_16_days_blue_reflectance.tif\",\"type\":\"image/tiff; application=geotiff; profile=cloud-optimized\",\"roles\":[\"data\"],\"title\":\"Surface Reflectance Band 3\",\"raster:bands\":[{\"scale\":0.0001,\"data_type\":\"int16\",\"spatial_resolution\":250}]},\"250m_16_days_sun_zenith_angle\":{\"href\":\"https://modiseuwest.blob.core.windows.net/modis-061-cogs/MOD13Q1/34/08/2023273/MOD13Q1.A2023273.h34v08.061.2023290143333_250m_16_days_sun_zenith_angle.tif\",\"type\":\"image/tiff; application=geotiff; profile=cloud-optimized\",\"roles\":[\"data\"],\"title\":\"Sun zenith angle of VI pixel\",\"raster:bands\":[{\"unit\":\"Degree\",\"scale\":0.01,\"data_type\":\"int16\",\"spatial_resolution\":250}]},\"250m_16_days_pixel_reliability\":{\"href\":\"https://modiseuwest.blob.core.windows.net/modis-061-cogs/MOD13Q1/34/08/2023273/MOD13Q1.A2023273.h34v08.061.2023290143333_250m_16_days_pixel_reliability.tif\",\"type\":\"image/tiff; application=geotiff; profile=cloud-optimized\",\"roles\":[\"data\"],\"title\":\"Quality reliability of VI pixel\",\"raster:bands\":[{\"unit\":\"Rank\",\"data_type\":\"int8\",\"spatial_resolution\":250}],\"classification:classes\":[{\"value\":0,\"description\":\"Good data, use with confidence\"},{\"value\":1,\"description\":\"Marginal data, useful, but look at other QA information\"},{\"value\":2,\"description\":\"Snow/Ice Target covered with snow/ice\"},{\"value\":3,\"description\":\"Cloudy data\"}]},\"250m_16_days_view_zenith_angle\":{\"href\":\"https://modiseuwest.blob.core.windows.net/modis-061-cogs/MOD13Q1/34/08/2023273/MOD13Q1.A2023273.h34v08.061.2023290143333_250m_16_days_view_zenith_angle.tif\",\"type\":\"image/tiff; application=geotiff; profile=cloud-optimized\",\"roles\":[\"data\"],\"title\":\"View zenith angle of VI Pixel\",\"raster:bands\":[{\"unit\":\"Degree\",\"scale\":0.01,\"data_type\":\"int16\",\"spatial_resolution\":250}]},\"250m_16_days_relative_azimuth_angle\":{\"href\":\"https://modiseuwest.blob.core.windows.net/modis-061-cogs/MOD13Q1/34/08/2023273/MOD13Q1.A2023273.h34v08.061.2023290143333_250m_16_days_relative_azimuth_angle.tif\",\"type\":\"image/tiff; application=geotiff; profile=cloud-optimized\",\"roles\":[\"data\"],\"title\":\"Relative azimuth angle of VI pixel\",\"raster:bands\":[{\"unit\":\"Degree\",\"scale\":0.01,\"data_type\":\"int16\",\"spatial_resolution\":250}]},\"250m_16_days_composite_day_of_the_year\":{\"href\":\"https://modiseuwest.blob.core.windows.net/modis-061-cogs/MOD13Q1/34/08/2023273/MOD13Q1.A2023273.h34v08.061.2023290143333_250m_16_days_composite_day_of_the_year.tif\",\"type\":\"image/tiff; application=geotiff; profile=cloud-optimized\",\"roles\":[\"data\"],\"title\":\"Day of year VI pixel\",\"raster:bands\":[{\"unit\":\"Julian Day\",\"data_type\":\"int16\",\"spatial_resolution\":250}]}},\"geometry\":{\"type\":\"Polygon\",\"coordinates\":[[[159.401904891107,0.000963687575697164],[161.843293083131,10.0140323226274],[172.633154206439,9.99981440242935],[170.023257540113,-0.0160681308193304],[159.401904891107,0.000963687575697164]]]},\"collection\":\"modis-13Q1-061\",\"properties\":{\"created\":\"2023-10-17T18:33:33Z\",\"updated\":\"2023-10-17T13:40:11.465000Z\",\"platform\":\"terra\",\"proj:wkt2\":\"PROJCS[\\\"unnamed\\\",GEOGCS[\\\"Unknown datum based upon the custom spheroid\\\",DATUM[\\\"Not specified (based on custom spheroid)\\\",SPHEROID[\\\"Custom spheroid\\\",6371007.181,0]],PRIMEM[\\\"Greenwich\\\",0],UNIT[\\\"degree\\\",0.0174532925199433,AUTHORITY[\\\"EPSG\\\",\\\"9122\\\"]]],PROJECTION[\\\"Sinusoidal\\\"],PARAMETER[\\\"longitude_of_center\\\",0],PARAMETER[\\\"false_easting\\\",0],PARAMETER[\\\"false_northing\\\",0],UNIT[\\\"Meter\\\",1],AXIS[\\\"Easting\\\",EAST],AXIS[\\\"Northing\\\",NORTH]]\",\"proj:shape\":[4800,4800],\"instruments\":[\"modis\"],\"end_datetime\":\"2023-10-15T23:59:59Z\",\"modis:tile-id\":\"51034008\",\"proj:geometry\":{\"type\":\"Polygon\",\"coordinates\":[[[18903158.834333,0.0],[18903158.834333,1111950.519667],[17791208.314667,1111950.519667],[17791208.314667,0.0],[18903158.834333,0.0]]]},\"proj:transform\":[231.65635826374947,0.0,17791208.314667,0.0,-231.65635826395834,1111950.519667],\"start_datetime\":\"2023-09-30T00:00:00Z\",\"modis:vertical-tile\":8,\"modis:horizontal-tile\":34},\"stac_version\":\"1.0.0\",\"stac_extensions\":[\"https://stac-extensions.github.io/projection/v1.1.0/schema.json\",\"https://stac-extensions.github.io/raster/v1.1.0/schema.json\",\"https://stac-extensions.github.io/classification/v1.0.0/schema.json\"]},{\"id\":\"MOD13Q1.A2023273.h34v07.061.2023290140925\",\"bbox\":[162.218267079146,9.72432164126745,180.048970382293,20.2677999045792],\"type\":\"Feature\",\"links\":[{\"rel\":\"collection\",\"href\":\"https://planetarycomputer.microsoft.com/api/stac/v1/collections/modis-13Q1-061\",\"type\":\"application/json\"},{\"rel\":\"parent\",\"href\":\"https://planetarycomputer.microsoft.com/api/stac/v1/collections/modis-13Q1-061\",\"type\":\"application/json\"},{\"rel\":\"root\",\"href\":\"https://planetarycomputer.microsoft.com/api/stac/v1\",\"type\":\"application/json\",\"title\":\"Microsoft Planetary Computer STAC API\"},{\"rel\":\"self\",\"href\":\"https://planetarycomputer.microsoft.com/api/stac/v1/collections/modis-13Q1-061/items/MOD13Q1.A2023273.h34v07.061.2023290140925\",\"type\":\"application/geo+json\"},{\"rel\":\"preview\",\"href\":\"https://planetarycomputer.microsoft.com/api/data/v1/item/map?collection=modis-13Q1-061&item=MOD13Q1.A2023273.h34v07.061.2023290140925\",\"type\":\"text/html\",\"title\":\"Map of item\"}],\"assets\":{\"hdf\":{\"href\":\"https://modiseuwest.blob.core.windows.net/modis-061/MOD13Q1/34/07/2023273/MOD13Q1.A2023273.h34v07.061.2023290140925.hdf\",\"type\":\"application/x-hdf\",\"roles\":[\"data\"],\"title\":\"Source data containing all bands\"},\"metadata\":{\"href\":\"https://modiseuwest.blob.core.windows.net/modis-061/MOD13Q1/34/07/2023273/MOD13Q1.A2023273.h34v07.061.2023290140925.hdf.xml\",\"type\":\"application/xml\",\"roles\":[\"metadata\"],\"title\":\"Federal Geographic Data Committee (FGDC) Metadata\"},\"tilejson\":{\"href\":\"https://planetarycomputer.microsoft.com/api/data/v1/item/tilejson.json?collection=modis-13Q1-061&item=MOD13Q1.A2023273.h34v07.061.2023290140925&assets=250m_16_days_NDVI&tile_format=png&colormap_name=modis-13A1%7CQ1&rescale=0%2C10000&format=png\",\"type\":\"application/json\",\"roles\":[\"tiles\"],\"title\":\"TileJSON with default rendering\"},\"250m_16_days_EVI\":{\"href\":\"https://modiseuwest.blob.core.windows.net/modis-061-cogs/MOD13Q1/34/07/2023273/MOD13Q1.A2023273.h34v07.061.2023290140925_250m_16_days_EVI.tif\",\"type\":\"image/tiff; application=geotiff; profile=cloud-optimized\",\"roles\":[\"data\"],\"title\":\"16 day EVI\",\"raster:bands\":[{\"unit\":\"EVI\",\"scale\":0.0001,\"data_type\":\"int16\",\"spatial_resolution\":250}]},\"rendered_preview\":{\"rel\":\"preview\",\"href\":\"https://planetarycomputer.microsoft.com/api/data/v1/item/preview.png?collection=modis-13Q1-061&item=MOD13Q1.A2023273.h34v07.061.2023290140925&assets=250m_16_days_NDVI&tile_format=png&colormap_name=modis-13A1%7CQ1&rescale=0%2C10000&format=png\",\"type\":\"image/png\",\"roles\":[\"overview\"],\"title\":\"Rendered preview\"},\"250m_16_days_NDVI\":{\"href\":\"https://modiseuwest.blob.core.windows.net/modis-061-cogs/MOD13Q1/34/07/2023273/MOD13Q1.A2023273.h34v07.061.2023290140925_250m_16_days_NDVI.tif\",\"type\":\"image/tiff; application=geotiff; profile=cloud-optimized\",\"roles\":[\"data\"],\"title\":\"16 day NDVI\",\"raster:bands\":[{\"unit\":\"NDVI\",\"scale\":0.0001,\"data_type\":\"int16\",\"spatial_resolution\":250}]},\"250m_16_days_VI_Quality\":{\"href\":\"https://modiseuwest.blob.core.windows.net/modis-061-cogs/MOD13Q1/34/07/2023273/MOD13Q1.A2023273.h34v07.061.2023290140925_250m_16_days_VI_Quality.tif\",\"type\":\"image/tiff; application=geotiff; profile=cloud-optimized\",\"roles\":[\"data\"],\"title\":\"VI quality indicators\",\"raster:bands\":[{\"data_type\":\"uint16\",\"spatial_resolution\":250}]},\"250m_16_days_MIR_reflectance\":{\"href\":\"https://modiseuwest.blob.core.windows.net/modis-061-cogs/MOD13Q1/34/07/2023273/MOD13Q1.A2023273.h34v07.061.2023290140925_250m_16_days_MIR_reflectance.tif\",\"type\":\"image/tiff; application=geotiff; profile=cloud-optimized\",\"roles\":[\"data\"],\"title\":\"Surface Reflectance Band 7\",\"raster:bands\":[{\"scale\":0.0001,\"data_type\":\"int16\",\"spatial_resolution\":250}]},\"250m_16_days_NIR_reflectance\":{\"href\":\"https://modiseuwest.blob.core.windows.net/modis-061-cogs/MOD13Q1/34/07/2023273/MOD13Q1.A2023273.h34v07.061.2023290140925_250m_16_days_NIR_reflectance.tif\",\"type\":\"image/tiff; application=geotiff; profile=cloud-optimized\",\"roles\":[\"data\"],\"title\":\"Surface Reflectance Band 2\",\"raster:bands\":[{\"scale\":0.0001,\"data_type\":\"int16\",\"spatial_resolution\":250}]},\"250m_16_days_red_reflectance\":{\"href\":\"https://modiseuwest.blob.core.windows.net/modis-061-cogs/MOD13Q1/34/07/2023273/MOD13Q1.A2023273.h34v07.061.2023290140925_250m_16_days_red_reflectance.tif\",\"type\":\"image/tiff; application=geotiff; profile=cloud-optimized\",\"roles\":[\"data\"],\"title\":\"Surface Reflectance Band 1\",\"raster:bands\":[{\"scale\":0.0001,\"data_type\":\"int16\",\"spatial_resolution\":250}]},\"250m_16_days_blue_reflectance\":{\"href\":\"https://modiseuwest.blob.core.windows.net/modis-061-cogs/MOD13Q1/34/07/2023273/MOD13Q1.A2023273.h34v07.061.2023290140925_250m_16_days_blue_reflectance.tif\",\"type\":\"image/tiff; application=geotiff; profile=cloud-optimized\",\"roles\":[\"data\"],\"title\":\"Surface Reflectance Band 3\",\"raster:bands\":[{\"scale\":0.0001,\"data_type\":\"int16\",\"spatial_resolution\":250}]},\"250m_16_days_sun_zenith_angle\":{\"href\":\"https://modiseuwest.blob.core.windows.net/modis-061-cogs/MOD13Q1/34/07/2023273/MOD13Q1.A2023273.h34v07.061.2023290140925_250m_16_days_sun_zenith_angle.tif\",\"type\":\"image/tiff; application=geotiff; profile=cloud-optimized\",\"roles\":[\"data\"],\"title\":\"Sun zenith angle of VI pixel\",\"raster:bands\":[{\"unit\":\"Degree\",\"scale\":0.01,\"data_type\":\"int16\",\"spatial_resolution\":250}]},\"250m_16_days_pixel_reliability\":{\"href\":\"https://modiseuwest.blob.core.windows.net/modis-061-cogs/MOD13Q1/34/07/2023273/MOD13Q1.A2023273.h34v07.061.2023290140925_250m_16_days_pixel_reliability.tif\",\"type\":\"image/tiff; application=geotiff; profile=cloud-optimized\",\"roles\":[\"data\"],\"title\":\"Quality reliability of VI pixel\",\"raster:bands\":[{\"unit\":\"Rank\",\"data_type\":\"int8\",\"spatial_resolution\":250}],\"classification:classes\":[{\"value\":0,\"description\":\"Good data, use with confidence\"},{\"value\":1,\"description\":\"Marginal data, useful, but look at other QA information\"},{\"value\":2,\"description\":\"Snow/Ice Target covered with snow/ice\"},{\"value\":3,\"description\":\"Cloudy data\"}]},\"250m_16_days_view_zenith_angle\":{\"href\":\"https://modiseuwest.blob.core.windows.net/modis-061-cogs/MOD13Q1/34/07/2023273/MOD13Q1.A2023273.h34v07.061.2023290140925_250m_16_days_view_zenith_angle.tif\",\"type\":\"image/tiff; application=geotiff; profile=cloud-optimized\",\"roles\":[\"data\"],\"title\":\"View zenith angle of VI Pixel\",\"raster:bands\":[{\"unit\":\"Degree\",\"scale\":0.01,\"data_type\":\"int16\",\"spatial_resolution\":250}]},\"250m_16_days_relative_azimuth_angle\":{\"href\":\"https://modiseuwest.blob.core.windows.net/modis-061-cogs/MOD13Q1/34/07/2023273/MOD13Q1.A2023273.h34v07.061.2023290140925_250m_16_days_relative_azimuth_angle.tif\",\"type\":\"image/tiff; application=geotiff; profile=cloud-optimized\",\"roles\":[\"data\"],\"title\":\"Relative azimuth angle of VI pixel\",\"raster:bands\":[{\"unit\":\"Degree\",\"scale\":0.01,\"data_type\":\"int16\",\"spatial_resolution\":250}]},\"250m_16_days_composite_day_of_the_year\":{\"href\":\"https://modiseuwest.blob.core.windows.net/modis-061-cogs/MOD13Q1/34/07/2023273/MOD13Q1.A2023273.h34v07.061.2023290140925_250m_16_days_composite_day_of_the_year.tif\",\"type\":\"image/tiff; application=geotiff; profile=cloud-optimized\",\"roles\":[\"data\"],\"title\":\"Day of year VI pixel\",\"raster:bands\":[{\"unit\":\"Julian Day\",\"data_type\":\"int16\",\"spatial_resolution\":250}]}},\"geometry\":{\"type\":\"Polygon\",\"coordinates\":[[[162.468655072985,9.98296436450166],[179.465521528851,9.72432164126745],[180.048970382293,19.9967803797242],[162.218267079146,20.2677999045792],[162.468655072985,9.98296436450166]]]},\"collection\":\"modis-13Q1-061\",\"properties\":{\"created\":\"2023-10-17T18:09:25Z\",\"updated\":\"2023-10-17T13:16:31.796000Z\",\"platform\":\"terra\",\"proj:wkt2\":\"PROJCS[\\\"unnamed\\\",GEOGCS[\\\"Unknown datum based upon the custom spheroid\\\",DATUM[\\\"Not specified (based on custom spheroid)\\\",SPHEROID[\\\"Custom spheroid\\\",6371007.181,0]],PRIMEM[\\\"Greenwich\\\",0],UNIT[\\\"degree\\\",0.0174532925199433,AUTHORITY[\\\"EPSG\\\",\\\"9122\\\"]]],PROJECTION[\\\"Sinusoidal\\\"],PARAMETER[\\\"longitude_of_center\\\",0],PARAMETER[\\\"false_easting\\\",0],PARAMETER[\\\"false_northing\\\",0],UNIT[\\\"Meter\\\",1],AXIS[\\\"Easting\\\",EAST],AXIS[\\\"Northing\\\",NORTH]]\",\"proj:shape\":[4800,4800],\"instruments\":[\"modis\"],\"end_datetime\":\"2023-10-15T23:59:59Z\",\"modis:tile-id\":\"51034007\",\"proj:geometry\":{\"type\":\"Polygon\",\"coordinates\":[[[18903158.834333,1111950.519667],[18903158.834333,2223901.039333],[17791208.314667,2223901.039333],[17791208.314667,1111950.519667],[18903158.834333,1111950.519667]]]},\"proj:transform\":[231.65635826374947,0.0,17791208.314667,0.0,-231.65635826374995,2223901.039333],\"start_datetime\":\"2023-09-30T00:00:00Z\",\"modis:vertical-tile\":7,\"modis:horizontal-tile\":34},\"stac_version\":\"1.0.0\",\"stac_extensions\":[\"https://stac-extensions.github.io/projection/v1.1.0/schema.json\",\"https://stac-extensions.github.io/raster/v1.1.0/schema.json\",\"https://stac-extensions.github.io/classification/v1.0.0/schema.json\"]},{\"id\":\"MOD13Q1.A2023273.h33v11.061.2023290143105\",\"bbox\":[159.15191110065,-30.5860517493714,180.338520479382,-19.3488112087257],\"type\":\"Feature\",\"links\":[{\"rel\":\"collection\",\"href\":\"https://planetarycomputer.microsoft.com/api/stac/v1/collections/modis-13Q1-061\",\"type\":\"application/json\"},{\"rel\":\"parent\",\"href\":\"https://planetarycomputer.microsoft.com/api/stac/v1/collections/modis-13Q1-061\",\"type\":\"application/json\"},{\"rel\":\"root\",\"href\":\"https://planetarycomputer.microsoft.com/api/stac/v1\",\"type\":\"application/json\",\"title\":\"Microsoft Planetary Computer STAC API\"},{\"rel\":\"self\",\"href\":\"https://planetarycomputer.microsoft.com/api/stac/v1/collections/modis-13Q1-061/items/MOD13Q1.A2023273.h33v11.061.2023290143105\",\"type\":\"application/geo+json\"},{\"rel\":\"preview\",\"href\":\"https://planetarycomputer.microsoft.com/api/data/v1/item/map?collection=modis-13Q1-061&item=MOD13Q1.A2023273.h33v11.061.2023290143105\",\"type\":\"text/html\",\"title\":\"Map of item\"}],\"assets\":{\"hdf\":{\"href\":\"https://modiseuwest.blob.core.windows.net/modis-061/MOD13Q1/33/11/2023273/MOD13Q1.A2023273.h33v11.061.2023290143105.hdf\",\"type\":\"application/x-hdf\",\"roles\":[\"data\"],\"title\":\"Source data containing all bands\"},\"metadata\":{\"href\":\"https://modiseuwest.blob.core.windows.net/modis-061/MOD13Q1/33/11/2023273/MOD13Q1.A2023273.h33v11.061.2023290143105.hdf.xml\",\"type\":\"application/xml\",\"roles\":[\"metadata\"],\"title\":\"Federal Geographic Data Committee (FGDC) Metadata\"},\"tilejson\":{\"href\":\"https://planetarycomputer.microsoft.com/api/data/v1/item/tilejson.json?collection=modis-13Q1-061&item=MOD13Q1.A2023273.h33v11.061.2023290143105&assets=250m_16_days_NDVI&tile_format=png&colormap_name=modis-13A1%7CQ1&rescale=0%2C10000&format=png\",\"type\":\"application/json\",\"roles\":[\"tiles\"],\"title\":\"TileJSON with default rendering\"},\"250m_16_days_EVI\":{\"href\":\"https://modiseuwest.blob.core.windows.net/modis-061-cogs/MOD13Q1/33/11/2023273/MOD13Q1.A2023273.h33v11.061.2023290143105_250m_16_days_EVI.tif\",\"type\":\"image/tiff; application=geotiff; profile=cloud-optimized\",\"roles\":[\"data\"],\"title\":\"16 day EVI\",\"raster:bands\":[{\"unit\":\"EVI\",\"scale\":0.0001,\"data_type\":\"int16\",\"spatial_resolution\":250}]},\"rendered_preview\":{\"rel\":\"preview\",\"href\":\"https://planetarycomputer.microsoft.com/api/data/v1/item/preview.png?collection=modis-13Q1-061&item=MOD13Q1.A2023273.h33v11.061.2023290143105&assets=250m_16_days_NDVI&tile_format=png&colormap_name=modis-13A1%7CQ1&rescale=0%2C10000&format=png\",\"type\":\"image/png\",\"roles\":[\"overview\"],\"title\":\"Rendered preview\"},\"250m_16_days_NDVI\":{\"href\":\"https://modiseuwest.blob.core.windows.net/modis-061-cogs/MOD13Q1/33/11/2023273/MOD13Q1.A2023273.h33v11.061.2023290143105_250m_16_days_NDVI.tif\",\"type\":\"image/tiff; application=geotiff; profile=cloud-optimized\",\"roles\":[\"data\"],\"title\":\"16 day NDVI\",\"raster:bands\":[{\"unit\":\"NDVI\",\"scale\":0.0001,\"data_type\":\"int16\",\"spatial_resolution\":250}]},\"250m_16_days_VI_Quality\":{\"href\":\"https://modiseuwest.blob.core.windows.net/modis-061-cogs/MOD13Q1/33/11/2023273/MOD13Q1.A2023273.h33v11.061.2023290143105_250m_16_days_VI_Quality.tif\",\"type\":\"image/tiff; application=geotiff; profile=cloud-optimized\",\"roles\":[\"data\"],\"title\":\"VI quality indicators\",\"raster:bands\":[{\"data_type\":\"uint16\",\"spatial_resolution\":250}]},\"250m_16_days_MIR_reflectance\":{\"href\":\"https://modiseuwest.blob.core.windows.net/modis-061-cogs/MOD13Q1/33/11/2023273/MOD13Q1.A2023273.h33v11.061.2023290143105_250m_16_days_MIR_reflectance.tif\",\"type\":\"image/tiff; application=geotiff; profile=cloud-optimized\",\"roles\":[\"data\"],\"title\":\"Surface Reflectance Band 7\",\"raster:bands\":[{\"scale\":0.0001,\"data_type\":\"int16\",\"spatial_resolution\":250}]},\"250m_16_days_NIR_reflectance\":{\"href\":\"https://modiseuwest.blob.core.windows.net/modis-061-cogs/MOD13Q1/33/11/2023273/MOD13Q1.A2023273.h33v11.061.2023290143105_250m_16_days_NIR_reflectance.tif\",\"type\":\"image/tiff; application=geotiff; profile=cloud-optimized\",\"roles\":[\"data\"],\"title\":\"Surface Reflectance Band 2\",\"raster:bands\":[{\"scale\":0.0001,\"data_type\":\"int16\",\"spatial_resolution\":250}]},\"250m_16_days_red_reflectance\":{\"href\":\"https://modiseuwest.blob.core.windows.net/modis-061-cogs/MOD13Q1/33/11/2023273/MOD13Q1.A2023273.h33v11.061.2023290143105_250m_16_days_red_reflectance.tif\",\"type\":\"image/tiff; application=geotiff; profile=cloud-optimized\",\"roles\":[\"data\"],\"title\":\"Surface Reflectance Band 1\",\"raster:bands\":[{\"scale\":0.0001,\"data_type\":\"int16\",\"spatial_resolution\":250}]},\"250m_16_days_blue_reflectance\":{\"href\":\"https://modiseuwest.blob.core.windows.net/modis-061-cogs/MOD13Q1/33/11/2023273/MOD13Q1.A2023273.h33v11.061.2023290143105_250m_16_days_blue_reflectance.tif\",\"type\":\"image/tiff; application=geotiff; profile=cloud-optimized\",\"roles\":[\"data\"],\"title\":\"Surface Reflectance Band 3\",\"raster:bands\":[{\"scale\":0.0001,\"data_type\":\"int16\",\"spatial_resolution\":250}]},\"250m_16_days_sun_zenith_angle\":{\"href\":\"https://modiseuwest.blob.core.windows.net/modis-061-cogs/MOD13Q1/33/11/2023273/MOD13Q1.A2023273.h33v11.061.2023290143105_250m_16_days_sun_zenith_angle.tif\",\"type\":\"image/tiff; application=geotiff; profile=cloud-optimized\",\"roles\":[\"data\"],\"title\":\"Sun zenith angle of VI pixel\",\"raster:bands\":[{\"unit\":\"Degree\",\"scale\":0.01,\"data_type\":\"int16\",\"spatial_resolution\":250}]},\"250m_16_days_pixel_reliability\":{\"href\":\"https://modiseuwest.blob.core.windows.net/modis-061-cogs/MOD13Q1/33/11/2023273/MOD13Q1.A2023273.h33v11.061.2023290143105_250m_16_days_pixel_reliability.tif\",\"type\":\"image/tiff; application=geotiff; profile=cloud-optimized\",\"roles\":[\"data\"],\"title\":\"Quality reliability of VI pixel\",\"raster:bands\":[{\"unit\":\"Rank\",\"data_type\":\"int8\",\"spatial_resolution\":250}],\"classification:classes\":[{\"value\":0,\"description\":\"Good data, use with confidence\"},{\"value\":1,\"description\":\"Marginal data, useful, but look at other QA information\"},{\"value\":2,\"description\":\"Snow/Ice Target covered with snow/ice\"},{\"value\":3,\"description\":\"Cloudy data\"}]},\"250m_16_days_view_zenith_angle\":{\"href\":\"https://modiseuwest.blob.core.windows.net/modis-061-cogs/MOD13Q1/33/11/2023273/MOD13Q1.A2023273.h33v11.061.2023290143105_250m_16_days_view_zenith_angle.tif\",\"type\":\"image/tiff; application=geotiff; profile=cloud-optimized\",\"roles\":[\"data\"],\"title\":\"View zenith angle of VI Pixel\",\"raster:bands\":[{\"unit\":\"Degree\",\"scale\":0.01,\"data_type\":\"int16\",\"spatial_resolution\":250}]},\"250m_16_days_relative_azimuth_angle\":{\"href\":\"https://modiseuwest.blob.core.windows.net/modis-061-cogs/MOD13Q1/33/11/2023273/MOD13Q1.A2023273.h33v11.061.2023290143105_250m_16_days_relative_azimuth_angle.tif\",\"type\":\"image/tiff; application=geotiff; profile=cloud-optimized\",\"roles\":[\"data\"],\"title\":\"Relative azimuth angle of VI pixel\",\"raster:bands\":[{\"unit\":\"Degree\",\"scale\":0.01,\"data_type\":\"int16\",\"spatial_resolution\":250}]},\"250m_16_days_composite_day_of_the_year\":{\"href\":\"https://modiseuwest.blob.core.windows.net/modis-061-cogs/MOD13Q1/33/11/2023273/MOD13Q1.A2023273.h33v11.061.2023290143105_250m_16_days_composite_day_of_the_year.tif\",\"type\":\"image/tiff; application=geotiff; profile=cloud-optimized\",\"roles\":[\"data\"],\"title\":\"Day of year VI pixel\",\"raster:bands\":[{\"unit\":\"Julian Day\",\"data_type\":\"int16\",\"spatial_resolution\":250}]}},\"geometry\":{\"type\":\"Polygon\",\"coordinates\":[[[159.15191110065,-30.5860517493714],[180.338520479382,-29.9627990954245],[179.086419118062,-19.3488112087257],[159.628715323551,-19.9503809756581],[159.15191110065,-30.5860517493714]]]},\"collection\":\"modis-13Q1-061\",\"properties\":{\"created\":\"2023-10-17T18:31:05Z\",\"updated\":\"2023-10-17T13:36:34.136000Z\",\"platform\":\"terra\",\"proj:wkt2\":\"PROJCS[\\\"unnamed\\\",GEOGCS[\\\"Unknown datum based upon the custom spheroid\\\",DATUM[\\\"Not specified (based on custom spheroid)\\\",SPHEROID[\\\"Custom spheroid\\\",6371007.181,0]],PRIMEM[\\\"Greenwich\\\",0],UNIT[\\\"degree\\\",0.0174532925199433,AUTHORITY[\\\"EPSG\\\",\\\"9122\\\"]]],PROJECTION[\\\"Sinusoidal\\\"],PARAMETER[\\\"longitude_of_center\\\",0],PARAMETER[\\\"false_easting\\\",0],PARAMETER[\\\"false_northing\\\",0],UNIT[\\\"Meter\\\",1],AXIS[\\\"Easting\\\",EAST],AXIS[\\\"Northing\\\",NORTH]]\",\"proj:shape\":[4800,4800],\"instruments\":[\"modis\"],\"end_datetime\":\"2023-10-15T23:59:59Z\",\"modis:tile-id\":\"51033011\",\"proj:geometry\":{\"type\":\"Polygon\",\"coordinates\":[[[17791208.314667,-3335851.559],[17791208.314667,-2223901.039333],[16679257.795,-2223901.039333],[16679257.795,-3335851.559],[17791208.314667,-3335851.559]]]},\"proj:transform\":[231.65635826395862,0.0,16679257.795,0.0,-231.65635826395834,-2223901.039333],\"start_datetime\":\"2023-09-30T00:00:00Z\",\"modis:vertical-tile\":11,\"modis:horizontal-tile\":33},\"stac_version\":\"1.0.0\",\"stac_extensions\":[\"https://stac-extensions.github.io/projection/v1.1.0/schema.json\",\"https://stac-extensions.github.io/raster/v1.1.0/schema.json\",\"https://stac-extensions.github.io/classification/v1.0.0/schema.json\"]},{\"id\":\"MOD13Q1.A2023273.h33v10.061.2023290143322\",\"bbox\":[151.773414615977,-20.0446579085825,170.268443578913,-9.93076309615818],\"type\":\"Feature\",\"links\":[{\"rel\":\"collection\",\"href\":\"https://planetarycomputer.microsoft.com/api/stac/v1/collections/modis-13Q1-061\",\"type\":\"application/json\"},{\"rel\":\"parent\",\"href\":\"https://planetarycomputer.microsoft.com/api/stac/v1/collections/modis-13Q1-061\",\"type\":\"application/json\"},{\"rel\":\"root\",\"href\":\"https://planetarycomputer.microsoft.com/api/stac/v1\",\"type\":\"application/json\",\"title\":\"Microsoft Planetary Computer STAC API\"},{\"rel\":\"self\",\"href\":\"https://planetarycomputer.microsoft.com/api/stac/v1/collections/modis-13Q1-061/items/MOD13Q1.A2023273.h33v10.061.2023290143322\",\"type\":\"application/geo+json\"},{\"rel\":\"preview\",\"href\":\"https://planetarycomputer.microsoft.com/api/data/v1/item/map?collection=modis-13Q1-061&item=MOD13Q1.A2023273.h33v10.061.2023290143322\",\"type\":\"text/html\",\"title\":\"Map of item\"}],\"assets\":{\"hdf\":{\"href\":\"https://modiseuwest.blob.core.windows.net/modis-061/MOD13Q1/33/10/2023273/MOD13Q1.A2023273.h33v10.061.2023290143322.hdf\",\"type\":\"application/x-hdf\",\"roles\":[\"data\"],\"title\":\"Source data containing all bands\"},\"metadata\":{\"href\":\"https://modiseuwest.blob.core.windows.net/modis-061/MOD13Q1/33/10/2023273/MOD13Q1.A2023273.h33v10.061.2023290143322.hdf.xml\",\"type\":\"application/xml\",\"roles\":[\"metadata\"],\"title\":\"Federal Geographic Data Committee (FGDC) Metadata\"},\"tilejson\":{\"href\":\"https://planetarycomputer.microsoft.com/api/data/v1/item/tilejson.json?collection=modis-13Q1-061&item=MOD13Q1.A2023273.h33v10.061.2023290143322&assets=250m_16_days_NDVI&tile_format=png&colormap_name=modis-13A1%7CQ1&rescale=0%2C10000&format=png\",\"type\":\"application/json\",\"roles\":[\"tiles\"],\"title\":\"TileJSON with default rendering\"},\"250m_16_days_EVI\":{\"href\":\"https://modiseuwest.blob.core.windows.net/modis-061-cogs/MOD13Q1/33/10/2023273/MOD13Q1.A2023273.h33v10.061.2023290143322_250m_16_days_EVI.tif\",\"type\":\"image/tiff; application=geotiff; profile=cloud-optimized\",\"roles\":[\"data\"],\"title\":\"16 day EVI\",\"raster:bands\":[{\"unit\":\"EVI\",\"scale\":0.0001,\"data_type\":\"int16\",\"spatial_resolution\":250}]},\"rendered_preview\":{\"rel\":\"preview\",\"href\":\"https://planetarycomputer.microsoft.com/api/data/v1/item/preview.png?collection=modis-13Q1-061&item=MOD13Q1.A2023273.h33v10.061.2023290143322&assets=250m_16_days_NDVI&tile_format=png&colormap_name=modis-13A1%7CQ1&rescale=0%2C10000&format=png\",\"type\":\"image/png\",\"roles\":[\"overview\"],\"title\":\"Rendered preview\"},\"250m_16_days_NDVI\":{\"href\":\"https://modiseuwest.blob.core.windows.net/modis-061-cogs/MOD13Q1/33/10/2023273/MOD13Q1.A2023273.h33v10.061.2023290143322_250m_16_days_NDVI.tif\",\"type\":\"image/tiff; application=geotiff; profile=cloud-optimized\",\"roles\":[\"data\"],\"title\":\"16 day NDVI\",\"raster:bands\":[{\"unit\":\"NDVI\",\"scale\":0.0001,\"data_type\":\"int16\",\"spatial_resolution\":250}]},\"250m_16_days_VI_Quality\":{\"href\":\"https://modiseuwest.blob.core.windows.net/modis-061-cogs/MOD13Q1/33/10/2023273/MOD13Q1.A2023273.h33v10.061.2023290143322_250m_16_days_VI_Quality.tif\",\"type\":\"image/tiff; application=geotiff; profile=cloud-optimized\",\"roles\":[\"data\"],\"title\":\"VI quality indicators\",\"raster:bands\":[{\"data_type\":\"uint16\",\"spatial_resolution\":250}]},\"250m_16_days_MIR_reflectance\":{\"href\":\"https://modiseuwest.blob.core.windows.net/modis-061-cogs/MOD13Q1/33/10/2023273/MOD13Q1.A2023273.h33v10.061.2023290143322_250m_16_days_MIR_reflectance.tif\",\"type\":\"image/tiff; application=geotiff; profile=cloud-optimized\",\"roles\":[\"data\"],\"title\":\"Surface Reflectance Band 7\",\"raster:bands\":[{\"scale\":0.0001,\"data_type\":\"int16\",\"spatial_resolution\":250}]},\"250m_16_days_NIR_reflectance\":{\"href\":\"https://modiseuwest.blob.core.windows.net/modis-061-cogs/MOD13Q1/33/10/2023273/MOD13Q1.A2023273.h33v10.061.2023290143322_250m_16_days_NIR_reflectance.tif\",\"type\":\"image/tiff; application=geotiff; profile=cloud-optimized\",\"roles\":[\"data\"],\"title\":\"Surface Reflectance Band 2\",\"raster:bands\":[{\"scale\":0.0001,\"data_type\":\"int16\",\"spatial_resolution\":250}]},\"250m_16_days_red_reflectance\":{\"href\":\"https://modiseuwest.blob.core.windows.net/modis-061-cogs/MOD13Q1/33/10/2023273/MOD13Q1.A2023273.h33v10.061.2023290143322_250m_16_days_red_reflectance.tif\",\"type\":\"image/tiff; application=geotiff; profile=cloud-optimized\",\"roles\":[\"data\"],\"title\":\"Surface Reflectance Band 1\",\"raster:bands\":[{\"scale\":0.0001,\"data_type\":\"int16\",\"spatial_resolution\":250}]},\"250m_16_days_blue_reflectance\":{\"href\":\"https://modiseuwest.blob.core.windows.net/modis-061-cogs/MOD13Q1/33/10/2023273/MOD13Q1.A2023273.h33v10.061.2023290143322_250m_16_days_blue_reflectance.tif\",\"type\":\"image/tiff; application=geotiff; profile=cloud-optimized\",\"roles\":[\"data\"],\"title\":\"Surface Reflectance Band 3\",\"raster:bands\":[{\"scale\":0.0001,\"data_type\":\"int16\",\"spatial_resolution\":250}]},\"250m_16_days_sun_zenith_angle\":{\"href\":\"https://modiseuwest.blob.core.windows.net/modis-061-cogs/MOD13Q1/33/10/2023273/MOD13Q1.A2023273.h33v10.061.2023290143322_250m_16_days_sun_zenith_angle.tif\",\"type\":\"image/tiff; application=geotiff; profile=cloud-optimized\",\"roles\":[\"data\"],\"title\":\"Sun zenith angle of VI pixel\",\"raster:bands\":[{\"unit\":\"Degree\",\"scale\":0.01,\"data_type\":\"int16\",\"spatial_resolution\":250}]},\"250m_16_days_pixel_reliability\":{\"href\":\"https://modiseuwest.blob.core.windows.net/modis-061-cogs/MOD13Q1/33/10/2023273/MOD13Q1.A2023273.h33v10.061.2023290143322_250m_16_days_pixel_reliability.tif\",\"type\":\"image/tiff; application=geotiff; profile=cloud-optimized\",\"roles\":[\"data\"],\"title\":\"Quality reliability of VI pixel\",\"raster:bands\":[{\"unit\":\"Rank\",\"data_type\":\"int8\",\"spatial_resolution\":250}],\"classification:classes\":[{\"value\":0,\"description\":\"Good data, use with confidence\"},{\"value\":1,\"description\":\"Marginal data, useful, but look at other QA information\"},{\"value\":2,\"description\":\"Snow/Ice Target covered with snow/ice\"},{\"value\":3,\"description\":\"Cloudy data\"}]},\"250m_16_days_view_zenith_angle\":{\"href\":\"https://modiseuwest.blob.core.windows.net/modis-061-cogs/MOD13Q1/33/10/2023273/MOD13Q1.A2023273.h33v10.061.2023290143322_250m_16_days_view_zenith_angle.tif\",\"type\":\"image/tiff; application=geotiff; profile=cloud-optimized\",\"roles\":[\"data\"],\"title\":\"View zenith angle of VI Pixel\",\"raster:bands\":[{\"unit\":\"Degree\",\"scale\":0.01,\"data_type\":\"int16\",\"spatial_resolution\":250}]},\"250m_16_days_relative_azimuth_angle\":{\"href\":\"https://modiseuwest.blob.core.windows.net/modis-061-cogs/MOD13Q1/33/10/2023273/MOD13Q1.A2023273.h33v10.061.2023290143322_250m_16_days_relative_azimuth_angle.tif\",\"type\":\"image/tiff; application=geotiff; profile=cloud-optimized\",\"roles\":[\"data\"],\"title\":\"Relative azimuth angle of VI pixel\",\"raster:bands\":[{\"unit\":\"Degree\",\"scale\":0.01,\"data_type\":\"int16\",\"spatial_resolution\":250}]},\"250m_16_days_composite_day_of_the_year\":{\"href\":\"https://modiseuwest.blob.core.windows.net/modis-061-cogs/MOD13Q1/33/10/2023273/MOD13Q1.A2023273.h33v10.061.2023290143322_250m_16_days_composite_day_of_the_year.tif\",\"type\":\"image/tiff; application=geotiff; profile=cloud-optimized\",\"roles\":[\"data\"],\"title\":\"Day of year VI pixel\",\"raster:bands\":[{\"unit\":\"Julian Day\",\"data_type\":\"int16\",\"spatial_resolution\":250}]}},\"geometry\":{\"type\":\"Polygon\",\"coordinates\":[[[159.037155638548,-20.0446579085825],[151.773414615977,-9.97735872020488],[162.483768283086,-9.93076309615818],[170.268443578913,-19.999999998204],[159.037155638548,-20.0446579085825]]]},\"collection\":\"modis-13Q1-061\",\"properties\":{\"created\":\"2023-10-17T18:33:22Z\",\"updated\":\"2023-10-17T13:40:23.022000Z\",\"platform\":\"terra\",\"proj:wkt2\":\"PROJCS[\\\"unnamed\\\",GEOGCS[\\\"Unknown datum based upon the custom spheroid\\\",DATUM[\\\"Not specified (based on custom spheroid)\\\",SPHEROID[\\\"Custom spheroid\\\",6371007.181,0]],PRIMEM[\\\"Greenwich\\\",0],UNIT[\\\"degree\\\",0.0174532925199433,AUTHORITY[\\\"EPSG\\\",\\\"9122\\\"]]],PROJECTION[\\\"Sinusoidal\\\"],PARAMETER[\\\"longitude_of_center\\\",0],PARAMETER[\\\"false_easting\\\",0],PARAMETER[\\\"false_northing\\\",0],UNIT[\\\"Meter\\\",1],AXIS[\\\"Easting\\\",EAST],AXIS[\\\"Northing\\\",NORTH]]\",\"proj:shape\":[4800,4800],\"instruments\":[\"modis\"],\"end_datetime\":\"2023-10-15T23:59:59Z\",\"modis:tile-id\":\"51033010\",\"proj:geometry\":{\"type\":\"Polygon\",\"coordinates\":[[[17791208.314667,-2223901.039333],[17791208.314667,-1111950.519667],[16679257.795,-1111950.519667],[16679257.795,-2223901.039333],[17791208.314667,-2223901.039333]]]},\"proj:transform\":[231.65635826395862,0.0,16679257.795,0.0,-231.65635826374995,-1111950.519667],\"start_datetime\":\"2023-09-30T00:00:00Z\",\"modis:vertical-tile\":10,\"modis:horizontal-tile\":33},\"stac_version\":\"1.0.0\",\"stac_extensions\":[\"https://stac-extensions.github.io/projection/v1.1.0/schema.json\",\"https://stac-extensions.github.io/raster/v1.1.0/schema.json\",\"https://stac-extensions.github.io/classification/v1.0.0/schema.json\"]},{\"id\":\"MOD13Q1.A2023273.h33v09.061.2023290142939\",\"bbox\":[149.4391832907,-10.0131633224636,162.470464063139,0.0150770994363422],\"type\":\"Feature\",\"links\":[{\"rel\":\"collection\",\"href\":\"https://planetarycomputer.microsoft.com/api/stac/v1/collections/modis-13Q1-061\",\"type\":\"application/json\"},{\"rel\":\"parent\",\"href\":\"https://planetarycomputer.microsoft.com/api/stac/v1/collections/modis-13Q1-061\",\"type\":\"application/json\"},{\"rel\":\"root\",\"href\":\"https://planetarycomputer.microsoft.com/api/stac/v1\",\"type\":\"application/json\",\"title\":\"Microsoft Planetary Computer STAC API\"},{\"rel\":\"self\",\"href\":\"https://planetarycomputer.microsoft.com/api/stac/v1/collections/modis-13Q1-061/items/MOD13Q1.A2023273.h33v09.061.2023290142939\",\"type\":\"application/geo+json\"},{\"rel\":\"preview\",\"href\":\"https://planetarycomputer.microsoft.com/api/data/v1/item/map?collection=modis-13Q1-061&item=MOD13Q1.A2023273.h33v09.061.2023290142939\",\"type\":\"text/html\",\"title\":\"Map of item\"}],\"assets\":{\"hdf\":{\"href\":\"https://modiseuwest.blob.core.windows.net/modis-061/MOD13Q1/33/09/2023273/MOD13Q1.A2023273.h33v09.061.2023290142939.hdf\",\"type\":\"application/x-hdf\",\"roles\":[\"data\"],\"title\":\"Source data containing all bands\"},\"metadata\":{\"href\":\"https://modiseuwest.blob.core.windows.net/modis-061/MOD13Q1/33/09/2023273/MOD13Q1.A2023273.h33v09.061.2023290142939.hdf.xml\",\"type\":\"application/xml\",\"roles\":[\"metadata\"],\"title\":\"Federal Geographic Data Committee (FGDC) Metadata\"},\"tilejson\":{\"href\":\"https://planetarycomputer.microsoft.com/api/data/v1/item/tilejson.json?collection=modis-13Q1-061&item=MOD13Q1.A2023273.h33v09.061.2023290142939&assets=250m_16_days_NDVI&tile_format=png&colormap_name=modis-13A1%7CQ1&rescale=0%2C10000&format=png\",\"type\":\"application/json\",\"roles\":[\"tiles\"],\"title\":\"TileJSON with default rendering\"},\"250m_16_days_EVI\":{\"href\":\"https://modiseuwest.blob.core.windows.net/modis-061-cogs/MOD13Q1/33/09/2023273/MOD13Q1.A2023273.h33v09.061.2023290142939_250m_16_days_EVI.tif\",\"type\":\"image/tiff; application=geotiff; profile=cloud-optimized\",\"roles\":[\"data\"],\"title\":\"16 day EVI\",\"raster:bands\":[{\"unit\":\"EVI\",\"scale\":0.0001,\"data_type\":\"int16\",\"spatial_resolution\":250}]},\"rendered_preview\":{\"rel\":\"preview\",\"href\":\"https://planetarycomputer.microsoft.com/api/data/v1/item/preview.png?collection=modis-13Q1-061&item=MOD13Q1.A2023273.h33v09.061.2023290142939&assets=250m_16_days_NDVI&tile_format=png&colormap_name=modis-13A1%7CQ1&rescale=0%2C10000&format=png\",\"type\":\"image/png\",\"roles\":[\"overview\"],\"title\":\"Rendered preview\"},\"250m_16_days_NDVI\":{\"href\":\"https://modiseuwest.blob.core.windows.net/modis-061-cogs/MOD13Q1/33/09/2023273/MOD13Q1.A2023273.h33v09.061.2023290142939_250m_16_days_NDVI.tif\",\"type\":\"image/tiff; application=geotiff; profile=cloud-optimized\",\"roles\":[\"data\"],\"title\":\"16 day NDVI\",\"raster:bands\":[{\"unit\":\"NDVI\",\"scale\":0.0001,\"data_type\":\"int16\",\"spatial_resolution\":250}]},\"250m_16_days_VI_Quality\":{\"href\":\"https://modiseuwest.blob.core.windows.net/modis-061-cogs/MOD13Q1/33/09/2023273/MOD13Q1.A2023273.h33v09.061.2023290142939_250m_16_days_VI_Quality.tif\",\"type\":\"image/tiff; application=geotiff; profile=cloud-optimized\",\"roles\":[\"data\"],\"title\":\"VI quality indicators\",\"raster:bands\":[{\"data_type\":\"uint16\",\"spatial_resolution\":250}]},\"250m_16_days_MIR_reflectance\":{\"href\":\"https://modiseuwest.blob.core.windows.net/modis-061-cogs/MOD13Q1/33/09/2023273/MOD13Q1.A2023273.h33v09.061.2023290142939_250m_16_days_MIR_reflectance.tif\",\"type\":\"image/tiff; application=geotiff; profile=cloud-optimized\",\"roles\":[\"data\"],\"title\":\"Surface Reflectance Band 7\",\"raster:bands\":[{\"scale\":0.0001,\"data_type\":\"int16\",\"spatial_resolution\":250}]},\"250m_16_days_NIR_reflectance\":{\"href\":\"https://modiseuwest.blob.core.windows.net/modis-061-cogs/MOD13Q1/33/09/2023273/MOD13Q1.A2023273.h33v09.061.2023290142939_250m_16_days_NIR_reflectance.tif\",\"type\":\"image/tiff; application=geotiff; profile=cloud-optimized\",\"roles\":[\"data\"],\"title\":\"Surface Reflectance Band 2\",\"raster:bands\":[{\"scale\":0.0001,\"data_type\":\"int16\",\"spatial_resolution\":250}]},\"250m_16_days_red_reflectance\":{\"href\":\"https://modiseuwest.blob.core.windows.net/modis-061-cogs/MOD13Q1/33/09/2023273/MOD13Q1.A2023273.h33v09.061.2023290142939_250m_16_days_red_reflectance.tif\",\"type\":\"image/tiff; application=geotiff; profile=cloud-optimized\",\"roles\":[\"data\"],\"title\":\"Surface Reflectance Band 1\",\"raster:bands\":[{\"scale\":0.0001,\"data_type\":\"int16\",\"spatial_resolution\":250}]},\"250m_16_days_blue_reflectance\":{\"href\":\"https://modiseuwest.blob.core.windows.net/modis-061-cogs/MOD13Q1/33/09/2023273/MOD13Q1.A2023273.h33v09.061.2023290142939_250m_16_days_blue_reflectance.tif\",\"type\":\"image/tiff; application=geotiff; profile=cloud-optimized\",\"roles\":[\"data\"],\"title\":\"Surface Reflectance Band 3\",\"raster:bands\":[{\"scale\":0.0001,\"data_type\":\"int16\",\"spatial_resolution\":250}]},\"250m_16_days_sun_zenith_angle\":{\"href\":\"https://modiseuwest.blob.core.windows.net/modis-061-cogs/MOD13Q1/33/09/2023273/MOD13Q1.A2023273.h33v09.061.2023290142939_250m_16_days_sun_zenith_angle.tif\",\"type\":\"image/tiff; application=geotiff; profile=cloud-optimized\",\"roles\":[\"data\"],\"title\":\"Sun zenith angle of VI pixel\",\"raster:bands\":[{\"unit\":\"Degree\",\"scale\":0.01,\"data_type\":\"int16\",\"spatial_resolution\":250}]},\"250m_16_days_pixel_reliability\":{\"href\":\"https://modiseuwest.blob.core.windows.net/modis-061-cogs/MOD13Q1/33/09/2023273/MOD13Q1.A2023273.h33v09.061.2023290142939_250m_16_days_pixel_reliability.tif\",\"type\":\"image/tiff; application=geotiff; profile=cloud-optimized\",\"roles\":[\"data\"],\"title\":\"Quality reliability of VI pixel\",\"raster:bands\":[{\"unit\":\"Rank\",\"data_type\":\"int8\",\"spatial_resolution\":250}],\"classification:classes\":[{\"value\":0,\"description\":\"Good data, use with confidence\"},{\"value\":1,\"description\":\"Marginal data, useful, but look at other QA information\"},{\"value\":2,\"description\":\"Snow/Ice Target covered with snow/ice\"},{\"value\":3,\"description\":\"Cloudy data\"}]},\"250m_16_days_view_zenith_angle\":{\"href\":\"https://modiseuwest.blob.core.windows.net/modis-061-cogs/MOD13Q1/33/09/2023273/MOD13Q1.A2023273.h33v09.061.2023290142939_250m_16_days_view_zenith_angle.tif\",\"type\":\"image/tiff; application=geotiff; profile=cloud-optimized\",\"roles\":[\"data\"],\"title\":\"View zenith angle of VI Pixel\",\"raster:bands\":[{\"unit\":\"Degree\",\"scale\":0.01,\"data_type\":\"int16\",\"spatial_resolution\":250}]},\"250m_16_days_relative_azimuth_angle\":{\"href\":\"https://modiseuwest.blob.core.windows.net/modis-061-cogs/MOD13Q1/33/09/2023273/MOD13Q1.A2023273.h33v09.061.2023290142939_250m_16_days_relative_azimuth_angle.tif\",\"type\":\"image/tiff; application=geotiff; profile=cloud-optimized\",\"roles\":[\"data\"],\"title\":\"Relative azimuth angle of VI pixel\",\"raster:bands\":[{\"unit\":\"Degree\",\"scale\":0.01,\"data_type\":\"int16\",\"spatial_resolution\":250}]},\"250m_16_days_composite_day_of_the_year\":{\"href\":\"https://modiseuwest.blob.core.windows.net/modis-061-cogs/MOD13Q1/33/09/2023273/MOD13Q1.A2023273.h33v09.061.2023290142939_250m_16_days_composite_day_of_the_year.tif\",\"type\":\"image/tiff; application=geotiff; profile=cloud-optimized\",\"roles\":[\"data\"],\"title\":\"Day of year VI pixel\",\"raster:bands\":[{\"unit\":\"Julian Day\",\"data_type\":\"int16\",\"spatial_resolution\":250}]}},\"geometry\":{\"type\":\"Polygon\",\"coordinates\":[[[151.727899894851,-10.0131633224636],[149.4391832907,-0.000847962750389563],[160.02240812128,0.0150770994363422],[162.470464063139,-9.99996180674589],[151.727899894851,-10.0131633224636]]]},\"collection\":\"modis-13Q1-061\",\"properties\":{\"created\":\"2023-10-17T18:29:39Z\",\"updated\":\"2023-10-17T13:36:12.245000Z\",\"platform\":\"terra\",\"proj:wkt2\":\"PROJCS[\\\"unnamed\\\",GEOGCS[\\\"Unknown datum based upon the custom spheroid\\\",DATUM[\\\"Not specified (based on custom spheroid)\\\",SPHEROID[\\\"Custom spheroid\\\",6371007.181,0]],PRIMEM[\\\"Greenwich\\\",0],UNIT[\\\"degree\\\",0.0174532925199433,AUTHORITY[\\\"EPSG\\\",\\\"9122\\\"]]],PROJECTION[\\\"Sinusoidal\\\"],PARAMETER[\\\"longitude_of_center\\\",0],PARAMETER[\\\"false_easting\\\",0],PARAMETER[\\\"false_northing\\\",0],UNIT[\\\"Meter\\\",1],AXIS[\\\"Easting\\\",EAST],AXIS[\\\"Northing\\\",NORTH]]\",\"proj:shape\":[4800,4800],\"instruments\":[\"modis\"],\"end_datetime\":\"2023-10-15T23:59:59Z\",\"modis:tile-id\":\"51033009\",\"proj:geometry\":{\"type\":\"Polygon\",\"coordinates\":[[[17791208.314667,-1111950.519667],[17791208.314667,0.0],[16679257.795,0.0],[16679257.795,-1111950.519667],[17791208.314667,-1111950.519667]]]},\"proj:transform\":[231.65635826395862,0.0,16679257.795,0.0,-231.65635826395834,0.0],\"start_datetime\":\"2023-09-30T00:00:00Z\",\"modis:vertical-tile\":9,\"modis:horizontal-tile\":33},\"stac_version\":\"1.0.0\",\"stac_extensions\":[\"https://stac-extensions.github.io/projection/v1.1.0/schema.json\",\"https://stac-extensions.github.io/raster/v1.1.0/schema.json\",\"https://stac-extensions.github.io/classification/v1.0.0/schema.json\"]}]}\n"
     ]
    }
   ],
   "source": [
    "from pypgstac.db import PgstacDB\n",
    "with PgstacDB(debug=True) as db:\n",
    "    print(db.search())\n"
   ]
  },
  {
   "cell_type": "code",
   "execution_count": null,
   "id": "d23e95d1",
   "metadata": {},
   "outputs": [],
   "source": []
  },
  {
   "cell_type": "markdown",
   "id": "411311b3",
   "metadata": {},
   "source": [
    "## Hydration\n",
    "PgSTAC uses a method to compress the data stored by an Item by using the \"item_assets\" attribute on the Item's Collection. When an Item is added, a 'diff' is created between the Assets of an Item and the \"item_assets\" on the Collection. Any duplicate data in the Item content that can be derived from the Collection is then stripped from the Item content as it is stored in PgSTAC. PgSTAC refers to this process as 'dehydration'.\n",
    "\n",
    "When a search is returned from PgSTAC, this information is then merged back into the Item pior to be returned. PgSTAC refersw to this process as 'hydration'.\n",
    "\n",
    "For Collections that have very large Assets, this can save a huge amount of disk space as well as the availability of memory in the Postgres instance. This process is, however, more CPU intensive. There is an option when returning a search that allows for the return of the dehydrated data. This can be done using the '{\"conf\":{\"nohydrate\":true}}' parameter as part of the search.\n",
    "\n",
    "Pypgstac has the ability to do shift this dehydration process away from the Database shifting the load to the application server and speeding things up, particularly under heavy load when multiple application server instances are able to process the results. At PgSTAC version 0.8, this process was sped up even further in pypgstac through implenting the dehydration in Rust. The default setting in STAC FastAPI is to use application side dehydration. "
   ]
  },
  {
   "cell_type": "code",
   "execution_count": 77,
   "id": "cb8dd0c4",
   "metadata": {},
   "outputs": [
    {
     "name": "stdout",
     "output_type": "stream",
     "text": [
      "\n"
     ]
    },
    {
     "data": {
      "text/plain": [
       "'SET'"
      ]
     },
     "metadata": {},
     "output_type": "display_data"
    },
    {
     "data": {
      "text/plain": [
       "{'href': 'https://modiseuwest.blob.core.windows.net/modis-061/MOD13Q1/35/10/2023273/MOD13Q1.A2023273.h35v10.061.2023290142559.hdf',\n",
       " 'type': 'application/x-hdf',\n",
       " 'roles': ['data'],\n",
       " 'title': 'Source data containing all bands'}"
      ]
     },
     "metadata": {},
     "output_type": "display_data"
    },
    {
     "data": {
      "text/plain": [
       "{'href': 'https://modiseuwest.blob.core.windows.net/modis-061/MOD13Q1/35/10/2023241/MOD13Q1.A2023241.h35v10.061.2023258000322.hdf'}"
      ]
     },
     "metadata": {},
     "output_type": "display_data"
    },
    {
     "data": {
      "text/plain": [
       "{'type': 'application/x-hdf',\n",
       " 'roles': ['data'],\n",
       " 'title': 'Source data containing all bands'}"
      ]
     },
     "metadata": {},
     "output_type": "display_data"
    }
   ],
   "source": [
    "%%psql -At\n",
    "SET CLIENT_MIN_MESSAGES TO WARNING;\n",
    "select search('{\"limit\":1}'::jsonb)->'features'->0->'assets'->'hdf';\n",
    "select content->'assets'->'hdf' from items limit 1;\n",
    "select content->'item_assets'->'hdf' from collections limit 1;\n"
   ]
  },
  {
   "cell_type": "code",
   "execution_count": 83,
   "id": "9fdc8897",
   "metadata": {},
   "outputs": [
    {
     "name": "stdout",
     "output_type": "stream",
     "text": [
      "psql:/dev/stdin:1: NOTICE:  SEARCH:TOKEN: <NULL>\n",
      "psql:/dev/stdin:1: NOTICE:  ***TOKEN: <NULL>\n",
      "psql:/dev/stdin:1: NOTICE:  FULL WHERE CLAUSE:  TRUE \n",
      "psql:/dev/stdin:1: NOTICE:  Time to get counts and build query 4.645\n",
      "psql:/dev/stdin:1: NOTICE:  Getting hydrated data.\n",
      "psql:/dev/stdin:1: NOTICE:  CACHE SET TO f\n",
      "psql:/dev/stdin:1: NOTICE:  Time to set hydration/formatting 0.748\n",
      "psql:/dev/stdin:1: NOTICE:  Getting chunks for  TRUE  datetime DESC, id DESC\n",
      "psql:/dev/stdin:1: NOTICE:  Running Query for 2023-01-01 00:00:00+00 to 2024-02-01 00:00:00+00. 3.428\n",
      "psql:/dev/stdin:1: NOTICE:  Returned 11/11 Rows From 2023-01-01 00:00:00+00 to 2024-02-01 00:00:00+00. 0 to go. Time: 1.022ms\n",
      "psql:/dev/stdin:1: NOTICE:  SEARCH_ROWS TOOK 4.779ms\n",
      "psql:/dev/stdin:1: NOTICE:  Time to fetch rows 85.787\n",
      "psql:/dev/stdin:1: NOTICE:  Query returned 11 records.\n",
      "psql:/dev/stdin:1: NOTICE:  HAS NEXT | modis-13Q1-061:MOD13Q1.A2023273.h33v09.061.2023290142939\n",
      "psql:/dev/stdin:1: NOTICE:  Time to get prev/next 0.949\n",
      "psql:/dev/stdin:1: NOTICE:  Time to build final json 0.785\n",
      "psql:/dev/stdin:1: NOTICE:  Total Time: 96.756\n",
      "psql:/dev/stdin:1: NOTICE:  RETURNING 10 records. NEXT: modis-13Q1-061:MOD13Q1.A2023273.h33v09.061.2023290142939. PREV: <NULL>\n",
      "\n"
     ]
    },
    {
     "data": {
      "text/plain": [
       "{'href': 'https://modiseuwest.blob.core.windows.net/modis-061/MOD13Q1/35/10/2023273/MOD13Q1.A2023273.h35v10.061.2023290142559.hdf',\n",
       " 'type': 'application/x-hdf',\n",
       " 'roles': ['data'],\n",
       " 'title': 'Source data containing all bands'}"
      ]
     },
     "metadata": {},
     "output_type": "display_data"
    }
   ],
   "source": [
    "%%psql -At\n",
    "select search()->'features'->0->'assets'->'hdf';\n"
   ]
  },
  {
   "cell_type": "code",
   "execution_count": 85,
   "id": "0649795d",
   "metadata": {},
   "outputs": [
    {
     "name": "stdout",
     "output_type": "stream",
     "text": [
      "psql:/dev/stdin:1: NOTICE:  SEARCH:TOKEN: <NULL>\n",
      "psql:/dev/stdin:1: NOTICE:  ***TOKEN: <NULL>\n",
      "psql:/dev/stdin:1: NOTICE:  FULL WHERE CLAUSE:  TRUE \n",
      "psql:/dev/stdin:1: NOTICE:  Time to get counts and build query 5.637\n",
      "psql:/dev/stdin:1: NOTICE:  Getting non-hydrated data.\n",
      "psql:/dev/stdin:1: NOTICE:  CACHE SET TO f\n",
      "psql:/dev/stdin:1: NOTICE:  Time to set hydration/formatting 0.541\n",
      "psql:/dev/stdin:1: NOTICE:  Getting chunks for  TRUE  datetime DESC, id DESC\n",
      "psql:/dev/stdin:1: NOTICE:  Running Query for 2023-01-01 00:00:00+00 to 2024-02-01 00:00:00+00. 7.025\n",
      "psql:/dev/stdin:1: NOTICE:  Returned 11/11 Rows From 2023-01-01 00:00:00+00 to 2024-02-01 00:00:00+00. 0 to go. Time: 3.812ms\n",
      "psql:/dev/stdin:1: NOTICE:  SEARCH_ROWS TOOK 12.09ms\n",
      "psql:/dev/stdin:1: NOTICE:  Time to fetch rows 48.106\n",
      "psql:/dev/stdin:1: NOTICE:  Query returned 11 records.\n",
      "psql:/dev/stdin:1: NOTICE:  HAS NEXT | modis-13Q1-061:MOD13Q1.A2023273.h33v09.061.2023290142939\n",
      "psql:/dev/stdin:1: NOTICE:  Time to get prev/next 3.386\n",
      "psql:/dev/stdin:1: NOTICE:  Time to build final json 3.428\n",
      "psql:/dev/stdin:1: NOTICE:  Total Time: 67.31\n",
      "psql:/dev/stdin:1: NOTICE:  RETURNING 10 records. NEXT: modis-13Q1-061:MOD13Q1.A2023273.h33v09.061.2023290142939. PREV: <NULL>\n",
      "\n"
     ]
    },
    {
     "data": {
      "text/plain": [
       "{'href': 'https://modiseuwest.blob.core.windows.net/modis-061/MOD13Q1/35/10/2023273/MOD13Q1.A2023273.h35v10.061.2023290142559.hdf'}"
      ]
     },
     "metadata": {},
     "output_type": "display_data"
    }
   ],
   "source": [
    "%%psql -At\n",
    "select search('{\"conf\":{\"nohydrate\":true}}'::jsonb)->'features'->0->'assets'->'hdf';\n"
   ]
  },
  {
   "cell_type": "code",
   "execution_count": null,
   "id": "7c789626",
   "metadata": {},
   "outputs": [],
   "source": []
  }
 ],
 "metadata": {
  "kernelspec": {
   "display_name": "Python 3 (ipykernel)",
   "language": "python",
   "name": "python3"
  },
  "language_info": {
   "codemirror_mode": {
    "name": "ipython",
    "version": 3
   },
   "file_extension": ".py",
   "mimetype": "text/x-python",
   "name": "python",
   "nbconvert_exporter": "python",
   "pygments_lexer": "ipython3",
   "version": "3.10.12"
  }
 },
 "nbformat": 4,
 "nbformat_minor": 5
}
