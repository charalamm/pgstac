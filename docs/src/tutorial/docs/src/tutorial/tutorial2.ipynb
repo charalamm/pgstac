{
 "cells": [
  {
   "cell_type": "markdown",
   "id": "c6109166-5398-4b4a-9ac6-99b2e53c783f",
   "metadata": {},
   "source": [
    "# PgSTAC Tutorial\n",
    "This tutorial is designed to run in the docker compose environment defined in the docker-compose.yml file at the root of the pgstac git repository. For instructions on installing Docker and Docker Compose, you can go to https://docs.docker.com/get-docker/. The instructions provided here use the newer Compose V2 `docker compose` rather than `docker-compose` now that Docker Compose is included as part of latest version of Docker.\n",
    "\n",
    "To get started with this tutorial you should already have checked out the pgstac repository from github using `git clone https://github.com/stac-utils/pgstac`\n",
    "\n",
    "To start the database, a STAC FastAPI instance, and the Jupyter Notebook for this tutorial: `docker compose up -d workshop`\n",
    "\n",
    "You can then start up the workshop by going to http://127.0.0.1:8889/notebooks/workshop.ipynb?token=pgstactoken\n"
   ]
  },
  {
   "cell_type": "markdown",
   "id": "471aeb2b-806f-4ffb-ae68-3f6edb4a4a8a",
   "metadata": {},
   "source": [
    "## IPython Magic\n",
    "\n",
    "This installs a \"magic\" command for the Jupyter Notebook that will allow us to run psql commands to help us explore the database.\n",
    "The `%psql` line magic is the same as running a command using psql in the terminal.\n",
    "The `%%psql` cell magic runs the rest of the cell as the stdin to psql."
   ]
  },
  {
   "cell_type": "code",
   "execution_count": 5,
   "id": "ba677f8f-90b1-4151-95ac-9b006c27be6a",
   "metadata": {},
   "outputs": [],
   "source": [
    "from IPython.core.magic import register_line_cell_magic\n",
    "from IPython.display import display, HTML\n",
    "import shlex\n",
    "from subprocess import Popen, PIPE\n",
    "\n",
    "@register_line_cell_magic\n",
    "def psql(line=None, cell=None):\n",
    "    args = [\"-X\"] + (shlex.split(line) or [\"-H\"])\n",
    "    if '-1' in args:\n",
    "        args += ['-v', 'ON_ERROR_STOP=1']\n",
    "    if cell:\n",
    "        args += ['-f', '/dev/stdin']\n",
    "    else:\n",
    "        cell = ''\n",
    "    r=Popen(['psql', *args], stdin=PIPE, stdout=PIPE, stderr=PIPE, text=True)\n",
    "    out, err = r.communicate(input=cell)\n",
    "\n",
    "    if \"-H\" in args:\n",
    "        print(err)\n",
    "        display(HTML(out))\n",
    "    else:\n",
    "        print(err)\n",
    "        print(out)"
   ]
  },
  {
   "cell_type": "markdown",
   "id": "4f96c2b8-567a-447d-b7e2-916babbea329",
   "metadata": {},
   "source": [
    "## Check the standard PostgreSQL environment variables \n",
    "Most tools that work with PostgreSQL use the standard environment variables that are used by all of the tools that come standard as part of PostgreSQL. The pypgstac python utility that comes with pgstac and is installable from pip."
   ]
  },
  {
   "cell_type": "code",
   "execution_count": 3,
   "id": "4ba6284d-b570-4b01-a3ef-4b9535038441",
   "metadata": {},
   "outputs": [
    {
     "name": "stdout",
     "output_type": "stream",
     "text": [
      "env: PGDATAGASE=pgstac\n",
      "env: PGHOST=pgstac\n",
      "env: PGPASSWORD=password\n",
      "env: PGUSER=adminrole\n"
     ]
    }
   ],
   "source": [
    "%env PGDATAGASE=pgstac\n",
    "%env PGHOST=pgstac\n",
    "%env PGPASSWORD=password\n",
    "%env PGUSER=adminrole"
   ]
  },
  {
   "cell_type": "markdown",
   "id": "612d0c8b-b5b3-4676-ac59-7fa198414a59",
   "metadata": {},
   "source": [
    "Check that we can login to the database. We will use a call out to the command line psql utility using the `-l` option to list all databases."
   ]
  },
  {
   "cell_type": "code",
   "execution_count": 6,
   "id": "b512a696-03d2-4f1d-a5b2-dd694fb853d8",
   "metadata": {},
   "outputs": [
    {
     "name": "stdout",
     "output_type": "stream",
     "text": [
      "\n"
     ]
    },
    {
     "data": {
      "text/html": [
       "<table border=\"1\">\n",
       "  <caption>List of databases</caption>\n",
       "  <tr>\n",
       "    <th align=\"center\">Name</th>\n",
       "    <th align=\"center\">Owner</th>\n",
       "    <th align=\"center\">Encoding</th>\n",
       "    <th align=\"center\">Collate</th>\n",
       "    <th align=\"center\">Ctype</th>\n",
       "    <th align=\"center\">Access privileges</th>\n",
       "  </tr>\n",
       "  <tr valign=\"top\">\n",
       "    <td align=\"left\">pgstac</td>\n",
       "    <td align=\"left\">adminrole</td>\n",
       "    <td align=\"left\">UTF8</td>\n",
       "    <td align=\"left\">en_US.utf8</td>\n",
       "    <td align=\"left\">en_US.utf8</td>\n",
       "    <td align=\"left\">&nbsp; </td>\n",
       "  </tr>\n",
       "  <tr valign=\"top\">\n",
       "    <td align=\"left\">postgres</td>\n",
       "    <td align=\"left\">adminrole</td>\n",
       "    <td align=\"left\">UTF8</td>\n",
       "    <td align=\"left\">en_US.utf8</td>\n",
       "    <td align=\"left\">en_US.utf8</td>\n",
       "    <td align=\"left\">&nbsp; </td>\n",
       "  </tr>\n",
       "  <tr valign=\"top\">\n",
       "    <td align=\"left\">template0</td>\n",
       "    <td align=\"left\">adminrole</td>\n",
       "    <td align=\"left\">UTF8</td>\n",
       "    <td align=\"left\">en_US.utf8</td>\n",
       "    <td align=\"left\">en_US.utf8</td>\n",
       "    <td align=\"left\">=c/adminrole<br />\n",
       "adminrole=CTc/adminrole</td>\n",
       "  </tr>\n",
       "  <tr valign=\"top\">\n",
       "    <td align=\"left\">template1</td>\n",
       "    <td align=\"left\">adminrole</td>\n",
       "    <td align=\"left\">UTF8</td>\n",
       "    <td align=\"left\">en_US.utf8</td>\n",
       "    <td align=\"left\">en_US.utf8</td>\n",
       "    <td align=\"left\">=c/adminrole<br />\n",
       "adminrole=CTc/adminrole</td>\n",
       "  </tr>\n",
       "  <tr valign=\"top\">\n",
       "    <td align=\"left\">template_postgis</td>\n",
       "    <td align=\"left\">adminrole</td>\n",
       "    <td align=\"left\">UTF8</td>\n",
       "    <td align=\"left\">en_US.utf8</td>\n",
       "    <td align=\"left\">en_US.utf8</td>\n",
       "    <td align=\"left\">&nbsp; </td>\n",
       "  </tr>\n",
       "</table>\n",
       "<p>(5 rows)<br />\n",
       "</p>\n"
      ],
      "text/plain": [
       "<IPython.core.display.HTML object>"
      ]
     },
     "metadata": {},
     "output_type": "display_data"
    }
   ],
   "source": [
    "%psql -H -l"
   ]
  },
  {
   "cell_type": "markdown",
   "id": "c4e76380-9548-47c5-90fa-324b352b6a43",
   "metadata": {},
   "source": [
    "This docker-compose.yml with this tutorial uses the postgis/postgis:15-3.4 docker image as the base Postgres. We will now install PgSTAC on the database using the command line `pypgstac migrate` tool."
   ]
  },
  {
   "cell_type": "code",
   "execution_count": 7,
   "id": "36303462-b46f-4a1c-b97b-eb96b719e4b1",
   "metadata": {},
   "outputs": [
    {
     "name": "stdout",
     "output_type": "stream",
     "text": [
      "Requirement already satisfied: pypgstac[psycopg] in /usr/local/lib/python3.9/site-packages (0.8.1)\n",
      "Requirement already satisfied: smart-open==6.3.* in /usr/local/lib/python3.9/site-packages (from pypgstac[psycopg]) (6.3.0)\n",
      "Requirement already satisfied: orjson>=3.5.2 in /usr/local/lib/python3.9/site-packages (from pypgstac[psycopg]) (3.9.9)\n",
      "Requirement already satisfied: python-dateutil==2.8.* in /usr/local/lib/python3.9/site-packages (from pypgstac[psycopg]) (2.8.2)\n",
      "Requirement already satisfied: fire==0.4.* in /usr/local/lib/python3.9/site-packages (from pypgstac[psycopg]) (0.4.0)\n",
      "Requirement already satisfied: plpygis==0.2.* in /usr/local/lib/python3.9/site-packages (from pypgstac[psycopg]) (0.2.1)\n",
      "Requirement already satisfied: pydantic~=2.0 in /usr/local/lib/python3.9/site-packages (from pypgstac[psycopg]) (2.4.2)\n",
      "Requirement already satisfied: pydantic_settings~=2.0 in /usr/local/lib/python3.9/site-packages (from pypgstac[psycopg]) (2.0.3)\n",
      "Requirement already satisfied: tenacity==8.1.* in /usr/local/lib/python3.9/site-packages (from pypgstac[psycopg]) (8.1.0)\n",
      "Requirement already satisfied: cachetools==5.3.* in /usr/local/lib/python3.9/site-packages (from pypgstac[psycopg]) (5.3.1)\n",
      "Requirement already satisfied: version-parser>=1.0.1 in /usr/local/lib/python3.9/site-packages (from pypgstac[psycopg]) (1.0.1)\n",
      "Requirement already satisfied: psycopg==3.1.* in /usr/local/lib/python3.9/site-packages (from psycopg[binary]==3.1.*; extra == \"psycopg\"->pypgstac[psycopg]) (3.1.12)\n",
      "Requirement already satisfied: psycopg-pool==3.1.* in /usr/local/lib/python3.9/site-packages (from pypgstac[psycopg]) (3.1.8)\n",
      "Requirement already satisfied: six in /usr/local/lib/python3.9/site-packages (from fire==0.4.*->pypgstac[psycopg]) (1.16.0)\n",
      "Requirement already satisfied: termcolor in /usr/local/lib/python3.9/site-packages (from fire==0.4.*->pypgstac[psycopg]) (2.3.0)\n",
      "Requirement already satisfied: typing-extensions>=4.1 in /usr/local/lib/python3.9/site-packages (from psycopg==3.1.*->psycopg[binary]==3.1.*; extra == \"psycopg\"->pypgstac[psycopg]) (4.8.0)\n",
      "Requirement already satisfied: psycopg-binary==3.1.12 in /usr/local/lib/python3.9/site-packages (from psycopg[binary]==3.1.*; extra == \"psycopg\"->pypgstac[psycopg]) (3.1.12)\n",
      "Requirement already satisfied: annotated-types>=0.4.0 in /usr/local/lib/python3.9/site-packages (from pydantic~=2.0->pypgstac[psycopg]) (0.6.0)\n",
      "Requirement already satisfied: pydantic-core==2.10.1 in /usr/local/lib/python3.9/site-packages (from pydantic~=2.0->pypgstac[psycopg]) (2.10.1)\n",
      "Requirement already satisfied: python-dotenv>=0.21.0 in /usr/local/lib/python3.9/site-packages (from pydantic_settings~=2.0->pypgstac[psycopg]) (1.0.0)\n",
      "\u001b[33mWARNING: There was an error checking the latest version of pip.\u001b[0m\u001b[33m\n",
      "\u001b[0m"
     ]
    }
   ],
   "source": [
    "!pip install --upgrade pypgstac[psycopg]"
   ]
  },
  {
   "cell_type": "code",
   "execution_count": 8,
   "id": "60447c3a-aa07-4624-8152-46772e8afd8d",
   "metadata": {},
   "outputs": [
    {
     "name": "stdout",
     "output_type": "stream",
     "text": [
      "DEBUG:pypgstac.db:PG VERSION: 15.4 (Debian 15.4-2.pgdg110+1).\n",
      "INFO:pypgstac.migrate:Migrating PGStac on PostgreSQL Version 15.4 (Debian 15.4-2.pgdg110+1)\n",
      "DEBUG:pypgstac.db:VERSION: 0.8.1\n",
      "INFO:pypgstac.migrate:Target database already at version: 0.8.1\n",
      "0.8.1\n"
     ]
    }
   ],
   "source": [
    "!pypgstac migrate 0.8.1 --debug"
   ]
  },
  {
   "cell_type": "markdown",
   "id": "1b3567b0-15b7-43ad-9531-9ee316059737",
   "metadata": {},
   "source": [
    "We can use the psql command line utility to login to our database now and to look around. Let's show what schemas are in the database. SQL Commands beginning with `\\` are meta commands in psql. In this case `\\dn` is asking to show all schemas (also called namespaces which explains the \"n\"). We can see that we have a \"public\" schema which is there by default in all Postgres instances as well as a \"pgstac\" schema that is owned by the \"pgstac_admin\" role - this schema as well as the pgstac_admin role were created by the `pypgstac migrate` tool."
   ]
  },
  {
   "cell_type": "code",
   "execution_count": 9,
   "id": "9ab81b25-da35-47b6-bccb-e2b9db64bac4",
   "metadata": {},
   "outputs": [
    {
     "name": "stdout",
     "output_type": "stream",
     "text": [
      "\n"
     ]
    },
    {
     "data": {
      "text/html": [
       "<table border=\"1\">\n",
       "  <caption>List of schemas</caption>\n",
       "  <tr>\n",
       "    <th align=\"center\">Name</th>\n",
       "    <th align=\"center\">Owner</th>\n",
       "  </tr>\n",
       "  <tr valign=\"top\">\n",
       "    <td align=\"left\">pgstac</td>\n",
       "    <td align=\"left\">pgstac_admin</td>\n",
       "  </tr>\n",
       "  <tr valign=\"top\">\n",
       "    <td align=\"left\">public</td>\n",
       "    <td align=\"left\">pg_database_owner</td>\n",
       "  </tr>\n",
       "  <tr valign=\"top\">\n",
       "    <td align=\"left\">tiger</td>\n",
       "    <td align=\"left\">adminrole</td>\n",
       "  </tr>\n",
       "  <tr valign=\"top\">\n",
       "    <td align=\"left\">tiger_data</td>\n",
       "    <td align=\"left\">adminrole</td>\n",
       "  </tr>\n",
       "  <tr valign=\"top\">\n",
       "    <td align=\"left\">topology</td>\n",
       "    <td align=\"left\">adminrole</td>\n",
       "  </tr>\n",
       "</table>\n",
       "<p>(5 rows)<br />\n",
       "</p>\n"
      ],
      "text/plain": [
       "<IPython.core.display.HTML object>"
      ]
     },
     "metadata": {},
     "output_type": "display_data"
    }
   ],
   "source": [
    "%%psql\n",
    "\\dn"
   ]
  },
  {
   "cell_type": "markdown",
   "id": "38217158-9051-4e4e-9777-72d4b6d7de9a",
   "metadata": {},
   "source": [
    "PostgreSQL, much like your shell or python, has a configurable path that it uses to find anything in the database. It is controlled by the \"SEARCH_PATH\" [setting](https://www.postgresql.org/docs/current/config-setting.html) in PostgreSQL. PostgreSQL will search each schema in the order defined by the \"SEARCH_PATH\" to find database objects (tables, functions, views, etc). By default, the \"SEARCH_PATH\" is set to search a schema with the same name as the currently logged in role (which is \"pgstac\" with the docker environment we are using) followed by the \"public\" schema."
   ]
  },
  {
   "cell_type": "code",
   "execution_count": 10,
   "id": "2ee0612d-9680-4ab0-8e73-93f85fe3f667",
   "metadata": {},
   "outputs": [
    {
     "name": "stdout",
     "output_type": "stream",
     "text": [
      "\n"
     ]
    },
    {
     "data": {
      "text/html": [
       "<table border=\"1\">\n",
       "  <tr>\n",
       "    <th align=\"center\">search_path</th>\n",
       "  </tr>\n",
       "  <tr valign=\"top\">\n",
       "    <td align=\"left\">pgstac, public</td>\n",
       "  </tr>\n",
       "</table>\n",
       "<p>(1 row)<br />\n",
       "</p>\n"
      ],
      "text/plain": [
       "<IPython.core.display.HTML object>"
      ]
     },
     "metadata": {},
     "output_type": "display_data"
    }
   ],
   "source": [
    "%%psql \n",
    "SHOW SEARCH_PATH;"
   ]
  },
  {
   "cell_type": "markdown",
   "id": "faf8ec4b-d984-4b1b-8cf9-2ad58244bf5d",
   "metadata": {},
   "source": [
    "Since we have installed PgSTAC into the \"pgstac\" schema, we need to make sure that \"pgstac\" is available in our envrionment. We can do this temporarily using the \"SET\" command in PostgreSQL `SET SEARCH_PATH TO pgstac, public;`. Or, we can modify the setting at the DATBASE or ROLE level. For this tutorial, we will set the default setting for \"SEARCH_PATH\" at the DATABASE level."
   ]
  },
  {
   "cell_type": "code",
   "execution_count": 11,
   "id": "956da7f8-291b-47fa-94b5-a55ffae81811",
   "metadata": {},
   "outputs": [
    {
     "name": "stdout",
     "output_type": "stream",
     "text": [
      "\n"
     ]
    },
    {
     "data": {
      "text/html": [
       "<p>ALTER DATABASE</p>\n",
       "<table border=\"1\">\n",
       "  <tr>\n",
       "    <th align=\"center\">search_path</th>\n",
       "  </tr>\n",
       "  <tr valign=\"top\">\n",
       "    <td align=\"left\">pgstac, public</td>\n",
       "  </tr>\n",
       "</table>\n",
       "<p>(1 row)<br />\n",
       "</p>\n"
      ],
      "text/plain": [
       "<IPython.core.display.HTML object>"
      ]
     },
     "metadata": {},
     "output_type": "display_data"
    }
   ],
   "source": [
    "%%psql\n",
    "ALTER DATABASE pgstac SET SEARCH_PATH TO pgstac,public;\n",
    "SHOW SEARCH_PATH;"
   ]
  },
  {
   "cell_type": "markdown",
   "id": "9e52ab28-8651-4dab-9ccc-ce6fa4400cf1",
   "metadata": {},
   "source": [
    "Now we can take a look at the two workhorse tables where all STAC collection and items are stored using our `\\d` meta command"
   ]
  },
  {
   "cell_type": "code",
   "execution_count": 12,
   "id": "03180601-388a-4e60-b71a-f3096087b978",
   "metadata": {
    "scrolled": true
   },
   "outputs": [
    {
     "name": "stdout",
     "output_type": "stream",
     "text": [
      "\n"
     ]
    },
    {
     "data": {
      "text/html": [
       "<table border=\"1\">\n",
       "  <caption>Table &quot;pgstac.collections&quot;</caption>\n",
       "  <tr>\n",
       "    <th align=\"center\">Column</th>\n",
       "    <th align=\"center\">Type</th>\n",
       "    <th align=\"center\">Collation</th>\n",
       "    <th align=\"center\">Nullable</th>\n",
       "    <th align=\"center\">Default</th>\n",
       "  </tr>\n",
       "  <tr valign=\"top\">\n",
       "    <td align=\"left\">key</td>\n",
       "    <td align=\"left\">bigint</td>\n",
       "    <td align=\"left\">&nbsp; </td>\n",
       "    <td align=\"left\">not null</td>\n",
       "    <td align=\"left\">generated always as identity</td>\n",
       "  </tr>\n",
       "  <tr valign=\"top\">\n",
       "    <td align=\"left\">id</td>\n",
       "    <td align=\"left\">text</td>\n",
       "    <td align=\"left\">&nbsp; </td>\n",
       "    <td align=\"left\">&nbsp; </td>\n",
       "    <td align=\"left\">generated always as (content -&gt;&gt; 'id'::text) stored</td>\n",
       "  </tr>\n",
       "  <tr valign=\"top\">\n",
       "    <td align=\"left\">content</td>\n",
       "    <td align=\"left\">jsonb</td>\n",
       "    <td align=\"left\">&nbsp; </td>\n",
       "    <td align=\"left\">not null</td>\n",
       "    <td align=\"left\">&nbsp; </td>\n",
       "  </tr>\n",
       "  <tr valign=\"top\">\n",
       "    <td align=\"left\">base_item</td>\n",
       "    <td align=\"left\">jsonb</td>\n",
       "    <td align=\"left\">&nbsp; </td>\n",
       "    <td align=\"left\">&nbsp; </td>\n",
       "    <td align=\"left\">generated always as (collection_base_item(content)) stored</td>\n",
       "  </tr>\n",
       "  <tr valign=\"top\">\n",
       "    <td align=\"left\">geometry</td>\n",
       "    <td align=\"left\">geometry</td>\n",
       "    <td align=\"left\">&nbsp; </td>\n",
       "    <td align=\"left\">&nbsp; </td>\n",
       "    <td align=\"left\">generated always as (collection_geom(content)) stored</td>\n",
       "  </tr>\n",
       "  <tr valign=\"top\">\n",
       "    <td align=\"left\">datetime</td>\n",
       "    <td align=\"left\">timestamp with time zone</td>\n",
       "    <td align=\"left\">&nbsp; </td>\n",
       "    <td align=\"left\">&nbsp; </td>\n",
       "    <td align=\"left\">generated always as (collection_datetime(content)) stored</td>\n",
       "  </tr>\n",
       "  <tr valign=\"top\">\n",
       "    <td align=\"left\">end_datetime</td>\n",
       "    <td align=\"left\">timestamp with time zone</td>\n",
       "    <td align=\"left\">&nbsp; </td>\n",
       "    <td align=\"left\">&nbsp; </td>\n",
       "    <td align=\"left\">generated always as (collection_enddatetime(content)) stored</td>\n",
       "  </tr>\n",
       "  <tr valign=\"top\">\n",
       "    <td align=\"left\">private</td>\n",
       "    <td align=\"left\">jsonb</td>\n",
       "    <td align=\"left\">&nbsp; </td>\n",
       "    <td align=\"left\">&nbsp; </td>\n",
       "    <td align=\"left\">&nbsp; </td>\n",
       "  </tr>\n",
       "  <tr valign=\"top\">\n",
       "    <td align=\"left\">partition_trunc</td>\n",
       "    <td align=\"left\">text</td>\n",
       "    <td align=\"left\">&nbsp; </td>\n",
       "    <td align=\"left\">&nbsp; </td>\n",
       "    <td align=\"left\">&nbsp; </td>\n",
       "  </tr>\n",
       "</table>\n",
       "<p>Indexes:<br />\n",
       "&nbsp;&nbsp;&nbsp;&nbsp;&quot;collections_pkey&quot; PRIMARY KEY, btree (key)<br />\n",
       "&nbsp;&nbsp;&nbsp;&nbsp;&quot;collections_id_key&quot; UNIQUE CONSTRAINT, btree (id)<br />\n",
       "Check constraints:<br />\n",
       "&nbsp;&nbsp;&nbsp;&nbsp;&quot;collections_partition_trunc_check&quot; CHECK (partition_trunc = ANY (ARRAY['year'::text, 'month'::text]))<br />\n",
       "Referenced by:<br />\n",
       "&nbsp;&nbsp;&nbsp;&nbsp;TABLE &quot;items&quot; CONSTRAINT &quot;items_collections_fk&quot; FOREIGN KEY (collection) REFERENCES collections(id) ON DELETE CASCADE DEFERRABLE<br />\n",
       "Triggers:<br />\n",
       "&nbsp;&nbsp;&nbsp;&nbsp;collection_delete_trigger BEFORE DELETE ON collections FOR EACH ROW EXECUTE FUNCTION collection_delete_trigger_func()<br />\n",
       "&nbsp;&nbsp;&nbsp;&nbsp;collections_trigger AFTER INSERT OR UPDATE ON collections FOR EACH ROW EXECUTE FUNCTION collections_trigger_func()<br />\n",
       "</p>\n"
      ],
      "text/plain": [
       "<IPython.core.display.HTML object>"
      ]
     },
     "metadata": {},
     "output_type": "display_data"
    }
   ],
   "source": [
    "%%psql\n",
    "\\d collections"
   ]
  },
  {
   "cell_type": "code",
   "execution_count": 13,
   "id": "f38ff1f5-71d4-42c7-957c-f02f85c91c4b",
   "metadata": {},
   "outputs": [
    {
     "name": "stdout",
     "output_type": "stream",
     "text": [
      "\n"
     ]
    },
    {
     "data": {
      "text/html": [
       "<table border=\"1\">\n",
       "  <caption>Partitioned table &quot;pgstac.items&quot;</caption>\n",
       "  <tr>\n",
       "    <th align=\"center\">Column</th>\n",
       "    <th align=\"center\">Type</th>\n",
       "    <th align=\"center\">Collation</th>\n",
       "    <th align=\"center\">Nullable</th>\n",
       "    <th align=\"center\">Default</th>\n",
       "  </tr>\n",
       "  <tr valign=\"top\">\n",
       "    <td align=\"left\">id</td>\n",
       "    <td align=\"left\">text</td>\n",
       "    <td align=\"left\">&nbsp; </td>\n",
       "    <td align=\"left\">not null</td>\n",
       "    <td align=\"left\">&nbsp; </td>\n",
       "  </tr>\n",
       "  <tr valign=\"top\">\n",
       "    <td align=\"left\">geometry</td>\n",
       "    <td align=\"left\">geometry</td>\n",
       "    <td align=\"left\">&nbsp; </td>\n",
       "    <td align=\"left\">not null</td>\n",
       "    <td align=\"left\">&nbsp; </td>\n",
       "  </tr>\n",
       "  <tr valign=\"top\">\n",
       "    <td align=\"left\">collection</td>\n",
       "    <td align=\"left\">text</td>\n",
       "    <td align=\"left\">&nbsp; </td>\n",
       "    <td align=\"left\">not null</td>\n",
       "    <td align=\"left\">&nbsp; </td>\n",
       "  </tr>\n",
       "  <tr valign=\"top\">\n",
       "    <td align=\"left\">datetime</td>\n",
       "    <td align=\"left\">timestamp with time zone</td>\n",
       "    <td align=\"left\">&nbsp; </td>\n",
       "    <td align=\"left\">not null</td>\n",
       "    <td align=\"left\">&nbsp; </td>\n",
       "  </tr>\n",
       "  <tr valign=\"top\">\n",
       "    <td align=\"left\">end_datetime</td>\n",
       "    <td align=\"left\">timestamp with time zone</td>\n",
       "    <td align=\"left\">&nbsp; </td>\n",
       "    <td align=\"left\">not null</td>\n",
       "    <td align=\"left\">&nbsp; </td>\n",
       "  </tr>\n",
       "  <tr valign=\"top\">\n",
       "    <td align=\"left\">content</td>\n",
       "    <td align=\"left\">jsonb</td>\n",
       "    <td align=\"left\">&nbsp; </td>\n",
       "    <td align=\"left\">not null</td>\n",
       "    <td align=\"left\">&nbsp; </td>\n",
       "  </tr>\n",
       "  <tr valign=\"top\">\n",
       "    <td align=\"left\">private</td>\n",
       "    <td align=\"left\">jsonb</td>\n",
       "    <td align=\"left\">&nbsp; </td>\n",
       "    <td align=\"left\">&nbsp; </td>\n",
       "    <td align=\"left\">&nbsp; </td>\n",
       "  </tr>\n",
       "</table>\n",
       "<p>Partition key: LIST (collection)<br />\n",
       "Indexes:<br />\n",
       "&nbsp;&nbsp;&nbsp;&nbsp;&quot;datetime_idx&quot; btree (datetime DESC, end_datetime)<br />\n",
       "&nbsp;&nbsp;&nbsp;&nbsp;&quot;geometry_idx&quot; gist (geometry)<br />\n",
       "Foreign-key constraints:<br />\n",
       "&nbsp;&nbsp;&nbsp;&nbsp;&quot;items_collections_fk&quot; FOREIGN KEY (collection) REFERENCES collections(id) ON DELETE CASCADE DEFERRABLE<br />\n",
       "Statistics objects:<br />\n",
       "&nbsp;&nbsp;&nbsp;&nbsp;&quot;pgstac&quot;.&quot;datetime_stats&quot; (dependencies) ON datetime, end_datetime FROM items<br />\n",
       "Triggers:<br />\n",
       "&nbsp;&nbsp;&nbsp;&nbsp;items_after_delete_trigger AFTER UPDATE ON items REFERENCING NEW TABLE AS newdata FOR EACH STATEMENT EXECUTE FUNCTION partition_after_triggerfunc()<br />\n",
       "&nbsp;&nbsp;&nbsp;&nbsp;items_after_insert_trigger AFTER INSERT ON items REFERENCING NEW TABLE AS newdata FOR EACH STATEMENT EXECUTE FUNCTION partition_after_triggerfunc()<br />\n",
       "&nbsp;&nbsp;&nbsp;&nbsp;items_after_update_trigger AFTER DELETE ON items REFERENCING OLD TABLE AS newdata FOR EACH STATEMENT EXECUTE FUNCTION partition_after_triggerfunc()<br />\n",
       "Number of partitions: 0<br />\n",
       "</p>\n"
      ],
      "text/plain": [
       "<IPython.core.display.HTML object>"
      ]
     },
     "metadata": {},
     "output_type": "display_data"
    }
   ],
   "source": [
    "%%psql\n",
    "\\d items"
   ]
  },
  {
   "cell_type": "markdown",
   "id": "41ef7dd6-8f23-45c9-80e8-646773aa0861",
   "metadata": {},
   "source": [
    "## Configuring Postgres Specific Settings\n",
    "There are many other settings that can be set at the SYSTEM, DATABASE, ROLE, or SESSION level. If something is set at multiple levels, the most specific level would win, so even though we have set the SEARCH_PATH at the DATABASE level, we could override it in a SESSION by using `SET SEARCH_PATH TO ...`.\n",
    "\n",
    "Out of the box as well as on most hosted services, the default PostgreSQL configuration is extremely conservative and should be adjusted. There is *NO* one-size-fits-all set of settings even for a given database host instance size. PgSTAC comes with a function that can help to determine what a good starting point may be for some of the most important settings. Fine tuning a database can be an entire career though, so it is important to undestand some of the factors where you may want to adjust these settings. The function takes a single argument which is the memory size of the instance."
   ]
  },
  {
   "cell_type": "code",
   "execution_count": 14,
   "id": "96afe3ea-ed7a-4906-af8d-de757d4f6fe9",
   "metadata": {},
   "outputs": [
    {
     "name": "stdout",
     "output_type": "stream",
     "text": [
      "psql:/dev/stdin:1: WARNING:  effective_cache_size of 4096 MB is set low for a system with 16 GB. Recomended value between 8192 MB and 12 GB\n",
      "psql:/dev/stdin:1: WARNING:  shared_buffers of 128 MB is set low for a system with 16 GB. Recomended value between 3277 MB and 4915 MB\n",
      "psql:/dev/stdin:1: WARNING:  maintenance_work_mem of 64 MB is set low for shared_buffers of 4915 MB. Recomended value between 983 MB and 1475 MB\n",
      "psql:/dev/stdin:1: WARNING:  work_mem setting of 4096 kB is set low for 100 max_connections you may consider raising work_mem to 49 MB or increasing max_connections to 1228\n",
      "psql:/dev/stdin:1: WARNING:  random_page_cost (4) /seq_page_cost (1) should be set to 1.1 for SSD. Change random_page_cost to 1.1\n",
      "psql:/dev/stdin:1: WARNING:  pgstac makes heavy use of temp tables, consider raising temp_buffers from 8192 kB to 307 MB\n",
      "psql:/dev/stdin:1: NOTICE:  VALUES FOR PGSTAC VARIABLES\n",
      "psql:/dev/stdin:1: NOTICE:  These can be set either as GUC system variables or by setting in the pgstac_settings table.\n",
      "psql:/dev/stdin:1: NOTICE:  context is set to off from the pgstac_settings table\n",
      "psql:/dev/stdin:1: NOTICE:  context_estimated_count is set to 100000 from the pgstac_settings table\n",
      "psql:/dev/stdin:1: NOTICE:  context_estimated_cost is set to 100000 from the pgstac_settings table\n",
      "psql:/dev/stdin:1: NOTICE:  context_stats_ttl is set to 1 day from the pgstac_settings table\n",
      "psql:/dev/stdin:1: NOTICE:  default_filter_lang is set to cql2-json from the pgstac_settings table\n",
      "psql:/dev/stdin:1: NOTICE:  additional_properties is set to true from the pgstac_settings table\n",
      "psql:/dev/stdin:1: NOTICE:  use_queue is set to false from the pgstac_settings table\n",
      "psql:/dev/stdin:1: NOTICE:  queue_timeout is set to 10 minutes from the pgstac_settings table\n",
      "psql:/dev/stdin:1: NOTICE:  update_collection_extent is set to false from the pgstac_settings table\n",
      "psql:/dev/stdin:1: NOTICE:  format_cache is set to false from the pgstac_settings table\n",
      "psql:/dev/stdin:1: NOTICE:  Consider intalling pg_cron which can be used to automate tasks\n",
      "psql:/dev/stdin:1: NOTICE:  Consider installing the pgstattuple extension which can be used to help maintain tables and indexes.\n",
      "psql:/dev/stdin:1: NOTICE:  Consider installing the pg_stat_statements extension which is very helpful for tracking the types of queries on the system\n",
      "\n"
     ]
    },
    {
     "data": {
      "text/html": [
       "<table border=\"1\">\n",
       "  <tr>\n",
       "    <th align=\"center\">check_pgstac_settings</th>\n",
       "  </tr>\n",
       "  <tr valign=\"top\">\n",
       "    <td align=\"left\">&nbsp; </td>\n",
       "  </tr>\n",
       "</table>\n",
       "<p>(1 row)<br />\n",
       "</p>\n"
      ],
      "text/plain": [
       "<IPython.core.display.HTML object>"
      ]
     },
     "metadata": {},
     "output_type": "display_data"
    }
   ],
   "source": [
    "%%psql\n",
    "SELECT check_pgstac_settings('16GB');"
   ]
  },
  {
   "cell_type": "markdown",
   "id": "cc4aabdd-51c2-4200-86ff-4b2eaf32a1b0",
   "metadata": {},
   "source": [
    "### Important Settings That You Should Always Review\n",
    "\n",
    "#### [effective_cache_size](http://www.postgresql.org/docs/current/static/runtime-config-resource.html#GUC-SHARED-BUFFERS)\n",
    "This is the amount of memory that is estimated to be left on the system for the OS and all other processes. This is generally 1/2 to 3/4 of the total system memory.\n",
    "\n",
    "#### [shared_buffers](http://www.postgresql.org/docs/current/static/runtime-config-resource.html#GUC-SHARED-BUFFERS)\n",
    "This setting is used to tell the database how much memory is available to dedicate to PostgreSQL for caching data. General rule-of-thumb is to set this to 1/4 of the total system memory.\n",
    "\n",
    "#### [work_mem](http://www.postgresql.org/docs/current/static/runtime-config-resource.html#GUC-WORK-MEM) and [max_connections](http://www.postgresql.org/docs/current/static/runtime-config-connection.html#GUC-MAX-CONNECTIONS)\n",
    "This is the memory that is allowed to be used per sort operation per connection for things like sorting and complex queries. This setting will really vary with the use of the database and the number of max connections that are needed in the database. In general `max_connections * work_mem` should be less than the setting for `shared_buffers`. If you have individual queries that you know will be doing larger sorts, the `work_mem` setting can be set at run time: `SET work_mem TO '40MB';`\n",
    "\n",
    "#### [maintenance_work_mem](http://www.postgresql.org/docs/current/static/runtime-config-resource.html#GUC-MAINTENANCE-WORK-MEM)\n",
    "This is the amount of memory that is made available for operations such as Vacuuming the database and Creating Indexes. This memory will only be used once at a given time, so it is OK to set this significantly higher than work_mem. 1/4 of the `shared_buffers` is a reasonable place to set this.\n",
    "\n",
    "#### [seq_page_cost](http://www.postgresql.org/docs/current/static/runtime-config-query.html#GUC-SEQUENTIAL-PAGE-COST) and [random_page_cost](https://www.postgresql.org/docs/current/runtime-config-query.html#GUC-RANDOM-PAGE-COST)\n",
    "These two variables are interpreted together and it is the ratio of `random_page_cost / seq_page_cost` that really matters. Generally, `seq_page_cost` should be left at the default of 1 and random_page_cost should be changed to reflect the nature of the underlying storage. The default for `random_page_cost` is set to 4 which is appropriate for Spinning Hard Disk Drives. For use with Solid State Drives (which is almost always what a modern hosted platform such as RDS uses), this should be set to 1.1. Having `random_page_cost` set too high can lead to wayyyy slower queries as the PostgreSQL query planner will tend to prefer sequential scans over index scans for many queries.\n",
    "\n",
    "#### [temp_buffers](https://www.postgresql.org/docs/current/runtime-config-resource.html#GUC_TEMP_BUFFERS)\n",
    "If using Temporary Tables, increasing this setting can help to avoid spilling to disk. "
   ]
  },
  {
   "cell_type": "code",
   "execution_count": 15,
   "id": "39a0e696-1d62-4568-823c-82eb6dae8745",
   "metadata": {},
   "outputs": [
    {
     "name": "stdout",
     "output_type": "stream",
     "text": [
      "\n"
     ]
    },
    {
     "data": {
      "text/html": [
       "<p>ALTER SYSTEM</p>\n",
       "<p>ALTER SYSTEM</p>\n",
       "<p>ALTER SYSTEM</p>\n",
       "<p>ALTER SYSTEM</p>\n",
       "<p>ALTER SYSTEM</p>\n",
       "<p>ALTER SYSTEM</p>\n",
       "<p>ALTER SYSTEM</p>\n",
       "<table border=\"1\">\n",
       "  <tr>\n",
       "    <th align=\"center\">pg_reload_conf</th>\n",
       "  </tr>\n",
       "  <tr valign=\"top\">\n",
       "    <td align=\"left\">t</td>\n",
       "  </tr>\n",
       "</table>\n",
       "<p>(1 row)<br />\n",
       "</p>\n"
      ],
      "text/plain": [
       "<IPython.core.display.HTML object>"
      ]
     },
     "metadata": {},
     "output_type": "display_data"
    }
   ],
   "source": [
    "%%psql\n",
    "ALTER SYSTEM SET EFFECTIVE_CACHE_SIZE TO '12GB';\n",
    "ALTER SYSTEM SET SHARED_BUFFERS TO '4GB';\n",
    "ALTER SYSTEM SET WORK_MEM TO '128MB';\n",
    "ALTER SYSTEM SET MAINTENANCE_WORK_MEM TO '512MB';\n",
    "ALTER SYSTEM SET MAX_CONNECTIONS TO 20;\n",
    "ALTER SYSTEM SET RANDOM_PAGE_COST TO 1.1;\n",
    "ALTER SYSTEM SET TEMP_BUFFERS TO '512MB';\n",
    "SELECT pg_reload_conf();\n",
    "\n",
    "\n"
   ]
  },
  {
   "cell_type": "markdown",
   "id": "173af9a5-4ab2-4d8c-9b46-10ca9dcc155e",
   "metadata": {},
   "source": [
    "Note that these settings could also be set in the postgresql.conf settings file on the database server or using the configuration editing tools provided by most Database as a Service providers. "
   ]
  },
  {
   "cell_type": "markdown",
   "id": "c29b2f22-e232-480f-8a98-523fc7dd7810",
   "metadata": {},
   "source": [
    "## PgSTAC Roles\n",
    "PgSTAC installs three roles with different limitations.\n",
    "- \"pgstac_admin\" is the owner of the pgstac schema and all items in the schema. This role has the ability to use or modify anything in pgstac and should be used sparingly.\n",
    "- \"pgstac_ingest\" has read/write permissions to create items and collections in PgSTAC, but not to modify any of the PgSTAC utilities. This role should be used when you need access to ingest or modify data in the PgSTAC Catalog.\n",
    "- \"pgstac_read\" is the primary role that should be used when accessing PgSTAC when not writing any data. It is not, however, a strictly read-only role as there are still cache and statistics tables which the role will write to behind the scenes.\n",
    "\n",
    "### Assuming a role\n",
    "The role that we are using so far is an administrative or root user of the database. While you need to use a role with sufficient priviliges to create a schema, you should never use this role when accessing PostgreSQL for working with PgSTAC. The PgSTAC roles are not set up by default to be able to login to the database, but we can use Role Inheritance to be able to assign another role with all the privileges of one of hte PgSTAC roles.\n",
    "\n",
    "Best practice would be to create a role that is used for ingest or transactional tasks and one that is used when just reading STAC Items and Collections."
   ]
  },
  {
   "cell_type": "code",
   "execution_count": 16,
   "id": "c3693b99-b612-4a1b-987b-f471964d49ec",
   "metadata": {},
   "outputs": [
    {
     "name": "stdout",
     "output_type": "stream",
     "text": [
      "\n"
     ]
    },
    {
     "data": {
      "text/html": [
       "<p>CREATE ROLE</p>\n",
       "<p>CREATE ROLE</p>\n"
      ],
      "text/plain": [
       "<IPython.core.display.HTML object>"
      ]
     },
     "metadata": {},
     "output_type": "display_data"
    }
   ],
   "source": [
    "%%psql\n",
    "CREATE ROLE stacrw WITH LOGIN PASSWORD 'password' IN ROLE pgstac_ingest;\n",
    "CREATE ROLE stacr WITH LOGIN PASSWORD 'password' IN ROLE pgstac_read;"
   ]
  },
  {
   "cell_type": "markdown",
   "id": "4e05bdac-e282-4c38-b8b0-67070366196c",
   "metadata": {},
   "source": [
    "For the rest of the tutorial, we will not be needing to perform any administrative tasks, so we can change our environment variables so that we login as the \"stacrw\" role."
   ]
  },
  {
   "cell_type": "code",
   "execution_count": 17,
   "id": "b415cf59-c014-4cd5-84aa-6c498665d58c",
   "metadata": {},
   "outputs": [
    {
     "name": "stdout",
     "output_type": "stream",
     "text": [
      "env: PGUSER=stacrw\n",
      "env: PGPASSWORD=password\n"
     ]
    }
   ],
   "source": [
    "%env PGUSER=stacrw\n",
    "%env PGPASSWORD=password"
   ]
  },
  {
   "cell_type": "code",
   "execution_count": 18,
   "id": "b9692e46-be9b-4aaf-b843-fc305b3c1779",
   "metadata": {},
   "outputs": [
    {
     "name": "stdout",
     "output_type": "stream",
     "text": [
      "\n"
     ]
    },
    {
     "data": {
      "text/html": [
       "<table border=\"1\">\n",
       "  <tr>\n",
       "    <th align=\"center\">current_user</th>\n",
       "  </tr>\n",
       "  <tr valign=\"top\">\n",
       "    <td align=\"left\">stacrw</td>\n",
       "  </tr>\n",
       "</table>\n",
       "<p>(1 row)<br />\n",
       "</p>\n",
       "<table border=\"1\">\n",
       "  <tr>\n",
       "    <th align=\"center\">search_path</th>\n",
       "  </tr>\n",
       "  <tr valign=\"top\">\n",
       "    <td align=\"left\">pgstac, public</td>\n",
       "  </tr>\n",
       "</table>\n",
       "<p>(1 row)<br />\n",
       "</p>\n"
      ],
      "text/plain": [
       "<IPython.core.display.HTML object>"
      ]
     },
     "metadata": {},
     "output_type": "display_data"
    }
   ],
   "source": [
    "%%psql\n",
    "SELECT current_user;\n",
    "SHOW SEARCH_PATH;"
   ]
  },
  {
   "cell_type": "markdown",
   "id": "b572bed8-6e2a-4cab-98df-d81ab4f34038",
   "metadata": {},
   "source": [
    "## PgSTAC Data Layout\n",
    "PgSTAC does not directly store STAC Items and Collections as JSON. Rather it pulls some of the information out into properly typed separate columns that can more effectively be used for searching through STAC Items. This data layout is intended to be a back-end implementation and particularly for the \"items\" table these tables should not be used directly for SELECT/INSERT/DELETE."
   ]
  },
  {
   "cell_type": "markdown",
   "id": "ee81d500-3fcb-44e4-8830-355d82168d8f",
   "metadata": {},
   "source": [
    "### Items Table\n",
    "If we look a little closer at the \"items\" table, we can see that it is actually a parent partition. No data is actually stored directly in the items table, but rather in children partitions that are created through the use of triggers on the \"collections\" table. Right now, you can see that we have a foreign key constraint on the \"collections\" table (so, you must have a collection added to PgSTAC before adding any \"items\"). As of now, there are no partitions as we have not added any data yet.\n",
    "\n",
    "#### Items Table Layout\n",
    "- id: This is the id from the original JSON Item\n",
    "- geometry: The geojson from the original JSON item has been extracted and saved as a PostGIS Geometry column.\n",
    "- collection: The Collection id which is set as a Foreign Key Constraint\n",
    "- datetime: If the Item JSON has properties.datetime set, this comes from that, otherwise it comes from properties.start_datetime\n",
    "- end_datetime: If the Item JSON has properties.datetime set, this comes from that, otherwise it comes from properties.end_datetime\n",
    "- content: This is the remainder of the original JSON Item after removing the geometry, id, and collection as well as well as using a form of compression based on the common item_assets stored with a collection. This is discussed further under \"Hydration\".\n",
    "- private: This field is currently not used directly by PgSTAC, but it is to provide a place where additional private metadata about an item that is not part of the public STAC record (ie access constraints, etc) could be stored.\n",
    "\n",
    "Note that we always have a date range that we can use between datetime and end_datetime (where in the case of a \"datetime\" in the original JSON represents an instant in time."
   ]
  },
  {
   "cell_type": "code",
   "execution_count": 19,
   "id": "02afa5b9-2c85-49dd-8ae5-4133dbc57fcf",
   "metadata": {},
   "outputs": [
    {
     "name": "stdout",
     "output_type": "stream",
     "text": [
      "\n"
     ]
    },
    {
     "data": {
      "text/html": [
       "<table border=\"1\">\n",
       "  <caption>Partitioned table &quot;pgstac.items&quot;</caption>\n",
       "  <tr>\n",
       "    <th align=\"center\">Column</th>\n",
       "    <th align=\"center\">Type</th>\n",
       "    <th align=\"center\">Collation</th>\n",
       "    <th align=\"center\">Nullable</th>\n",
       "    <th align=\"center\">Default</th>\n",
       "    <th align=\"center\">Storage</th>\n",
       "    <th align=\"center\">Stats target</th>\n",
       "    <th align=\"center\">Description</th>\n",
       "  </tr>\n",
       "  <tr valign=\"top\">\n",
       "    <td align=\"left\">id</td>\n",
       "    <td align=\"left\">text</td>\n",
       "    <td align=\"left\">&nbsp; </td>\n",
       "    <td align=\"left\">not null</td>\n",
       "    <td align=\"left\">&nbsp; </td>\n",
       "    <td align=\"left\">extended</td>\n",
       "    <td align=\"left\">&nbsp; </td>\n",
       "    <td align=\"left\">&nbsp; </td>\n",
       "  </tr>\n",
       "  <tr valign=\"top\">\n",
       "    <td align=\"left\">geometry</td>\n",
       "    <td align=\"left\">geometry</td>\n",
       "    <td align=\"left\">&nbsp; </td>\n",
       "    <td align=\"left\">not null</td>\n",
       "    <td align=\"left\">&nbsp; </td>\n",
       "    <td align=\"left\">main</td>\n",
       "    <td align=\"left\">&nbsp; </td>\n",
       "    <td align=\"left\">&nbsp; </td>\n",
       "  </tr>\n",
       "  <tr valign=\"top\">\n",
       "    <td align=\"left\">collection</td>\n",
       "    <td align=\"left\">text</td>\n",
       "    <td align=\"left\">&nbsp; </td>\n",
       "    <td align=\"left\">not null</td>\n",
       "    <td align=\"left\">&nbsp; </td>\n",
       "    <td align=\"left\">extended</td>\n",
       "    <td align=\"left\">&nbsp; </td>\n",
       "    <td align=\"left\">&nbsp; </td>\n",
       "  </tr>\n",
       "  <tr valign=\"top\">\n",
       "    <td align=\"left\">datetime</td>\n",
       "    <td align=\"left\">timestamp with time zone</td>\n",
       "    <td align=\"left\">&nbsp; </td>\n",
       "    <td align=\"left\">not null</td>\n",
       "    <td align=\"left\">&nbsp; </td>\n",
       "    <td align=\"left\">plain</td>\n",
       "    <td align=\"left\">&nbsp; </td>\n",
       "    <td align=\"left\">&nbsp; </td>\n",
       "  </tr>\n",
       "  <tr valign=\"top\">\n",
       "    <td align=\"left\">end_datetime</td>\n",
       "    <td align=\"left\">timestamp with time zone</td>\n",
       "    <td align=\"left\">&nbsp; </td>\n",
       "    <td align=\"left\">not null</td>\n",
       "    <td align=\"left\">&nbsp; </td>\n",
       "    <td align=\"left\">plain</td>\n",
       "    <td align=\"left\">&nbsp; </td>\n",
       "    <td align=\"left\">&nbsp; </td>\n",
       "  </tr>\n",
       "  <tr valign=\"top\">\n",
       "    <td align=\"left\">content</td>\n",
       "    <td align=\"left\">jsonb</td>\n",
       "    <td align=\"left\">&nbsp; </td>\n",
       "    <td align=\"left\">not null</td>\n",
       "    <td align=\"left\">&nbsp; </td>\n",
       "    <td align=\"left\">extended</td>\n",
       "    <td align=\"left\">&nbsp; </td>\n",
       "    <td align=\"left\">&nbsp; </td>\n",
       "  </tr>\n",
       "  <tr valign=\"top\">\n",
       "    <td align=\"left\">private</td>\n",
       "    <td align=\"left\">jsonb</td>\n",
       "    <td align=\"left\">&nbsp; </td>\n",
       "    <td align=\"left\">&nbsp; </td>\n",
       "    <td align=\"left\">&nbsp; </td>\n",
       "    <td align=\"left\">extended</td>\n",
       "    <td align=\"left\">&nbsp; </td>\n",
       "    <td align=\"left\">&nbsp; </td>\n",
       "  </tr>\n",
       "</table>\n",
       "<p>Partition key: LIST (collection)<br />\n",
       "Indexes:<br />\n",
       "&nbsp;&nbsp;&nbsp;&nbsp;&quot;datetime_idx&quot; btree (datetime DESC, end_datetime)<br />\n",
       "&nbsp;&nbsp;&nbsp;&nbsp;&quot;geometry_idx&quot; gist (geometry)<br />\n",
       "Foreign-key constraints:<br />\n",
       "&nbsp;&nbsp;&nbsp;&nbsp;&quot;items_collections_fk&quot; FOREIGN KEY (collection) REFERENCES collections(id) ON DELETE CASCADE DEFERRABLE<br />\n",
       "Statistics objects:<br />\n",
       "&nbsp;&nbsp;&nbsp;&nbsp;&quot;pgstac&quot;.&quot;datetime_stats&quot; (dependencies) ON datetime, end_datetime FROM items<br />\n",
       "Triggers:<br />\n",
       "&nbsp;&nbsp;&nbsp;&nbsp;items_after_delete_trigger AFTER UPDATE ON items REFERENCING NEW TABLE AS newdata FOR EACH STATEMENT EXECUTE FUNCTION partition_after_triggerfunc()<br />\n",
       "&nbsp;&nbsp;&nbsp;&nbsp;items_after_insert_trigger AFTER INSERT ON items REFERENCING NEW TABLE AS newdata FOR EACH STATEMENT EXECUTE FUNCTION partition_after_triggerfunc()<br />\n",
       "&nbsp;&nbsp;&nbsp;&nbsp;items_after_update_trigger AFTER DELETE ON items REFERENCING OLD TABLE AS newdata FOR EACH STATEMENT EXECUTE FUNCTION partition_after_triggerfunc()<br />\n",
       "Number of partitions: 0<br />\n",
       "</p>\n"
      ],
      "text/plain": [
       "<IPython.core.display.HTML object>"
      ]
     },
     "metadata": {},
     "output_type": "display_data"
    }
   ],
   "source": [
    "%%psql\n",
    "\\d+ items"
   ]
  },
  {
   "cell_type": "markdown",
   "id": "a6b1ae10-de08-4e6f-8235-ad85c3422b5e",
   "metadata": {},
   "source": [
    "## Collections Table\n",
    "You'll notice that the \"collections\" table is layed out fairly similary to the Items table. These common columns help enable using the same tooling for search for both Items and Collections. As the \"collections\" table is generally much much smaller than the \"items\" table, there are fewer concerns for scalability and this table is not partitioned as is the \"items\" table.\n",
    "\n",
    "### Collections Table Layout\n",
    "- key: This is an integer primary key that is generated upon creation\n",
    "- id: This is the id from the original JSON Collection\n",
    "- geometry: The total bounds from the Collection extent.spatial_extent has been extracted and saved as a PostGIS Geometry column.\n",
    "- datetime: The start of the Collection extent.temporal_extent\n",
    "- end_datetime: The end of the Collection extent.temporal_extent\n",
    "- content: The full original Collection JSON\n",
    "- base_item: This is used internally for \"Hydration\" process used to help compress Item records\n",
    "- private: This field is currently not used directly by PgSTAC, but it is to provide a place where additional private metadata about an item that is not part of the public STAC record (ie access constraints, etc) could be stored.\n",
    "- partition_trunc: This is used to control how finely partitioned the Items for a Collection are in the \"items\" table."
   ]
  },
  {
   "cell_type": "code",
   "execution_count": 20,
   "id": "3e5aa1f6-8fee-41ee-abe9-d32cf04eacaf",
   "metadata": {},
   "outputs": [
    {
     "name": "stdout",
     "output_type": "stream",
     "text": [
      "\n"
     ]
    },
    {
     "data": {
      "text/html": [
       "<table border=\"1\">\n",
       "  <caption>Table &quot;pgstac.collections&quot;</caption>\n",
       "  <tr>\n",
       "    <th align=\"center\">Column</th>\n",
       "    <th align=\"center\">Type</th>\n",
       "    <th align=\"center\">Collation</th>\n",
       "    <th align=\"center\">Nullable</th>\n",
       "    <th align=\"center\">Default</th>\n",
       "  </tr>\n",
       "  <tr valign=\"top\">\n",
       "    <td align=\"left\">key</td>\n",
       "    <td align=\"left\">bigint</td>\n",
       "    <td align=\"left\">&nbsp; </td>\n",
       "    <td align=\"left\">not null</td>\n",
       "    <td align=\"left\">generated always as identity</td>\n",
       "  </tr>\n",
       "  <tr valign=\"top\">\n",
       "    <td align=\"left\">id</td>\n",
       "    <td align=\"left\">text</td>\n",
       "    <td align=\"left\">&nbsp; </td>\n",
       "    <td align=\"left\">&nbsp; </td>\n",
       "    <td align=\"left\">generated always as (content -&gt;&gt; 'id'::text) stored</td>\n",
       "  </tr>\n",
       "  <tr valign=\"top\">\n",
       "    <td align=\"left\">content</td>\n",
       "    <td align=\"left\">jsonb</td>\n",
       "    <td align=\"left\">&nbsp; </td>\n",
       "    <td align=\"left\">not null</td>\n",
       "    <td align=\"left\">&nbsp; </td>\n",
       "  </tr>\n",
       "  <tr valign=\"top\">\n",
       "    <td align=\"left\">base_item</td>\n",
       "    <td align=\"left\">jsonb</td>\n",
       "    <td align=\"left\">&nbsp; </td>\n",
       "    <td align=\"left\">&nbsp; </td>\n",
       "    <td align=\"left\">generated always as (collection_base_item(content)) stored</td>\n",
       "  </tr>\n",
       "  <tr valign=\"top\">\n",
       "    <td align=\"left\">geometry</td>\n",
       "    <td align=\"left\">geometry</td>\n",
       "    <td align=\"left\">&nbsp; </td>\n",
       "    <td align=\"left\">&nbsp; </td>\n",
       "    <td align=\"left\">generated always as (collection_geom(content)) stored</td>\n",
       "  </tr>\n",
       "  <tr valign=\"top\">\n",
       "    <td align=\"left\">datetime</td>\n",
       "    <td align=\"left\">timestamp with time zone</td>\n",
       "    <td align=\"left\">&nbsp; </td>\n",
       "    <td align=\"left\">&nbsp; </td>\n",
       "    <td align=\"left\">generated always as (collection_datetime(content)) stored</td>\n",
       "  </tr>\n",
       "  <tr valign=\"top\">\n",
       "    <td align=\"left\">end_datetime</td>\n",
       "    <td align=\"left\">timestamp with time zone</td>\n",
       "    <td align=\"left\">&nbsp; </td>\n",
       "    <td align=\"left\">&nbsp; </td>\n",
       "    <td align=\"left\">generated always as (collection_enddatetime(content)) stored</td>\n",
       "  </tr>\n",
       "  <tr valign=\"top\">\n",
       "    <td align=\"left\">private</td>\n",
       "    <td align=\"left\">jsonb</td>\n",
       "    <td align=\"left\">&nbsp; </td>\n",
       "    <td align=\"left\">&nbsp; </td>\n",
       "    <td align=\"left\">&nbsp; </td>\n",
       "  </tr>\n",
       "  <tr valign=\"top\">\n",
       "    <td align=\"left\">partition_trunc</td>\n",
       "    <td align=\"left\">text</td>\n",
       "    <td align=\"left\">&nbsp; </td>\n",
       "    <td align=\"left\">&nbsp; </td>\n",
       "    <td align=\"left\">&nbsp; </td>\n",
       "  </tr>\n",
       "</table>\n",
       "<p>Indexes:<br />\n",
       "&nbsp;&nbsp;&nbsp;&nbsp;&quot;collections_pkey&quot; PRIMARY KEY, btree (key)<br />\n",
       "&nbsp;&nbsp;&nbsp;&nbsp;&quot;collections_id_key&quot; UNIQUE CONSTRAINT, btree (id)<br />\n",
       "Check constraints:<br />\n",
       "&nbsp;&nbsp;&nbsp;&nbsp;&quot;collections_partition_trunc_check&quot; CHECK (partition_trunc = ANY (ARRAY['year'::text, 'month'::text]))<br />\n",
       "Referenced by:<br />\n",
       "&nbsp;&nbsp;&nbsp;&nbsp;TABLE &quot;items&quot; CONSTRAINT &quot;items_collections_fk&quot; FOREIGN KEY (collection) REFERENCES collections(id) ON DELETE CASCADE DEFERRABLE<br />\n",
       "Triggers:<br />\n",
       "&nbsp;&nbsp;&nbsp;&nbsp;collection_delete_trigger BEFORE DELETE ON collections FOR EACH ROW EXECUTE FUNCTION collection_delete_trigger_func()<br />\n",
       "&nbsp;&nbsp;&nbsp;&nbsp;collections_trigger AFTER INSERT OR UPDATE ON collections FOR EACH ROW EXECUTE FUNCTION collections_trigger_func()<br />\n",
       "</p>\n"
      ],
      "text/plain": [
       "<IPython.core.display.HTML object>"
      ]
     },
     "metadata": {},
     "output_type": "display_data"
    }
   ],
   "source": [
    "%%psql\n",
    "\\d collections"
   ]
  },
  {
   "cell_type": "markdown",
   "id": "06c670f0-275e-45a1-adc5-ab3c781492af",
   "metadata": {},
   "source": [
    "\n",
    "- PgSTAC settings\n",
    "  - How to set\n",
    "    - GUC\n",
    "    - pgstac_settings\n",
    "    - search conf object\n",
    "  - context\n",
    "    - context_estimated_count\n",
    "    - context_estimated_cost\n",
    "    - context_stats_ttl\n",
    "  - additional_properties\n",
    "  - use_queue\n",
    "  - queue_timeout\n",
    "  - update_collection_extent\n",
    "- PgSTAC Roles\n",
    "  - pgstac_admin\n",
    "  - pgstac_ingest\n",
    "  - pgstac_read\n",
    "- Database Structure\n",
    "  - Partitions\n",
    "  - Triggers\n",
    "- Data Ingest\n",
    "  - pypgstac loader\n",
    "  - magic tables\n",
    "  - functions\n",
    "- Loading Data\n",
    "  - Collection Required\n",
    "  - Primary Key is id by partition\n",
    "  - Considerations of transactions, concurrency\n",
    "    - concurrency issues mostly when loading to same partition\n",
    "  - Partition Trunc Strategy\n",
    "    - Changing Partitions\n",
    "  - Query Queue\n",
    "  - Update Collection Extent\n",
    "  - Hydration\n",
    "- Partition Metadata\n",
    "- Search\n",
    "  - Chunked Search for Order by Datetime\n",
    "  - Context\n",
    "  - Queryables\n",
    "    - additional_properties\n",
    "    - wrappers\n",
    "    - indexing\n",
    "      - warning about too many indexes\n",
    "  - Filter / CQL2-JSON\n",
    "- STAC FastAPI\n",
    "- pgstac.rs etc "
   ]
  },
  {
   "cell_type": "code",
   "execution_count": 21,
   "id": "4cd605df-b181-47f0-aeb1-34a23efdb6b1",
   "metadata": {},
   "outputs": [
    {
     "name": "stdout",
     "output_type": "stream",
     "text": [
      "                                         Partitioned table \"pgstac.items\"\n",
      "    Column    |           Type           | Collation | Nullable | Default | Storage  | Stats target | Description \n",
      "--------------+--------------------------+-----------+----------+---------+----------+--------------+-------------\n",
      " id           | text                     |           | not null |         | extended |              | \n",
      " geometry     | geometry                 |           | not null |         | main     |              | \n",
      " collection   | text                     |           | not null |         | extended |              | \n",
      " datetime     | timestamp with time zone |           | not null |         | plain    |              | \n",
      " end_datetime | timestamp with time zone |           | not null |         | plain    |              | \n",
      " content      | jsonb                    |           | not null |         | extended |              | \n",
      " private      | jsonb                    |           |          |         | extended |              | \n",
      "Partition key: LIST (collection)\n",
      "Indexes:\n",
      "    \"datetime_idx\" btree (datetime DESC, end_datetime)\n",
      "    \"geometry_idx\" gist (geometry)\n",
      "Foreign-key constraints:\n",
      "    \"items_collections_fk\" FOREIGN KEY (collection) REFERENCES collections(id) ON DELETE CASCADE DEFERRABLE\n",
      "Statistics objects:\n",
      "    \"pgstac\".\"datetime_stats\" (dependencies) ON datetime, end_datetime FROM items\n",
      "Triggers:\n",
      "    items_after_delete_trigger AFTER UPDATE ON items REFERENCING NEW TABLE AS newdata FOR EACH STATEMENT EXECUTE FUNCTION partition_after_triggerfunc()\n",
      "    items_after_insert_trigger AFTER INSERT ON items REFERENCING NEW TABLE AS newdata FOR EACH STATEMENT EXECUTE FUNCTION partition_after_triggerfunc()\n",
      "    items_after_update_trigger AFTER DELETE ON items REFERENCING OLD TABLE AS newdata FOR EACH STATEMENT EXECUTE FUNCTION partition_after_triggerfunc()\n",
      "Number of partitions: 0\n",
      "\n"
     ]
    }
   ],
   "source": [
    "!psql -c '\\d+ items'"
   ]
  },
  {
   "cell_type": "code",
   "execution_count": 22,
   "id": "8dfdf749-4fa3-4e1e-a5fd-526aaaf125e7",
   "metadata": {},
   "outputs": [
    {
     "name": "stdout",
     "output_type": "stream",
     "text": [
      "env: PGDATABASE=postgis\n"
     ]
    }
   ],
   "source": [
    "%env PGDATABASE=postgis"
   ]
  },
  {
   "cell_type": "code",
   "execution_count": 23,
   "id": "2593a3f5-2f8b-4af6-ae1d-6e9a678c1cd7",
   "metadata": {},
   "outputs": [
    {
     "name": "stdout",
     "output_type": "stream",
     "text": [
      "psql: error: FATAL:  database \"postgis\" does not exist\n",
      "\n"
     ]
    },
    {
     "data": {
      "text/html": [],
      "text/plain": [
       "<IPython.core.display.HTML object>"
      ]
     },
     "metadata": {},
     "output_type": "display_data"
    }
   ],
   "source": [
    "%%psql -H\n",
    "SELECT check_pgstac_settings('8GB');"
   ]
  },
  {
   "cell_type": "code",
   "execution_count": 24,
   "id": "3725c8bb-aa68-42f8-83fc-aedc9bbb2594",
   "metadata": {},
   "outputs": [
    {
     "name": "stdout",
     "output_type": "stream",
     "text": [
      "\n"
     ]
    },
    {
     "data": {
      "text/html": [
       "<table border=\"1\">\n",
       "  <caption>List of databases</caption>\n",
       "  <tr>\n",
       "    <th align=\"center\">Name</th>\n",
       "    <th align=\"center\">Owner</th>\n",
       "    <th align=\"center\">Encoding</th>\n",
       "    <th align=\"center\">Collate</th>\n",
       "    <th align=\"center\">Ctype</th>\n",
       "    <th align=\"center\">Access privileges</th>\n",
       "  </tr>\n",
       "  <tr valign=\"top\">\n",
       "    <td align=\"left\">pgstac</td>\n",
       "    <td align=\"left\">adminrole</td>\n",
       "    <td align=\"left\">UTF8</td>\n",
       "    <td align=\"left\">en_US.utf8</td>\n",
       "    <td align=\"left\">en_US.utf8</td>\n",
       "    <td align=\"left\">&nbsp; </td>\n",
       "  </tr>\n",
       "  <tr valign=\"top\">\n",
       "    <td align=\"left\">postgres</td>\n",
       "    <td align=\"left\">adminrole</td>\n",
       "    <td align=\"left\">UTF8</td>\n",
       "    <td align=\"left\">en_US.utf8</td>\n",
       "    <td align=\"left\">en_US.utf8</td>\n",
       "    <td align=\"left\">&nbsp; </td>\n",
       "  </tr>\n",
       "  <tr valign=\"top\">\n",
       "    <td align=\"left\">template0</td>\n",
       "    <td align=\"left\">adminrole</td>\n",
       "    <td align=\"left\">UTF8</td>\n",
       "    <td align=\"left\">en_US.utf8</td>\n",
       "    <td align=\"left\">en_US.utf8</td>\n",
       "    <td align=\"left\">=c/adminrole<br />\n",
       "adminrole=CTc/adminrole</td>\n",
       "  </tr>\n",
       "  <tr valign=\"top\">\n",
       "    <td align=\"left\">template1</td>\n",
       "    <td align=\"left\">adminrole</td>\n",
       "    <td align=\"left\">UTF8</td>\n",
       "    <td align=\"left\">en_US.utf8</td>\n",
       "    <td align=\"left\">en_US.utf8</td>\n",
       "    <td align=\"left\">=c/adminrole<br />\n",
       "adminrole=CTc/adminrole</td>\n",
       "  </tr>\n",
       "  <tr valign=\"top\">\n",
       "    <td align=\"left\">template_postgis</td>\n",
       "    <td align=\"left\">adminrole</td>\n",
       "    <td align=\"left\">UTF8</td>\n",
       "    <td align=\"left\">en_US.utf8</td>\n",
       "    <td align=\"left\">en_US.utf8</td>\n",
       "    <td align=\"left\">&nbsp; </td>\n",
       "  </tr>\n",
       "</table>\n",
       "<p>(5 rows)<br />\n",
       "</p>\n"
      ],
      "text/plain": [
       "<IPython.core.display.HTML object>"
      ]
     },
     "metadata": {},
     "output_type": "display_data"
    },
    {
     "name": "stdout",
     "output_type": "stream",
     "text": [
      "\n"
     ]
    },
    {
     "data": {
      "text/html": [
       "psql (PostgreSQL) 13.11 (Debian 13.11-0+deb11u1)\n"
      ],
      "text/plain": [
       "<IPython.core.display.HTML object>"
      ]
     },
     "metadata": {},
     "output_type": "display_data"
    }
   ],
   "source": [
    "%psql -H -l\n",
    "%psql -H --version\n"
   ]
  },
  {
   "cell_type": "code",
   "execution_count": null,
   "id": "450608ab-caba-40dc-b029-214ad1596b3e",
   "metadata": {},
   "outputs": [],
   "source": []
  },
  {
   "cell_type": "code",
   "execution_count": null,
   "id": "61393142-1489-4338-8de6-b42a7502eef5",
   "metadata": {},
   "outputs": [],
   "source": []
  },
  {
   "cell_type": "code",
   "execution_count": 25,
   "id": "be4135eb-6d4e-45e5-b9bc-5c28d3c37392",
   "metadata": {},
   "outputs": [
    {
     "name": "stdout",
     "output_type": "stream",
     "text": [
      "psql: error: FATAL:  database \"postgis\" does not exist\n",
      "\n"
     ]
    },
    {
     "data": {
      "text/html": [],
      "text/plain": [
       "<IPython.core.display.HTML object>"
      ]
     },
     "metadata": {},
     "output_type": "display_data"
    }
   ],
   "source": [
    "%%psql -H\n",
    "\\d+ items\n",
    "\\d+ collections"
   ]
  },
  {
   "cell_type": "code",
   "execution_count": 26,
   "id": "504123a2",
   "metadata": {},
   "outputs": [
    {
     "name": "stdout",
     "output_type": "stream",
     "text": [
      "psql: error: FATAL:  database \"postgis\" does not exist\n",
      "\n"
     ]
    },
    {
     "data": {
      "text/html": [],
      "text/plain": [
       "<IPython.core.display.HTML object>"
      ]
     },
     "metadata": {},
     "output_type": "display_data"
    }
   ],
   "source": [
    "%%psql -H\n",
    "select search();"
   ]
  },
  {
   "cell_type": "markdown",
   "id": "413c6b98-1b7b-465d-bd4b-a1161b4f5ca8",
   "metadata": {},
   "source": [
    "## Install tools that will be used in this notebook. \n",
    "Note that you may need to restart the kernel after running this."
   ]
  },
  {
   "cell_type": "code",
   "execution_count": 27,
   "id": "8e3dbfa6-6529-4ca8-9265-e8cbe5ec4db8",
   "metadata": {},
   "outputs": [
    {
     "name": "stderr",
     "output_type": "stream",
     "text": [
      "UsageError: Cell magic `%%sql` not found.\n"
     ]
    }
   ],
   "source": [
    "%%sql\n",
    "select * from search();\n"
   ]
  },
  {
   "cell_type": "code",
   "execution_count": null,
   "id": "eece2521-0e00-453e-9a2f-bbdca1a61fe7",
   "metadata": {},
   "outputs": [],
   "source": []
  },
  {
   "cell_type": "code",
   "execution_count": null,
   "id": "501f8b45-a745-46ef-82da-f2fd97de8b50",
   "metadata": {},
   "outputs": [],
   "source": []
  },
  {
   "cell_type": "markdown",
   "id": "90fc4591-a4a0-49de-a9a0-676cd81f5d1f",
   "metadata": {},
   "source": [
    "Add a connection string to the database. This string is the default credentials for the docker pgstac instance shipped with pgstac."
   ]
  },
  {
   "cell_type": "code",
   "execution_count": 28,
   "id": "3460e6fa-df55-458a-b5d9-64c1d393a79f",
   "metadata": {},
   "outputs": [
    {
     "ename": "TypeError",
     "evalue": "HTML expects text, not []",
     "output_type": "error",
     "traceback": [
      "\u001b[0;31m---------------------------------------------------------------------------\u001b[0m",
      "\u001b[0;31mTypeError\u001b[0m                                 Traceback (most recent call last)",
      "Cell \u001b[0;32mIn[28], line 3\u001b[0m\n\u001b[1;32m      1\u001b[0m \u001b[38;5;28;01mfrom\u001b[39;00m \u001b[38;5;21;01mIPython\u001b[39;00m\u001b[38;5;21;01m.\u001b[39;00m\u001b[38;5;21;01mdisplay\u001b[39;00m \u001b[38;5;28;01mimport\u001b[39;00m display, HTML\n\u001b[1;32m      2\u001b[0m r\u001b[38;5;241m=\u001b[39mget_ipython()\u001b[38;5;241m.\u001b[39mgetoutput(\u001b[38;5;124m'\u001b[39m\u001b[38;5;124mpsql -H -c \u001b[39m\u001b[38;5;124m\"\u001b[39m\u001b[38;5;130;01m\\\\\u001b[39;00m\u001b[38;5;124md items\u001b[39m\u001b[38;5;124m\"\u001b[39m\u001b[38;5;124m'\u001b[39m)\n\u001b[0;32m----> 3\u001b[0m display(\u001b[43mHTML\u001b[49m\u001b[43m(\u001b[49m\u001b[43mr\u001b[49m\u001b[38;5;241;43m.\u001b[39;49m\u001b[43mp\u001b[49m\u001b[43m)\u001b[49m)\n",
      "File \u001b[0;32m/usr/local/lib/python3.9/site-packages/IPython/core/display.py:432\u001b[0m, in \u001b[0;36mHTML.__init__\u001b[0;34m(self, data, url, filename, metadata)\u001b[0m\n\u001b[1;32m    430\u001b[0m \u001b[38;5;28;01mif\u001b[39;00m warn():\n\u001b[1;32m    431\u001b[0m     warnings\u001b[38;5;241m.\u001b[39mwarn(\u001b[38;5;124m\"\u001b[39m\u001b[38;5;124mConsider using IPython.display.IFrame instead\u001b[39m\u001b[38;5;124m\"\u001b[39m)\n\u001b[0;32m--> 432\u001b[0m \u001b[38;5;28;43msuper\u001b[39;49m\u001b[43m(\u001b[49m\u001b[43mHTML\u001b[49m\u001b[43m,\u001b[49m\u001b[43m \u001b[49m\u001b[38;5;28;43mself\u001b[39;49m\u001b[43m)\u001b[49m\u001b[38;5;241;43m.\u001b[39;49m\u001b[38;5;21;43m__init__\u001b[39;49m\u001b[43m(\u001b[49m\u001b[43mdata\u001b[49m\u001b[38;5;241;43m=\u001b[39;49m\u001b[43mdata\u001b[49m\u001b[43m,\u001b[49m\u001b[43m \u001b[49m\u001b[43murl\u001b[49m\u001b[38;5;241;43m=\u001b[39;49m\u001b[43murl\u001b[49m\u001b[43m,\u001b[49m\u001b[43m \u001b[49m\u001b[43mfilename\u001b[49m\u001b[38;5;241;43m=\u001b[39;49m\u001b[43mfilename\u001b[49m\u001b[43m,\u001b[49m\u001b[43m \u001b[49m\u001b[43mmetadata\u001b[49m\u001b[38;5;241;43m=\u001b[39;49m\u001b[43mmetadata\u001b[49m\u001b[43m)\u001b[49m\n",
      "File \u001b[0;32m/usr/local/lib/python3.9/site-packages/IPython/core/display.py:328\u001b[0m, in \u001b[0;36mDisplayObject.__init__\u001b[0;34m(self, data, url, filename, metadata)\u001b[0m\n\u001b[1;32m    325\u001b[0m     \u001b[38;5;28mself\u001b[39m\u001b[38;5;241m.\u001b[39mmetadata \u001b[38;5;241m=\u001b[39m {}\n\u001b[1;32m    327\u001b[0m \u001b[38;5;28mself\u001b[39m\u001b[38;5;241m.\u001b[39mreload()\n\u001b[0;32m--> 328\u001b[0m \u001b[38;5;28;43mself\u001b[39;49m\u001b[38;5;241;43m.\u001b[39;49m\u001b[43m_check_data\u001b[49m\u001b[43m(\u001b[49m\u001b[43m)\u001b[49m\n",
      "File \u001b[0;32m/usr/local/lib/python3.9/site-packages/IPython/core/display.py:407\u001b[0m, in \u001b[0;36mTextDisplayObject._check_data\u001b[0;34m(self)\u001b[0m\n\u001b[1;32m    405\u001b[0m \u001b[38;5;28;01mdef\u001b[39;00m \u001b[38;5;21m_check_data\u001b[39m(\u001b[38;5;28mself\u001b[39m):\n\u001b[1;32m    406\u001b[0m     \u001b[38;5;28;01mif\u001b[39;00m \u001b[38;5;28mself\u001b[39m\u001b[38;5;241m.\u001b[39mdata \u001b[38;5;129;01mis\u001b[39;00m \u001b[38;5;129;01mnot\u001b[39;00m \u001b[38;5;28;01mNone\u001b[39;00m \u001b[38;5;129;01mand\u001b[39;00m \u001b[38;5;129;01mnot\u001b[39;00m \u001b[38;5;28misinstance\u001b[39m(\u001b[38;5;28mself\u001b[39m\u001b[38;5;241m.\u001b[39mdata, \u001b[38;5;28mstr\u001b[39m):\n\u001b[0;32m--> 407\u001b[0m         \u001b[38;5;28;01mraise\u001b[39;00m \u001b[38;5;167;01mTypeError\u001b[39;00m(\u001b[38;5;124m\"\u001b[39m\u001b[38;5;132;01m%s\u001b[39;00m\u001b[38;5;124m expects text, not \u001b[39m\u001b[38;5;132;01m%r\u001b[39;00m\u001b[38;5;124m\"\u001b[39m \u001b[38;5;241m%\u001b[39m (\u001b[38;5;28mself\u001b[39m\u001b[38;5;241m.\u001b[39m\u001b[38;5;18m__class__\u001b[39m\u001b[38;5;241m.\u001b[39m\u001b[38;5;18m__name__\u001b[39m, \u001b[38;5;28mself\u001b[39m\u001b[38;5;241m.\u001b[39mdata))\n",
      "\u001b[0;31mTypeError\u001b[0m: HTML expects text, not []"
     ]
    }
   ],
   "source": [
    "from IPython.display import display, HTML\n",
    "r=!psql -H -c \"\\d items\"\n",
    "display(HTML(r.p))\n"
   ]
  },
  {
   "cell_type": "code",
   "execution_count": 29,
   "id": "2b1a32b0-36ff-4948-bd60-020fb4b8c6b8",
   "metadata": {},
   "outputs": [
    {
     "name": "stderr",
     "output_type": "stream",
     "text": [
      "WARNING:psycopg.pool:error connecting in 'pool-1': connection failed: FATAL:  database \"postgis\" does not exist\n",
      "WARNING:psycopg.pool:error connecting in 'pool-1': connection failed: FATAL:  database \"postgis\" does not exist\n",
      "WARNING:psycopg.pool:error connecting in 'pool-1': connection failed: FATAL:  database \"postgis\" does not exist\n",
      "WARNING:psycopg.pool:error connecting in 'pool-1': connection failed: FATAL:  database \"postgis\" does not exist\n",
      "WARNING:psycopg.pool:error connecting in 'pool-1': connection failed: FATAL:  database \"postgis\" does not exist\n"
     ]
    },
    {
     "ename": "PoolTimeout",
     "evalue": "couldn't get a connection after 30.0 sec",
     "output_type": "error",
     "traceback": [
      "\u001b[0;31m---------------------------------------------------------------------------\u001b[0m",
      "\u001b[0;31mPoolTimeout\u001b[0m                               Traceback (most recent call last)",
      "Cell \u001b[0;32mIn[29], line 2\u001b[0m\n\u001b[1;32m      1\u001b[0m \u001b[38;5;28;01mfrom\u001b[39;00m \u001b[38;5;21;01mpypgstac\u001b[39;00m\u001b[38;5;21;01m.\u001b[39;00m\u001b[38;5;21;01mdb\u001b[39;00m \u001b[38;5;28;01mimport\u001b[39;00m PgstacDB\n\u001b[0;32m----> 2\u001b[0m \u001b[38;5;28;01mwith\u001b[39;00m PgstacDB(debug\u001b[38;5;241m=\u001b[39m\u001b[38;5;28;01mTrue\u001b[39;00m) \u001b[38;5;28;01mas\u001b[39;00m db:\n\u001b[1;32m      3\u001b[0m     \u001b[38;5;28mprint\u001b[39m(db\u001b[38;5;241m.\u001b[39msearch())\n",
      "File \u001b[0;32m/usr/local/lib/python3.9/site-packages/pypgstac/db.py:160\u001b[0m, in \u001b[0;36mPgstacDB.__enter__\u001b[0;34m(self)\u001b[0m\n\u001b[1;32m    158\u001b[0m \u001b[38;5;28;01mdef\u001b[39;00m \u001b[38;5;21m__enter__\u001b[39m(\u001b[38;5;28mself\u001b[39m) \u001b[38;5;241m-\u001b[39m\u001b[38;5;241m>\u001b[39m Any:\n\u001b[1;32m    159\u001b[0m \u001b[38;5;250m    \u001b[39m\u001b[38;5;124;03m\"\"\"Enter used for context.\"\"\"\u001b[39;00m\n\u001b[0;32m--> 160\u001b[0m     \u001b[38;5;28;43mself\u001b[39;49m\u001b[38;5;241;43m.\u001b[39;49m\u001b[43mconnect\u001b[49m\u001b[43m(\u001b[49m\u001b[43m)\u001b[49m\n\u001b[1;32m    161\u001b[0m     \u001b[38;5;28;01mreturn\u001b[39;00m \u001b[38;5;28mself\u001b[39m\n",
      "File \u001b[0;32m/usr/local/lib/python3.9/site-packages/pypgstac/db.py:101\u001b[0m, in \u001b[0;36mPgstacDB.connect\u001b[0;34m(self)\u001b[0m\n\u001b[1;32m     99\u001b[0m pool \u001b[38;5;241m=\u001b[39m \u001b[38;5;28mself\u001b[39m\u001b[38;5;241m.\u001b[39mget_pool()\n\u001b[1;32m    100\u001b[0m \u001b[38;5;28;01mif\u001b[39;00m \u001b[38;5;28mself\u001b[39m\u001b[38;5;241m.\u001b[39mconnection \u001b[38;5;129;01mis\u001b[39;00m \u001b[38;5;28;01mNone\u001b[39;00m:\n\u001b[0;32m--> 101\u001b[0m     \u001b[38;5;28mself\u001b[39m\u001b[38;5;241m.\u001b[39mconnection \u001b[38;5;241m=\u001b[39m \u001b[43mpool\u001b[49m\u001b[38;5;241;43m.\u001b[39;49m\u001b[43mgetconn\u001b[49m\u001b[43m(\u001b[49m\u001b[43m)\u001b[49m\n\u001b[1;32m    102\u001b[0m     \u001b[38;5;28mself\u001b[39m\u001b[38;5;241m.\u001b[39mconnection\u001b[38;5;241m.\u001b[39mautocommit \u001b[38;5;241m=\u001b[39m \u001b[38;5;28;01mTrue\u001b[39;00m\n\u001b[1;32m    103\u001b[0m     \u001b[38;5;28;01mif\u001b[39;00m \u001b[38;5;28mself\u001b[39m\u001b[38;5;241m.\u001b[39mdebug:\n",
      "File \u001b[0;32m/usr/local/lib/python3.9/site-packages/psycopg_pool/pool.py:182\u001b[0m, in \u001b[0;36mConnectionPool.getconn\u001b[0;34m(self, timeout)\u001b[0m\n\u001b[1;32m    180\u001b[0m     timeout \u001b[38;5;241m=\u001b[39m \u001b[38;5;28mself\u001b[39m\u001b[38;5;241m.\u001b[39mtimeout\n\u001b[1;32m    181\u001b[0m \u001b[38;5;28;01mtry\u001b[39;00m:\n\u001b[0;32m--> 182\u001b[0m     conn \u001b[38;5;241m=\u001b[39m \u001b[43mpos\u001b[49m\u001b[38;5;241;43m.\u001b[39;49m\u001b[43mwait\u001b[49m\u001b[43m(\u001b[49m\u001b[43mtimeout\u001b[49m\u001b[38;5;241;43m=\u001b[39;49m\u001b[43mtimeout\u001b[49m\u001b[43m)\u001b[49m\n\u001b[1;32m    183\u001b[0m \u001b[38;5;28;01mexcept\u001b[39;00m \u001b[38;5;167;01mException\u001b[39;00m:\n\u001b[1;32m    184\u001b[0m     \u001b[38;5;28mself\u001b[39m\u001b[38;5;241m.\u001b[39m_stats[\u001b[38;5;28mself\u001b[39m\u001b[38;5;241m.\u001b[39m_REQUESTS_ERRORS] \u001b[38;5;241m+\u001b[39m\u001b[38;5;241m=\u001b[39m \u001b[38;5;241m1\u001b[39m\n",
      "File \u001b[0;32m/usr/local/lib/python3.9/site-packages/psycopg_pool/pool.py:754\u001b[0m, in \u001b[0;36mWaitingClient.wait\u001b[0;34m(self, timeout)\u001b[0m\n\u001b[1;32m    752\u001b[0m \u001b[38;5;28;01melse\u001b[39;00m:\n\u001b[1;32m    753\u001b[0m     \u001b[38;5;28;01massert\u001b[39;00m \u001b[38;5;28mself\u001b[39m\u001b[38;5;241m.\u001b[39merror\n\u001b[0;32m--> 754\u001b[0m     \u001b[38;5;28;01mraise\u001b[39;00m \u001b[38;5;28mself\u001b[39m\u001b[38;5;241m.\u001b[39merror\n",
      "\u001b[0;31mPoolTimeout\u001b[0m: couldn't get a connection after 30.0 sec"
     ]
    }
   ],
   "source": [
    "from pypgstac.db import PgstacDB\n",
    "with PgstacDB(debug=True) as db:\n",
    "    print(db.search())\n"
   ]
  },
  {
   "cell_type": "code",
   "execution_count": null,
   "id": "0db5bd02-25d6-4512-b6bf-181ebdc3a67d",
   "metadata": {},
   "outputs": [],
   "source": [
    "test=!psql -H -c \"\\d items\"\n",
    "%html test\n"
   ]
  },
  {
   "cell_type": "code",
   "execution_count": null,
   "id": "5430a08a-065b-4f46-97e8-c117b15e2005",
   "metadata": {},
   "outputs": [],
   "source": [
    "%%html\n",
    "<b>test</b>"
   ]
  },
  {
   "cell_type": "code",
   "execution_count": null,
   "id": "091edce1-533e-47e8-adff-bc623c345e90",
   "metadata": {},
   "outputs": [],
   "source": [
    "query=orjson.dumps({\"limit\":1})\n",
    "%%script psql\n",
    "set client_min_messages to notice;\n",
    "select search('{query}');"
   ]
  },
  {
   "cell_type": "code",
   "execution_count": null,
   "id": "7c2754c2-4b64-47e9-a88c-a12ff0ba4f03",
   "metadata": {},
   "outputs": [],
   "source": [
    "from __future__ import print_function\n",
    "import argparse\n",
    "import shlex\n",
    "\n",
    "from IPython import get_ipython\n",
    "from IPython.core.magic import register_line_cell_magic\n",
    "from IPython.display import display, HTML, JSON\n",
    "from subprocess import Popen, PIPE\n",
    "from IPython.core.magic_arguments import (argument, magic_arguments,\n",
    "    parse_argstring, construct_parser)\n",
    "import shlex\n",
    "import orjson\n",
    "import io \n",
    "\n",
    "@magic_arguments()\n",
    "@argument('-H', '--html', required=False, action=\"store_true\", help='Display using HTML.')\n",
    "@argument('-c', '--command', required=False, nargs=\"*\", help='Run Command.')\n",
    "@argument('-d', '--debug', required=False, action=\"store_true\", help='SET CLIENT_MIN_MESSAGES TO NOTICE;')\n",
    "@argument('-j', '--json', required=False, action=\"store_true\",  help='Display using json.')\n",
    "@argument('args', nargs=argparse.REMAINDER, help='SQL to run')\n",
    "@register_line_cell_magic\n",
    "def psql(line = None, cell = None):\n",
    "    print(line, cell)\n",
    "    parser = construct_parser(psql)\n",
    "    psqlargs = shlex.split(line) or []\n",
    "    try:\n",
    "        args, unknown = parser.parse_known_args(psqlargs)\n",
    "        print(args, unknown)\n",
    "        # args = parse_argstring(psql, line)\n",
    "        print(args)\n",
    "        html=args.html\n",
    "        \n",
    "    except Exception as e:\n",
    "        html=False\n",
    "        print(e)\n",
    "    if cell:\n",
    "        psqlargs += ['-f', '/dev/stdin']\n",
    "    else:\n",
    "        cell = ''\n",
    "    print(psqlargs)\n",
    "    r = Popen(['psql', *psqlargs], stdin=PIPE, stdout=PIPE, stderr=PIPE)\n",
    "    out, err = r.communicate(input=cell.encode())\n",
    "    print(err.decode())\n",
    "    if '-H' in psqlargs:\n",
    "        display(HTML(out.decode()))\n",
    "    elif '-t' in psqlargs:\n",
    "        print(f\"OUTJSON: {out}\")\n",
    "        for l in io.BytesIO(out).readlines():\n",
    "            try:\n",
    "                display(JSON(orjson.loads(l)))\n",
    "                return orjson.loads(l)\n",
    "            except:\n",
    "                return display(l)\n",
    "    else:\n",
    "        print(out.decode())\n"
   ]
  },
  {
   "cell_type": "code",
   "execution_count": null,
   "id": "9bf4d5f8-cb62-448b-8a62-572a669f9567",
   "metadata": {},
   "outputs": [],
   "source": [
    "%%psql -H -x -c \"select 'abc'\";\n",
    "select * from search();\n",
    "select * from queryables limit 3;\n"
   ]
  },
  {
   "cell_type": "code",
   "execution_count": null,
   "id": "8a28575e-3414-483c-9a0e-61aebe235b6c",
   "metadata": {},
   "outputs": [],
   "source": [
    "j=%psql -A -t -c \"SELECT * FROM search();\"\n",
    "print(j)"
   ]
  },
  {
   "cell_type": "code",
   "execution_count": null,
   "id": "2c4f9a79-71c0-4798-b5b8-45b54e7ed0c6",
   "metadata": {},
   "outputs": [],
   "source": [
    "%psql -H -c \"select 1,2,3\"\n"
   ]
  },
  {
   "cell_type": "code",
   "execution_count": null,
   "id": "af742c53-06fe-4517-9d59-3af4968575ae",
   "metadata": {},
   "outputs": [],
   "source": [
    "!psql -H\n",
    "\\d+ items"
   ]
  },
  {
   "cell_type": "code",
   "execution_count": null,
   "id": "e8862bd1-368c-4d01-b882-0a2169a22e77",
   "metadata": {},
   "outputs": [
    {
     "name": "stderr",
     "output_type": "stream",
     "text": [
      "WARNING:psycopg.pool:error connecting in 'pool-1': connection failed: FATAL:  database \"postgis\" does not exist\n",
      "WARNING:psycopg.pool:error connecting in 'pool-1': connection failed: FATAL:  database \"postgis\" does not exist\n",
      "WARNING:psycopg.pool:error connecting in 'pool-1': connection failed: FATAL:  database \"postgis\" does not exist\n",
      "WARNING:psycopg.pool:error connecting in 'pool-1': connection failed: FATAL:  database \"postgis\" does not exist\n",
      "WARNING:psycopg.pool:error connecting in 'pool-1': connection failed: FATAL:  database \"postgis\" does not exist\n",
      "WARNING:psycopg.pool:reconnection attempt in pool 'pool-1' failed after 300.0 sec\n"
     ]
    }
   ],
   "source": [
    "%%psql -H\n",
    "\\d+ items\n"
   ]
  },
  {
   "cell_type": "code",
   "execution_count": null,
   "id": "77877e9d-6b9d-49aa-9304-b6be334c725d",
   "metadata": {},
   "outputs": [],
   "source": []
  },
  {
   "cell_type": "code",
   "execution_count": null,
   "id": "4a2871d7-d314-424f-bee0-9b50568fa085",
   "metadata": {},
   "outputs": [],
   "source": []
  },
  {
   "cell_type": "code",
   "execution_count": null,
   "id": "089a17d9-7eaa-4e58-8836-18d7fbddc088",
   "metadata": {},
   "outputs": [],
   "source": []
  },
  {
   "cell_type": "code",
   "execution_count": null,
   "id": "915858d7-3838-4062-b256-58753d2b8f29",
   "metadata": {},
   "outputs": [],
   "source": []
  },
  {
   "cell_type": "code",
   "execution_count": null,
   "id": "b112f076-15ea-47e8-b7a8-5c15505489d4",
   "metadata": {},
   "outputs": [],
   "source": []
  },
  {
   "cell_type": "code",
   "execution_count": null,
   "id": "0dfab9d4-42a1-43dc-9254-c015ef984ad1",
   "metadata": {},
   "outputs": [],
   "source": []
  },
  {
   "cell_type": "code",
   "execution_count": null,
   "id": "d7feaf36-e294-4bbf-8f4c-4a117bce47b6",
   "metadata": {},
   "outputs": [],
   "source": []
  },
  {
   "cell_type": "code",
   "execution_count": null,
   "id": "eb18e2d2-887e-4e8e-a243-39c69e0c7646",
   "metadata": {},
   "outputs": [],
   "source": []
  },
  {
   "cell_type": "code",
   "execution_count": null,
   "id": "83c55d8d-74c5-4c54-93e3-e81515330ebe",
   "metadata": {},
   "outputs": [],
   "source": []
  },
  {
   "cell_type": "code",
   "execution_count": null,
   "id": "c81924bf-973f-4799-abd0-a1416c699f95",
   "metadata": {},
   "outputs": [],
   "source": []
  },
  {
   "cell_type": "code",
   "execution_count": null,
   "id": "b67aa35a-aaa0-47f7-bb7f-609fcf5cb6bd",
   "metadata": {},
   "outputs": [],
   "source": []
  },
  {
   "cell_type": "code",
   "execution_count": null,
   "id": "e99f6e6d-fc44-413d-b178-584bdeaf0b30",
   "metadata": {},
   "outputs": [],
   "source": []
  },
  {
   "cell_type": "code",
   "execution_count": null,
   "id": "211b4226-2ce4-4196-812d-95bc699dd392",
   "metadata": {},
   "outputs": [],
   "source": []
  },
  {
   "cell_type": "code",
   "execution_count": null,
   "id": "f7e9ab7d-8b68-4499-b5d9-3e3ffefc61c7",
   "metadata": {},
   "outputs": [],
   "source": []
  },
  {
   "cell_type": "code",
   "execution_count": null,
   "id": "d8c79db5-bc2c-4003-86ed-8153b560c150",
   "metadata": {},
   "outputs": [],
   "source": []
  },
  {
   "cell_type": "code",
   "execution_count": null,
   "id": "d38541e1-0672-42d6-bacb-f76a3c6a378d",
   "metadata": {},
   "outputs": [],
   "source": []
  }
 ],
 "metadata": {
  "kernelspec": {
   "display_name": "Python 3 (ipykernel)",
   "language": "python",
   "name": "python3"
  },
  "language_info": {
   "codemirror_mode": {
    "name": "ipython",
    "version": 3
   },
   "file_extension": ".py",
   "mimetype": "text/x-python",
   "name": "python",
   "nbconvert_exporter": "python",
   "pygments_lexer": "ipython3",
   "version": "3.9.18"
  }
 },
 "nbformat": 4,
 "nbformat_minor": 5
}
